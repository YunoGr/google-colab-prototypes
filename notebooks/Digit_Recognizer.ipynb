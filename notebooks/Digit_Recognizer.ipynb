{
  "cells": [
    {
      "cell_type": "markdown",
      "metadata": {
        "id": "view-in-github",
        "colab_type": "text"
      },
      "source": [
        "<a href=\"https://colab.research.google.com/github/YunoGr/google-colab-prototypes/blob/main/notebooks/Digit_Recognizer.ipynb\" target=\"_parent\"><img src=\"https://colab.research.google.com/assets/colab-badge.svg\" alt=\"Open In Colab\"/></a>"
      ]
    },
    {
      "cell_type": "markdown",
      "metadata": {
        "id": "0069ceb6"
      },
      "source": [
        "## Digit Recognizer\n",
        "This notebook implements a neural network model to recognize handwritten digits from the Kaggle Digit Recognizer competition.\n",
        "https://www.kaggle.com/competitions/digit-recognizer/overview\n",
        "\n",
        "**Author:** Pape Malick DIOP"
      ]
    },
    {
      "cell_type": "markdown",
      "metadata": {
        "id": "6236d82c"
      },
      "source": [
        "## Importing Libraries\n",
        "\n",
        "Here, we import the necessary libraries for our digit recognition project. These include libraries for data handling, visualization, and building our neural network with PyTorch."
      ]
    },
    {
      "cell_type": "code",
      "execution_count": null,
      "metadata": {
        "colab": {
          "background_save": true
        },
        "id": "BNy897m3swgD"
      },
      "outputs": [],
      "source": [
        "# Data handling\n",
        "import pandas as pd\n",
        "import numpy as np\n",
        "\n",
        "# Visualization tools\n",
        "import torchvision\n",
        "# import torchvision.transforms.v2 as transforms\n",
        "import torchvision.transforms.functional as F\n",
        "import matplotlib.pyplot as plt\n",
        "import seaborn as sns\n",
        "\n",
        "# PyTorch kit\n",
        "import torch\n",
        "import torch.nn as nn\n",
        "import torch.optim as optim\n",
        "from torch.utils.data import DataLoader, Dataset\n",
        "from torchvision import transforms, utils"
      ]
    },
    {
      "cell_type": "markdown",
      "metadata": {
        "id": "6794d195"
      },
      "source": [
        "## Data Loading and Initial Exploration\n",
        "\n",
        "The datasets for this competition are stored in CSV files. We'll load them into pandas DataFrames for easy manipulation.\n",
        "\n",
        "First, we mount Google Drive to access the files."
      ]
    },
    {
      "cell_type": "code",
      "execution_count": null,
      "metadata": {
        "colab": {
          "base_uri": "https://localhost:8080/"
        },
        "id": "HD380moFAZNK",
        "outputId": "666f7ccd-e7a2-4123-9b24-e1ec1d0a0071"
      },
      "outputs": [
        {
          "name": "stdout",
          "output_type": "stream",
          "text": [
            "Mounted at /content/drive\n"
          ]
        }
      ],
      "source": [
        "from google.colab import drive\n",
        "\n",
        "# To mount Google Drive\n",
        "drive.mount('/content/drive')\n",
        "\n",
        "project_path = \"/content/drive/MyDrive/PyTorch projects/Digit Recognizer - Kaggle\"\n"
      ]
    },
    {
      "cell_type": "markdown",
      "metadata": {
        "id": "78ed3294"
      },
      "source": [
        "Now, we load the training and test datasets from the specified path."
      ]
    },
    {
      "cell_type": "code",
      "execution_count": null,
      "metadata": {
        "id": "JCyokb0YE2ve"
      },
      "outputs": [],
      "source": [
        "train_df = pd.read_csv(project_path + \"/train.csv\")\n",
        "test_df = pd.read_csv(project_path + \"/test.csv\")"
      ]
    },
    {
      "cell_type": "markdown",
      "metadata": {
        "id": "cf31bb9c"
      },
      "source": [
        "## Initial Data Exploration\n",
        "\n",
        "Before diving into preprocessing, let's inspect the dimensions of our datasets and take a peek at the first few rows. This helps us understand the data structure and the features available."
      ]
    },
    {
      "cell_type": "code",
      "execution_count": null,
      "metadata": {
        "colab": {
          "base_uri": "https://localhost:8080/",
          "height": 273
        },
        "id": "5455575b",
        "outputId": "ee1f5244-0f3c-43de-e5ce-bca6084f874c"
      },
      "outputs": [
        {
          "name": "stdout",
          "output_type": "stream",
          "text": [
            "(42000, 785)\n"
          ]
        },
        {
          "data": {
            "application/vnd.google.colaboratory.intrinsic+json": {
              "type": "dataframe",
              "variable_name": "train_df"
            },
            "text/html": [
              "\n",
              "  <div id=\"df-fd6e0326-a789-491e-ac2f-445fe27a24fe\" class=\"colab-df-container\">\n",
              "    <div>\n",
              "<style scoped>\n",
              "    .dataframe tbody tr th:only-of-type {\n",
              "        vertical-align: middle;\n",
              "    }\n",
              "\n",
              "    .dataframe tbody tr th {\n",
              "        vertical-align: top;\n",
              "    }\n",
              "\n",
              "    .dataframe thead th {\n",
              "        text-align: right;\n",
              "    }\n",
              "</style>\n",
              "<table border=\"1\" class=\"dataframe\">\n",
              "  <thead>\n",
              "    <tr style=\"text-align: right;\">\n",
              "      <th></th>\n",
              "      <th>label</th>\n",
              "      <th>pixel0</th>\n",
              "      <th>pixel1</th>\n",
              "      <th>pixel2</th>\n",
              "      <th>pixel3</th>\n",
              "      <th>pixel4</th>\n",
              "      <th>pixel5</th>\n",
              "      <th>pixel6</th>\n",
              "      <th>pixel7</th>\n",
              "      <th>pixel8</th>\n",
              "      <th>...</th>\n",
              "      <th>pixel774</th>\n",
              "      <th>pixel775</th>\n",
              "      <th>pixel776</th>\n",
              "      <th>pixel777</th>\n",
              "      <th>pixel778</th>\n",
              "      <th>pixel779</th>\n",
              "      <th>pixel780</th>\n",
              "      <th>pixel781</th>\n",
              "      <th>pixel782</th>\n",
              "      <th>pixel783</th>\n",
              "    </tr>\n",
              "  </thead>\n",
              "  <tbody>\n",
              "    <tr>\n",
              "      <th>0</th>\n",
              "      <td>1</td>\n",
              "      <td>0</td>\n",
              "      <td>0</td>\n",
              "      <td>0</td>\n",
              "      <td>0</td>\n",
              "      <td>0</td>\n",
              "      <td>0</td>\n",
              "      <td>0</td>\n",
              "      <td>0</td>\n",
              "      <td>0</td>\n",
              "      <td>...</td>\n",
              "      <td>0</td>\n",
              "      <td>0</td>\n",
              "      <td>0</td>\n",
              "      <td>0</td>\n",
              "      <td>0</td>\n",
              "      <td>0</td>\n",
              "      <td>0</td>\n",
              "      <td>0</td>\n",
              "      <td>0</td>\n",
              "      <td>0</td>\n",
              "    </tr>\n",
              "    <tr>\n",
              "      <th>1</th>\n",
              "      <td>0</td>\n",
              "      <td>0</td>\n",
              "      <td>0</td>\n",
              "      <td>0</td>\n",
              "      <td>0</td>\n",
              "      <td>0</td>\n",
              "      <td>0</td>\n",
              "      <td>0</td>\n",
              "      <td>0</td>\n",
              "      <td>0</td>\n",
              "      <td>...</td>\n",
              "      <td>0</td>\n",
              "      <td>0</td>\n",
              "      <td>0</td>\n",
              "      <td>0</td>\n",
              "      <td>0</td>\n",
              "      <td>0</td>\n",
              "      <td>0</td>\n",
              "      <td>0</td>\n",
              "      <td>0</td>\n",
              "      <td>0</td>\n",
              "    </tr>\n",
              "    <tr>\n",
              "      <th>2</th>\n",
              "      <td>1</td>\n",
              "      <td>0</td>\n",
              "      <td>0</td>\n",
              "      <td>0</td>\n",
              "      <td>0</td>\n",
              "      <td>0</td>\n",
              "      <td>0</td>\n",
              "      <td>0</td>\n",
              "      <td>0</td>\n",
              "      <td>0</td>\n",
              "      <td>...</td>\n",
              "      <td>0</td>\n",
              "      <td>0</td>\n",
              "      <td>0</td>\n",
              "      <td>0</td>\n",
              "      <td>0</td>\n",
              "      <td>0</td>\n",
              "      <td>0</td>\n",
              "      <td>0</td>\n",
              "      <td>0</td>\n",
              "      <td>0</td>\n",
              "    </tr>\n",
              "    <tr>\n",
              "      <th>3</th>\n",
              "      <td>4</td>\n",
              "      <td>0</td>\n",
              "      <td>0</td>\n",
              "      <td>0</td>\n",
              "      <td>0</td>\n",
              "      <td>0</td>\n",
              "      <td>0</td>\n",
              "      <td>0</td>\n",
              "      <td>0</td>\n",
              "      <td>0</td>\n",
              "      <td>...</td>\n",
              "      <td>0</td>\n",
              "      <td>0</td>\n",
              "      <td>0</td>\n",
              "      <td>0</td>\n",
              "      <td>0</td>\n",
              "      <td>0</td>\n",
              "      <td>0</td>\n",
              "      <td>0</td>\n",
              "      <td>0</td>\n",
              "      <td>0</td>\n",
              "    </tr>\n",
              "    <tr>\n",
              "      <th>4</th>\n",
              "      <td>0</td>\n",
              "      <td>0</td>\n",
              "      <td>0</td>\n",
              "      <td>0</td>\n",
              "      <td>0</td>\n",
              "      <td>0</td>\n",
              "      <td>0</td>\n",
              "      <td>0</td>\n",
              "      <td>0</td>\n",
              "      <td>0</td>\n",
              "      <td>...</td>\n",
              "      <td>0</td>\n",
              "      <td>0</td>\n",
              "      <td>0</td>\n",
              "      <td>0</td>\n",
              "      <td>0</td>\n",
              "      <td>0</td>\n",
              "      <td>0</td>\n",
              "      <td>0</td>\n",
              "      <td>0</td>\n",
              "      <td>0</td>\n",
              "    </tr>\n",
              "  </tbody>\n",
              "</table>\n",
              "<p>5 rows × 785 columns</p>\n",
              "</div>\n",
              "    <div class=\"colab-df-buttons\">\n",
              "\n",
              "  <div class=\"colab-df-container\">\n",
              "    <button class=\"colab-df-convert\" onclick=\"convertToInteractive('df-fd6e0326-a789-491e-ac2f-445fe27a24fe')\"\n",
              "            title=\"Convert this dataframe to an interactive table.\"\n",
              "            style=\"display:none;\">\n",
              "\n",
              "  <svg xmlns=\"http://www.w3.org/2000/svg\" height=\"24px\" viewBox=\"0 -960 960 960\">\n",
              "    <path d=\"M120-120v-720h720v720H120Zm60-500h600v-160H180v160Zm220 220h160v-160H400v160Zm0 220h160v-160H400v160ZM180-400h160v-160H180v160Zm440 0h160v-160H620v160ZM180-180h160v-160H180v160Zm440 0h160v-160H620v160Z\"/>\n",
              "  </svg>\n",
              "    </button>\n",
              "\n",
              "  <style>\n",
              "    .colab-df-container {\n",
              "      display:flex;\n",
              "      gap: 12px;\n",
              "    }\n",
              "\n",
              "    .colab-df-convert {\n",
              "      background-color: #E8F0FE;\n",
              "      border: none;\n",
              "      border-radius: 50%;\n",
              "      cursor: pointer;\n",
              "      display: none;\n",
              "      fill: #1967D2;\n",
              "      height: 32px;\n",
              "      padding: 0 0 0 0;\n",
              "      width: 32px;\n",
              "    }\n",
              "\n",
              "    .colab-df-convert:hover {\n",
              "      background-color: #E2EBFA;\n",
              "      box-shadow: 0px 1px 2px rgba(60, 64, 67, 0.3), 0px 1px 3px 1px rgba(60, 64, 67, 0.15);\n",
              "      fill: #174EA6;\n",
              "    }\n",
              "\n",
              "    .colab-df-buttons div {\n",
              "      margin-bottom: 4px;\n",
              "    }\n",
              "\n",
              "    [theme=dark] .colab-df-convert {\n",
              "      background-color: #3B4455;\n",
              "      fill: #D2E3FC;\n",
              "    }\n",
              "\n",
              "    [theme=dark] .colab-df-convert:hover {\n",
              "      background-color: #434B5C;\n",
              "      box-shadow: 0px 1px 3px 1px rgba(0, 0, 0, 0.15);\n",
              "      filter: drop-shadow(0px 1px 2px rgba(0, 0, 0, 0.3));\n",
              "      fill: #FFFFFF;\n",
              "    }\n",
              "  </style>\n",
              "\n",
              "    <script>\n",
              "      const buttonEl =\n",
              "        document.querySelector('#df-fd6e0326-a789-491e-ac2f-445fe27a24fe button.colab-df-convert');\n",
              "      buttonEl.style.display =\n",
              "        google.colab.kernel.accessAllowed ? 'block' : 'none';\n",
              "\n",
              "      async function convertToInteractive(key) {\n",
              "        const element = document.querySelector('#df-fd6e0326-a789-491e-ac2f-445fe27a24fe');\n",
              "        const dataTable =\n",
              "          await google.colab.kernel.invokeFunction('convertToInteractive',\n",
              "                                                    [key], {});\n",
              "        if (!dataTable) return;\n",
              "\n",
              "        const docLinkHtml = 'Like what you see? Visit the ' +\n",
              "          '<a target=\"_blank\" href=https://colab.research.google.com/notebooks/data_table.ipynb>data table notebook</a>'\n",
              "          + ' to learn more about interactive tables.';\n",
              "        element.innerHTML = '';\n",
              "        dataTable['output_type'] = 'display_data';\n",
              "        await google.colab.output.renderOutput(dataTable, element);\n",
              "        const docLink = document.createElement('div');\n",
              "        docLink.innerHTML = docLinkHtml;\n",
              "        element.appendChild(docLink);\n",
              "      }\n",
              "    </script>\n",
              "  </div>\n",
              "\n",
              "\n",
              "    <div id=\"df-f22325a2-8189-4943-b0a9-20c7cfe4bae3\">\n",
              "      <button class=\"colab-df-quickchart\" onclick=\"quickchart('df-f22325a2-8189-4943-b0a9-20c7cfe4bae3')\"\n",
              "                title=\"Suggest charts\"\n",
              "                style=\"display:none;\">\n",
              "\n",
              "<svg xmlns=\"http://www.w3.org/2000/svg\" height=\"24px\"viewBox=\"0 0 24 24\"\n",
              "     width=\"24px\">\n",
              "    <g>\n",
              "        <path d=\"M19 3H5c-1.1 0-2 .9-2 2v14c0 1.1.9 2 2 2h14c1.1 0 2-.9 2-2V5c0-1.1-.9-2-2-2zM9 17H7v-7h2v7zm4 0h-2V7h2v10zm4 0h-2v-4h2v4z\"/>\n",
              "    </g>\n",
              "</svg>\n",
              "      </button>\n",
              "\n",
              "<style>\n",
              "  .colab-df-quickchart {\n",
              "      --bg-color: #E8F0FE;\n",
              "      --fill-color: #1967D2;\n",
              "      --hover-bg-color: #E2EBFA;\n",
              "      --hover-fill-color: #174EA6;\n",
              "      --disabled-fill-color: #AAA;\n",
              "      --disabled-bg-color: #DDD;\n",
              "  }\n",
              "\n",
              "  [theme=dark] .colab-df-quickchart {\n",
              "      --bg-color: #3B4455;\n",
              "      --fill-color: #D2E3FC;\n",
              "      --hover-bg-color: #434B5C;\n",
              "      --hover-fill-color: #FFFFFF;\n",
              "      --disabled-bg-color: #3B4455;\n",
              "      --disabled-fill-color: #666;\n",
              "  }\n",
              "\n",
              "  .colab-df-quickchart {\n",
              "    background-color: var(--bg-color);\n",
              "    border: none;\n",
              "    border-radius: 50%;\n",
              "    cursor: pointer;\n",
              "    display: none;\n",
              "    fill: var(--fill-color);\n",
              "    height: 32px;\n",
              "    padding: 0;\n",
              "    width: 32px;\n",
              "  }\n",
              "\n",
              "  .colab-df-quickchart:hover {\n",
              "    background-color: var(--hover-bg-color);\n",
              "    box-shadow: 0 1px 2px rgba(60, 64, 67, 0.3), 0 1px 3px 1px rgba(60, 64, 67, 0.15);\n",
              "    fill: var(--button-hover-fill-color);\n",
              "  }\n",
              "\n",
              "  .colab-df-quickchart-complete:disabled,\n",
              "  .colab-df-quickchart-complete:disabled:hover {\n",
              "    background-color: var(--disabled-bg-color);\n",
              "    fill: var(--disabled-fill-color);\n",
              "    box-shadow: none;\n",
              "  }\n",
              "\n",
              "  .colab-df-spinner {\n",
              "    border: 2px solid var(--fill-color);\n",
              "    border-color: transparent;\n",
              "    border-bottom-color: var(--fill-color);\n",
              "    animation:\n",
              "      spin 1s steps(1) infinite;\n",
              "  }\n",
              "\n",
              "  @keyframes spin {\n",
              "    0% {\n",
              "      border-color: transparent;\n",
              "      border-bottom-color: var(--fill-color);\n",
              "      border-left-color: var(--fill-color);\n",
              "    }\n",
              "    20% {\n",
              "      border-color: transparent;\n",
              "      border-left-color: var(--fill-color);\n",
              "      border-top-color: var(--fill-color);\n",
              "    }\n",
              "    30% {\n",
              "      border-color: transparent;\n",
              "      border-left-color: var(--fill-color);\n",
              "      border-top-color: var(--fill-color);\n",
              "      border-right-color: var(--fill-color);\n",
              "    }\n",
              "    40% {\n",
              "      border-color: transparent;\n",
              "      border-right-color: var(--fill-color);\n",
              "      border-top-color: var(--fill-color);\n",
              "    }\n",
              "    60% {\n",
              "      border-color: transparent;\n",
              "      border-right-color: var(--fill-color);\n",
              "    }\n",
              "    80% {\n",
              "      border-color: transparent;\n",
              "      border-right-color: var(--fill-color);\n",
              "      border-bottom-color: var(--fill-color);\n",
              "    }\n",
              "    90% {\n",
              "      border-color: transparent;\n",
              "      border-bottom-color: var(--fill-color);\n",
              "    }\n",
              "  }\n",
              "</style>\n",
              "\n",
              "      <script>\n",
              "        async function quickchart(key) {\n",
              "          const quickchartButtonEl =\n",
              "            document.querySelector('#' + key + ' button');\n",
              "          quickchartButtonEl.disabled = true;  // To prevent multiple clicks.\n",
              "          quickchartButtonEl.classList.add('colab-df-spinner');\n",
              "          try {\n",
              "            const charts = await google.colab.kernel.invokeFunction(\n",
              "                'suggestCharts', [key], {});\n",
              "          } catch (error) {\n",
              "            console.error('Error during call to suggestCharts:', error);\n",
              "          }\n",
              "          quickchartButtonEl.classList.remove('colab-df-spinner');\n",
              "          quickchartButtonEl.classList.add('colab-df-quickchart-complete');\n",
              "        }\n",
              "        (() => {\n",
              "          let quickchartButtonEl =\n",
              "            document.querySelector('#df-f22325a2-8189-4943-b0a9-20c7cfe4bae3 button');\n",
              "          quickchartButtonEl.style.display =\n",
              "            google.colab.kernel.accessAllowed ? 'block' : 'none';\n",
              "        })();\n",
              "      </script>\n",
              "    </div>\n",
              "\n",
              "    </div>\n",
              "  </div>\n"
            ],
            "text/plain": [
              "   label  pixel0  pixel1  pixel2  pixel3  pixel4  pixel5  pixel6  pixel7  \\\n",
              "0      1       0       0       0       0       0       0       0       0   \n",
              "1      0       0       0       0       0       0       0       0       0   \n",
              "2      1       0       0       0       0       0       0       0       0   \n",
              "3      4       0       0       0       0       0       0       0       0   \n",
              "4      0       0       0       0       0       0       0       0       0   \n",
              "\n",
              "   pixel8  ...  pixel774  pixel775  pixel776  pixel777  pixel778  pixel779  \\\n",
              "0       0  ...         0         0         0         0         0         0   \n",
              "1       0  ...         0         0         0         0         0         0   \n",
              "2       0  ...         0         0         0         0         0         0   \n",
              "3       0  ...         0         0         0         0         0         0   \n",
              "4       0  ...         0         0         0         0         0         0   \n",
              "\n",
              "   pixel780  pixel781  pixel782  pixel783  \n",
              "0         0         0         0         0  \n",
              "1         0         0         0         0  \n",
              "2         0         0         0         0  \n",
              "3         0         0         0         0  \n",
              "4         0         0         0         0  \n",
              "\n",
              "[5 rows x 785 columns]"
            ]
          },
          "execution_count": 5,
          "metadata": {},
          "output_type": "execute_result"
        }
      ],
      "source": [
        "print(train_df.shape)\n",
        "train_df.head()"
      ]
    },
    {
      "cell_type": "code",
      "execution_count": null,
      "metadata": {
        "colab": {
          "base_uri": "https://localhost:8080/",
          "height": 273
        },
        "id": "5d39c023",
        "outputId": "da3ec696-9be4-49f5-847a-afe55f36a2a9"
      },
      "outputs": [
        {
          "name": "stdout",
          "output_type": "stream",
          "text": [
            "(28000, 784)\n"
          ]
        },
        {
          "data": {
            "application/vnd.google.colaboratory.intrinsic+json": {
              "type": "dataframe",
              "variable_name": "test_df"
            },
            "text/html": [
              "\n",
              "  <div id=\"df-8f7a09b8-991f-4e65-8e79-27a4b8999ed6\" class=\"colab-df-container\">\n",
              "    <div>\n",
              "<style scoped>\n",
              "    .dataframe tbody tr th:only-of-type {\n",
              "        vertical-align: middle;\n",
              "    }\n",
              "\n",
              "    .dataframe tbody tr th {\n",
              "        vertical-align: top;\n",
              "    }\n",
              "\n",
              "    .dataframe thead th {\n",
              "        text-align: right;\n",
              "    }\n",
              "</style>\n",
              "<table border=\"1\" class=\"dataframe\">\n",
              "  <thead>\n",
              "    <tr style=\"text-align: right;\">\n",
              "      <th></th>\n",
              "      <th>pixel0</th>\n",
              "      <th>pixel1</th>\n",
              "      <th>pixel2</th>\n",
              "      <th>pixel3</th>\n",
              "      <th>pixel4</th>\n",
              "      <th>pixel5</th>\n",
              "      <th>pixel6</th>\n",
              "      <th>pixel7</th>\n",
              "      <th>pixel8</th>\n",
              "      <th>pixel9</th>\n",
              "      <th>...</th>\n",
              "      <th>pixel774</th>\n",
              "      <th>pixel775</th>\n",
              "      <th>pixel776</th>\n",
              "      <th>pixel777</th>\n",
              "      <th>pixel778</th>\n",
              "      <th>pixel779</th>\n",
              "      <th>pixel780</th>\n",
              "      <th>pixel781</th>\n",
              "      <th>pixel782</th>\n",
              "      <th>pixel783</th>\n",
              "    </tr>\n",
              "  </thead>\n",
              "  <tbody>\n",
              "    <tr>\n",
              "      <th>0</th>\n",
              "      <td>0</td>\n",
              "      <td>0</td>\n",
              "      <td>0</td>\n",
              "      <td>0</td>\n",
              "      <td>0</td>\n",
              "      <td>0</td>\n",
              "      <td>0</td>\n",
              "      <td>0</td>\n",
              "      <td>0</td>\n",
              "      <td>0</td>\n",
              "      <td>...</td>\n",
              "      <td>0</td>\n",
              "      <td>0</td>\n",
              "      <td>0</td>\n",
              "      <td>0</td>\n",
              "      <td>0</td>\n",
              "      <td>0</td>\n",
              "      <td>0</td>\n",
              "      <td>0</td>\n",
              "      <td>0</td>\n",
              "      <td>0</td>\n",
              "    </tr>\n",
              "    <tr>\n",
              "      <th>1</th>\n",
              "      <td>0</td>\n",
              "      <td>0</td>\n",
              "      <td>0</td>\n",
              "      <td>0</td>\n",
              "      <td>0</td>\n",
              "      <td>0</td>\n",
              "      <td>0</td>\n",
              "      <td>0</td>\n",
              "      <td>0</td>\n",
              "      <td>0</td>\n",
              "      <td>...</td>\n",
              "      <td>0</td>\n",
              "      <td>0</td>\n",
              "      <td>0</td>\n",
              "      <td>0</td>\n",
              "      <td>0</td>\n",
              "      <td>0</td>\n",
              "      <td>0</td>\n",
              "      <td>0</td>\n",
              "      <td>0</td>\n",
              "      <td>0</td>\n",
              "    </tr>\n",
              "    <tr>\n",
              "      <th>2</th>\n",
              "      <td>0</td>\n",
              "      <td>0</td>\n",
              "      <td>0</td>\n",
              "      <td>0</td>\n",
              "      <td>0</td>\n",
              "      <td>0</td>\n",
              "      <td>0</td>\n",
              "      <td>0</td>\n",
              "      <td>0</td>\n",
              "      <td>0</td>\n",
              "      <td>...</td>\n",
              "      <td>0</td>\n",
              "      <td>0</td>\n",
              "      <td>0</td>\n",
              "      <td>0</td>\n",
              "      <td>0</td>\n",
              "      <td>0</td>\n",
              "      <td>0</td>\n",
              "      <td>0</td>\n",
              "      <td>0</td>\n",
              "      <td>0</td>\n",
              "    </tr>\n",
              "    <tr>\n",
              "      <th>3</th>\n",
              "      <td>0</td>\n",
              "      <td>0</td>\n",
              "      <td>0</td>\n",
              "      <td>0</td>\n",
              "      <td>0</td>\n",
              "      <td>0</td>\n",
              "      <td>0</td>\n",
              "      <td>0</td>\n",
              "      <td>0</td>\n",
              "      <td>0</td>\n",
              "      <td>...</td>\n",
              "      <td>0</td>\n",
              "      <td>0</td>\n",
              "      <td>0</td>\n",
              "      <td>0</td>\n",
              "      <td>0</td>\n",
              "      <td>0</td>\n",
              "      <td>0</td>\n",
              "      <td>0</td>\n",
              "      <td>0</td>\n",
              "      <td>0</td>\n",
              "    </tr>\n",
              "    <tr>\n",
              "      <th>4</th>\n",
              "      <td>0</td>\n",
              "      <td>0</td>\n",
              "      <td>0</td>\n",
              "      <td>0</td>\n",
              "      <td>0</td>\n",
              "      <td>0</td>\n",
              "      <td>0</td>\n",
              "      <td>0</td>\n",
              "      <td>0</td>\n",
              "      <td>0</td>\n",
              "      <td>...</td>\n",
              "      <td>0</td>\n",
              "      <td>0</td>\n",
              "      <td>0</td>\n",
              "      <td>0</td>\n",
              "      <td>0</td>\n",
              "      <td>0</td>\n",
              "      <td>0</td>\n",
              "      <td>0</td>\n",
              "      <td>0</td>\n",
              "      <td>0</td>\n",
              "    </tr>\n",
              "  </tbody>\n",
              "</table>\n",
              "<p>5 rows × 784 columns</p>\n",
              "</div>\n",
              "    <div class=\"colab-df-buttons\">\n",
              "\n",
              "  <div class=\"colab-df-container\">\n",
              "    <button class=\"colab-df-convert\" onclick=\"convertToInteractive('df-8f7a09b8-991f-4e65-8e79-27a4b8999ed6')\"\n",
              "            title=\"Convert this dataframe to an interactive table.\"\n",
              "            style=\"display:none;\">\n",
              "\n",
              "  <svg xmlns=\"http://www.w3.org/2000/svg\" height=\"24px\" viewBox=\"0 -960 960 960\">\n",
              "    <path d=\"M120-120v-720h720v720H120Zm60-500h600v-160H180v160Zm220 220h160v-160H400v160Zm0 220h160v-160H400v160ZM180-400h160v-160H180v160Zm440 0h160v-160H620v160ZM180-180h160v-160H180v160Zm440 0h160v-160H620v160Z\"/>\n",
              "  </svg>\n",
              "    </button>\n",
              "\n",
              "  <style>\n",
              "    .colab-df-container {\n",
              "      display:flex;\n",
              "      gap: 12px;\n",
              "    }\n",
              "\n",
              "    .colab-df-convert {\n",
              "      background-color: #E8F0FE;\n",
              "      border: none;\n",
              "      border-radius: 50%;\n",
              "      cursor: pointer;\n",
              "      display: none;\n",
              "      fill: #1967D2;\n",
              "      height: 32px;\n",
              "      padding: 0 0 0 0;\n",
              "      width: 32px;\n",
              "    }\n",
              "\n",
              "    .colab-df-convert:hover {\n",
              "      background-color: #E2EBFA;\n",
              "      box-shadow: 0px 1px 2px rgba(60, 64, 67, 0.3), 0px 1px 3px 1px rgba(60, 64, 67, 0.15);\n",
              "      fill: #174EA6;\n",
              "    }\n",
              "\n",
              "    .colab-df-buttons div {\n",
              "      margin-bottom: 4px;\n",
              "    }\n",
              "\n",
              "    [theme=dark] .colab-df-convert {\n",
              "      background-color: #3B4455;\n",
              "      fill: #D2E3FC;\n",
              "    }\n",
              "\n",
              "    [theme=dark] .colab-df-convert:hover {\n",
              "      background-color: #434B5C;\n",
              "      box-shadow: 0px 1px 3px 1px rgba(0, 0, 0, 0.15);\n",
              "      filter: drop-shadow(0px 1px 2px rgba(0, 0, 0, 0.3));\n",
              "      fill: #FFFFFF;\n",
              "    }\n",
              "  </style>\n",
              "\n",
              "    <script>\n",
              "      const buttonEl =\n",
              "        document.querySelector('#df-8f7a09b8-991f-4e65-8e79-27a4b8999ed6 button.colab-df-convert');\n",
              "      buttonEl.style.display =\n",
              "        google.colab.kernel.accessAllowed ? 'block' : 'none';\n",
              "\n",
              "      async function convertToInteractive(key) {\n",
              "        const element = document.querySelector('#df-8f7a09b8-991f-4e65-8e79-27a4b8999ed6');\n",
              "        const dataTable =\n",
              "          await google.colab.kernel.invokeFunction('convertToInteractive',\n",
              "                                                    [key], {});\n",
              "        if (!dataTable) return;\n",
              "\n",
              "        const docLinkHtml = 'Like what you see? Visit the ' +\n",
              "          '<a target=\"_blank\" href=https://colab.research.google.com/notebooks/data_table.ipynb>data table notebook</a>'\n",
              "          + ' to learn more about interactive tables.';\n",
              "        element.innerHTML = '';\n",
              "        dataTable['output_type'] = 'display_data';\n",
              "        await google.colab.output.renderOutput(dataTable, element);\n",
              "        const docLink = document.createElement('div');\n",
              "        docLink.innerHTML = docLinkHtml;\n",
              "        element.appendChild(docLink);\n",
              "      }\n",
              "    </script>\n",
              "  </div>\n",
              "\n",
              "\n",
              "    <div id=\"df-6182bd7d-5902-4d6d-8423-44ad331efff9\">\n",
              "      <button class=\"colab-df-quickchart\" onclick=\"quickchart('df-6182bd7d-5902-4d6d-8423-44ad331efff9')\"\n",
              "                title=\"Suggest charts\"\n",
              "                style=\"display:none;\">\n",
              "\n",
              "<svg xmlns=\"http://www.w3.org/2000/svg\" height=\"24px\"viewBox=\"0 0 24 24\"\n",
              "     width=\"24px\">\n",
              "    <g>\n",
              "        <path d=\"M19 3H5c-1.1 0-2 .9-2 2v14c0 1.1.9 2 2 2h14c1.1 0 2-.9 2-2V5c0-1.1-.9-2-2-2zM9 17H7v-7h2v7zm4 0h-2V7h2v10zm4 0h-2v-4h2v4z\"/>\n",
              "    </g>\n",
              "</svg>\n",
              "      </button>\n",
              "\n",
              "<style>\n",
              "  .colab-df-quickchart {\n",
              "      --bg-color: #E8F0FE;\n",
              "      --fill-color: #1967D2;\n",
              "      --hover-bg-color: #E2EBFA;\n",
              "      --hover-fill-color: #174EA6;\n",
              "      --disabled-fill-color: #AAA;\n",
              "      --disabled-bg-color: #DDD;\n",
              "  }\n",
              "\n",
              "  [theme=dark] .colab-df-quickchart {\n",
              "      --bg-color: #3B4455;\n",
              "      --fill-color: #D2E3FC;\n",
              "      --hover-bg-color: #434B5C;\n",
              "      --hover-fill-color: #FFFFFF;\n",
              "      --disabled-bg-color: #3B4455;\n",
              "      --disabled-fill-color: #666;\n",
              "  }\n",
              "\n",
              "  .colab-df-quickchart {\n",
              "    background-color: var(--bg-color);\n",
              "    border: none;\n",
              "    border-radius: 50%;\n",
              "    cursor: pointer;\n",
              "    display: none;\n",
              "    fill: var(--fill-color);\n",
              "    height: 32px;\n",
              "    padding: 0;\n",
              "    width: 32px;\n",
              "  }\n",
              "\n",
              "  .colab-df-quickchart:hover {\n",
              "    background-color: var(--hover-bg-color);\n",
              "    box-shadow: 0 1px 2px rgba(60, 64, 67, 0.3), 0 1px 3px 1px rgba(60, 64, 67, 0.15);\n",
              "    fill: var(--button-hover-fill-color);\n",
              "  }\n",
              "\n",
              "  .colab-df-quickchart-complete:disabled,\n",
              "  .colab-df-quickchart-complete:disabled:hover {\n",
              "    background-color: var(--disabled-bg-color);\n",
              "    fill: var(--disabled-fill-color);\n",
              "    box-shadow: none;\n",
              "  }\n",
              "\n",
              "  .colab-df-spinner {\n",
              "    border: 2px solid var(--fill-color);\n",
              "    border-color: transparent;\n",
              "    border-bottom-color: var(--fill-color);\n",
              "    animation:\n",
              "      spin 1s steps(1) infinite;\n",
              "  }\n",
              "\n",
              "  @keyframes spin {\n",
              "    0% {\n",
              "      border-color: transparent;\n",
              "      border-bottom-color: var(--fill-color);\n",
              "      border-left-color: var(--fill-color);\n",
              "    }\n",
              "    20% {\n",
              "      border-color: transparent;\n",
              "      border-left-color: var(--fill-color);\n",
              "      border-top-color: var(--fill-color);\n",
              "    }\n",
              "    30% {\n",
              "      border-color: transparent;\n",
              "      border-left-color: var(--fill-color);\n",
              "      border-top-color: var(--fill-color);\n",
              "      border-right-color: var(--fill-color);\n",
              "    }\n",
              "    40% {\n",
              "      border-color: transparent;\n",
              "      border-right-color: var(--fill-color);\n",
              "      border-top-color: var(--fill-color);\n",
              "    }\n",
              "    60% {\n",
              "      border-color: transparent;\n",
              "      border-right-color: var(--fill-color);\n",
              "    }\n",
              "    80% {\n",
              "      border-color: transparent;\n",
              "      border-right-color: var(--fill-color);\n",
              "      border-bottom-color: var(--fill-color);\n",
              "    }\n",
              "    90% {\n",
              "      border-color: transparent;\n",
              "      border-bottom-color: var(--fill-color);\n",
              "    }\n",
              "  }\n",
              "</style>\n",
              "\n",
              "      <script>\n",
              "        async function quickchart(key) {\n",
              "          const quickchartButtonEl =\n",
              "            document.querySelector('#' + key + ' button');\n",
              "          quickchartButtonEl.disabled = true;  // To prevent multiple clicks.\n",
              "          quickchartButtonEl.classList.add('colab-df-spinner');\n",
              "          try {\n",
              "            const charts = await google.colab.kernel.invokeFunction(\n",
              "                'suggestCharts', [key], {});\n",
              "          } catch (error) {\n",
              "            console.error('Error during call to suggestCharts:', error);\n",
              "          }\n",
              "          quickchartButtonEl.classList.remove('colab-df-spinner');\n",
              "          quickchartButtonEl.classList.add('colab-df-quickchart-complete');\n",
              "        }\n",
              "        (() => {\n",
              "          let quickchartButtonEl =\n",
              "            document.querySelector('#df-6182bd7d-5902-4d6d-8423-44ad331efff9 button');\n",
              "          quickchartButtonEl.style.display =\n",
              "            google.colab.kernel.accessAllowed ? 'block' : 'none';\n",
              "        })();\n",
              "      </script>\n",
              "    </div>\n",
              "\n",
              "    </div>\n",
              "  </div>\n"
            ],
            "text/plain": [
              "   pixel0  pixel1  pixel2  pixel3  pixel4  pixel5  pixel6  pixel7  pixel8  \\\n",
              "0       0       0       0       0       0       0       0       0       0   \n",
              "1       0       0       0       0       0       0       0       0       0   \n",
              "2       0       0       0       0       0       0       0       0       0   \n",
              "3       0       0       0       0       0       0       0       0       0   \n",
              "4       0       0       0       0       0       0       0       0       0   \n",
              "\n",
              "   pixel9  ...  pixel774  pixel775  pixel776  pixel777  pixel778  pixel779  \\\n",
              "0       0  ...         0         0         0         0         0         0   \n",
              "1       0  ...         0         0         0         0         0         0   \n",
              "2       0  ...         0         0         0         0         0         0   \n",
              "3       0  ...         0         0         0         0         0         0   \n",
              "4       0  ...         0         0         0         0         0         0   \n",
              "\n",
              "   pixel780  pixel781  pixel782  pixel783  \n",
              "0         0         0         0         0  \n",
              "1         0         0         0         0  \n",
              "2         0         0         0         0  \n",
              "3         0         0         0         0  \n",
              "4         0         0         0         0  \n",
              "\n",
              "[5 rows x 784 columns]"
            ]
          },
          "execution_count": 6,
          "metadata": {},
          "output_type": "execute_result"
        }
      ],
      "source": [
        "print(test_df.shape)\n",
        "test_df.head()"
      ]
    },
    {
      "cell_type": "markdown",
      "metadata": {
        "id": "3bf24f08"
      },
      "source": [
        "## Data Preparation: Features and Labels\n",
        "\n",
        "Here, we split the training data into features (the pixel values) and the target variable (the digit labels). The test data, which doesn't have labels, is assigned to a separate variable for later use in generating predictions."
      ]
    },
    {
      "cell_type": "code",
      "execution_count": null,
      "metadata": {
        "colab": {
          "base_uri": "https://localhost:8080/"
        },
        "id": "w627aucfwp94",
        "outputId": "5a7f668f-aa0f-4006-c494-d5afb94615b5"
      },
      "outputs": [
        {
          "name": "stdout",
          "output_type": "stream",
          "text": [
            "(42000, 784)\n",
            "(42000,)\n"
          ]
        }
      ],
      "source": [
        "X_train = train_df.drop('label', axis=1)\n",
        "y = train_df['label']\n",
        "\n",
        "print(X_train.shape)\n",
        "print(y.shape)"
      ]
    },
    {
      "cell_type": "code",
      "execution_count": null,
      "metadata": {
        "colab": {
          "base_uri": "https://localhost:8080/"
        },
        "id": "xMa14lhmNMOn",
        "outputId": "119a97a3-b8e2-4086-8742-0087c3a52e70"
      },
      "outputs": [
        {
          "name": "stdout",
          "output_type": "stream",
          "text": [
            "(28000, 784)\n"
          ]
        }
      ],
      "source": [
        "X_test = test_df\n",
        "print(X_test.shape)"
      ]
    },
    {
      "cell_type": "markdown",
      "metadata": {
        "id": "912ba1cd"
      },
      "source": [
        "## Data Transformations\n",
        "\n",
        "Data transformations are crucial for image datasets, especially during training. They help in augmenting the dataset and making the model more robust to variations in the input data."
      ]
    },
    {
      "cell_type": "code",
      "execution_count": null,
      "metadata": {
        "id": "YP1K-X5a8J8u"
      },
      "outputs": [],
      "source": [
        "transforms = transforms.Compose([\n",
        "    # transforms.ToTensor(),\n",
        "    # transforms.Normalize((0.5,), (0.5,)),\n",
        "    transforms.RandomRotation(2),\n",
        "    # transforms.RandomAffine(0, translate=(0.1, 0.1)),\n",
        "])"
      ]
    },
    {
      "cell_type": "code",
      "execution_count": null,
      "metadata": {
        "colab": {
          "base_uri": "https://localhost:8080/"
        },
        "id": "jK5WWGD9lE4N",
        "outputId": "b66a4f3a-39bb-443c-e12b-8a47ddf6610d"
      },
      "outputs": [
        {
          "data": {
            "text/plain": [
              "device(type='cuda')"
            ]
          },
          "execution_count": 11,
          "metadata": {},
          "output_type": "execute_result"
        }
      ],
      "source": [
        "device = torch.device(\"cuda\" if torch.cuda.is_available() else \"cpu\")\n",
        "device"
      ]
    },
    {
      "cell_type": "markdown",
      "metadata": {
        "id": "bc023eb3"
      },
      "source": [
        "## PyTorch Dataset and DataLoader Setup\n",
        "\n",
        "To effectively work with our data in PyTorch and prepare it for training in batches, we define a custom Dataset class and create DataLoaders."
      ]
    },
    {
      "cell_type": "code",
      "execution_count": null,
      "metadata": {
        "id": "qrENMqxi7Mi4"
      },
      "outputs": [],
      "source": [
        "class DigitDataset(Dataset):\n",
        "  def __init__(self, x_df, y_df, transform=None):\n",
        "    self.xs = torch.tensor(x_df.values).float().to(device)\n",
        "    self.ys = torch.tensor(y_df.values).to(device)\n",
        "    self.transform = transform\n",
        "\n",
        "  def __len__(self):\n",
        "    return len(self.xs)\n",
        "\n",
        "  def __getitem__(self, idx):\n",
        "    x = self.xs[idx, :]\n",
        "    x = x.reshape(28, 28)   # 784=28*28\n",
        "    x = x / 255\n",
        "    x = x.unsqueeze(0)\n",
        "    if self.transform:\n",
        "      x = self.transform(x)\n",
        "    y = self.ys[idx].long()\n",
        "    return x, y"
      ]
    },
    {
      "cell_type": "code",
      "execution_count": null,
      "metadata": {
        "id": "iHwQqzlt7eGB"
      },
      "outputs": [],
      "source": [
        "from sklearn.model_selection import train_test_split\n",
        "\n",
        "BATCH_SIZE = 128\n",
        "\n",
        "X_train_split, X_val, y_train_split, y_val = train_test_split(X_train, y, test_size=0.2, random_state=42)\n",
        "\n",
        "train_data = DigitDataset(X_train_split, y_train_split, transform=transforms)\n",
        "train_loader = DataLoader(train_data, batch_size=BATCH_SIZE, shuffle=True)\n",
        "train_N = len(train_loader)"
      ]
    },
    {
      "cell_type": "code",
      "execution_count": null,
      "metadata": {
        "id": "dSTL2RvWV7_b"
      },
      "outputs": [],
      "source": [
        "test_data = DigitDataset(X_val, y_val, transform=transforms) # Validation set\n",
        "test_loader = DataLoader(test_data, batch_size=BATCH_SIZE, shuffle=True)\n",
        "valid_N = len(test_loader)"
      ]
    },
    {
      "cell_type": "code",
      "execution_count": null,
      "metadata": {
        "colab": {
          "base_uri": "https://localhost:8080/"
        },
        "id": "68qPNWES4fa6",
        "outputId": "64bc3ecc-0a72-4bec-aec8-256057df07f7"
      },
      "outputs": [
        {
          "name": "stdout",
          "output_type": "stream",
          "text": [
            "<torch.utils.data.dataloader.DataLoader object at 0x7ef7812bca40>\n",
            "263\n"
          ]
        }
      ],
      "source": [
        "print(train_loader)\n",
        "print(train_N)"
      ]
    },
    {
      "cell_type": "code",
      "execution_count": null,
      "metadata": {
        "colab": {
          "base_uri": "https://localhost:8080/"
        },
        "id": "lfmqKPddO0g5",
        "outputId": "2a501ba9-8ffd-490f-8b0f-181b9e587d94"
      },
      "outputs": [
        {
          "name": "stdout",
          "output_type": "stream",
          "text": [
            "<torch.utils.data.dataloader.DataLoader object at 0x7ef8323418b0>\n",
            "66\n"
          ]
        }
      ],
      "source": [
        "print(test_loader)\n",
        "print(valid_N)"
      ]
    },
    {
      "cell_type": "code",
      "execution_count": null,
      "metadata": {
        "colab": {
          "base_uri": "https://localhost:8080/"
        },
        "id": "jtiWV57k69rH",
        "outputId": "d7512792-3d09-42e0-e28d-a363778a5c0e"
      },
      "outputs": [
        {
          "data": {
            "text/plain": [
              "[tensor([[[[0., 0., 0.,  ..., 0., 0., 0.],\n",
              "           [0., 0., 0.,  ..., 0., 0., 0.],\n",
              "           [0., 0., 0.,  ..., 0., 0., 0.],\n",
              "           ...,\n",
              "           [0., 0., 0.,  ..., 0., 0., 0.],\n",
              "           [0., 0., 0.,  ..., 0., 0., 0.],\n",
              "           [0., 0., 0.,  ..., 0., 0., 0.]]],\n",
              " \n",
              " \n",
              "         [[[0., 0., 0.,  ..., 0., 0., 0.],\n",
              "           [0., 0., 0.,  ..., 0., 0., 0.],\n",
              "           [0., 0., 0.,  ..., 0., 0., 0.],\n",
              "           ...,\n",
              "           [0., 0., 0.,  ..., 0., 0., 0.],\n",
              "           [0., 0., 0.,  ..., 0., 0., 0.],\n",
              "           [0., 0., 0.,  ..., 0., 0., 0.]]],\n",
              " \n",
              " \n",
              "         [[[0., 0., 0.,  ..., 0., 0., 0.],\n",
              "           [0., 0., 0.,  ..., 0., 0., 0.],\n",
              "           [0., 0., 0.,  ..., 0., 0., 0.],\n",
              "           ...,\n",
              "           [0., 0., 0.,  ..., 0., 0., 0.],\n",
              "           [0., 0., 0.,  ..., 0., 0., 0.],\n",
              "           [0., 0., 0.,  ..., 0., 0., 0.]]],\n",
              " \n",
              " \n",
              "         ...,\n",
              " \n",
              " \n",
              "         [[[0., 0., 0.,  ..., 0., 0., 0.],\n",
              "           [0., 0., 0.,  ..., 0., 0., 0.],\n",
              "           [0., 0., 0.,  ..., 0., 0., 0.],\n",
              "           ...,\n",
              "           [0., 0., 0.,  ..., 0., 0., 0.],\n",
              "           [0., 0., 0.,  ..., 0., 0., 0.],\n",
              "           [0., 0., 0.,  ..., 0., 0., 0.]]],\n",
              " \n",
              " \n",
              "         [[[0., 0., 0.,  ..., 0., 0., 0.],\n",
              "           [0., 0., 0.,  ..., 0., 0., 0.],\n",
              "           [0., 0., 0.,  ..., 0., 0., 0.],\n",
              "           ...,\n",
              "           [0., 0., 0.,  ..., 0., 0., 0.],\n",
              "           [0., 0., 0.,  ..., 0., 0., 0.],\n",
              "           [0., 0., 0.,  ..., 0., 0., 0.]]],\n",
              " \n",
              " \n",
              "         [[[0., 0., 0.,  ..., 0., 0., 0.],\n",
              "           [0., 0., 0.,  ..., 0., 0., 0.],\n",
              "           [0., 0., 0.,  ..., 0., 0., 0.],\n",
              "           ...,\n",
              "           [0., 0., 0.,  ..., 0., 0., 0.],\n",
              "           [0., 0., 0.,  ..., 0., 0., 0.],\n",
              "           [0., 0., 0.,  ..., 0., 0., 0.]]]], device='cuda:0'),\n",
              " tensor([8, 1, 1, 7, 2, 1, 0, 1, 6, 5, 9, 4, 4, 9, 4, 2, 6, 8, 4, 3, 2, 9, 8, 0,\n",
              "         1, 3, 6, 1, 3, 2, 8, 1, 4, 4, 3, 0, 2, 7, 1, 1, 3, 5, 5, 8, 7, 2, 2, 4,\n",
              "         2, 6, 5, 2, 5, 0, 5, 2, 6, 6, 8, 7, 5, 1, 3, 7, 3, 9, 6, 0, 9, 4, 6, 4,\n",
              "         2, 3, 0, 7, 3, 1, 1, 2, 9, 0, 6, 7, 5, 0, 4, 8, 2, 1, 7, 1, 3, 0, 4, 9,\n",
              "         0, 2, 6, 7, 5, 5, 3, 4, 3, 8, 6, 8, 7, 2, 2, 7, 9, 6, 2, 6, 7, 2, 3, 1,\n",
              "         8, 6, 7, 1, 4, 7, 6, 7], device='cuda:0')]"
            ]
          },
          "execution_count": 57,
          "metadata": {},
          "output_type": "execute_result"
        }
      ],
      "source": [
        "batch = next(iter(train_loader))\n",
        "batch"
      ]
    },
    {
      "cell_type": "code",
      "execution_count": null,
      "metadata": {
        "colab": {
          "base_uri": "https://localhost:8080/"
        },
        "id": "PkcM_c8p8uJ4",
        "outputId": "1b08bd64-17a5-4463-ed34-ac78899516d3"
      },
      "outputs": [
        {
          "data": {
            "text/plain": [
              "torch.Size([128, 1, 28, 28])"
            ]
          },
          "execution_count": 58,
          "metadata": {},
          "output_type": "execute_result"
        }
      ],
      "source": [
        "batch[0].shape"
      ]
    },
    {
      "cell_type": "code",
      "execution_count": null,
      "metadata": {
        "colab": {
          "base_uri": "https://localhost:8080/",
          "height": 447
        },
        "id": "g95QY36NHGRU",
        "outputId": "d0f9d7fb-57e8-457c-f520-15fcbb1326fa"
      },
      "outputs": [
        {
          "data": {
            "text/plain": [
              "<matplotlib.image.AxesImage at 0x7ef7811a1a30>"
            ]
          },
          "execution_count": 59,
          "metadata": {},
          "output_type": "execute_result"
        },
        {
          "data": {
            "image/png": "[encoded data removed]",
            "text/plain": [
              "<Figure size 640x480 with 1 Axes>"
            ]
          },
          "metadata": {},
          "output_type": "display_data"
        }
      ],
      "source": [
        "plt.imshow(batch[0][2, 0, :].cpu(), cmap=\"gray\")"
      ]
    },
    {
      "cell_type": "markdown",
      "metadata": {
        "id": "00226be6"
      },
      "source": [
        "## Model Definition\n",
        "\n",
        "Here, we define the architecture of our neural network models. We'll explore two different network structures: a simple Multilayer Perceptron (MLP) and a Convolutional Neural Network (CNN)."
      ]
    },
    {
      "cell_type": "markdown",
      "metadata": {
        "id": "p4hq8lw60Ec7"
      },
      "source": []
    },
    {
      "cell_type": "code",
      "execution_count": null,
      "metadata": {
        "id": "uCDhdyfgOMR3"
      },
      "outputs": [],
      "source": [
        "input_size = 28 * 28\n",
        "output_size = 10\n",
        "\n",
        "class DigitNetwork(nn.Module):\n",
        "  def __init__(self):\n",
        "    super().__init__()\n",
        "    self.flatten = nn.Flatten()\n",
        "    self.layers = nn.Sequential(\n",
        "        nn.Linear(input_size, 512),\n",
        "        nn.ReLU(),\n",
        "        nn.Dropout(0.3),\n",
        "        nn.Linear(512, 256),\n",
        "        nn.ReLU(),\n",
        "        nn.Dropout(0.3),\n",
        "        nn.Linear(256, 128),\n",
        "        nn.ReLU(),\n",
        "        nn.Dropout(0.5),\n",
        "        nn.Linear(128, output_size)\n",
        "    )\n",
        "\n",
        "  def forward(self, x):\n",
        "    x = self.flatten(x)\n",
        "    return self.layers(x)"
      ]
    },
    {
      "cell_type": "code",
      "execution_count": null,
      "metadata": {
        "colab": {
          "base_uri": "https://localhost:8080/"
        },
        "id": "eAAe6v1gTjzt",
        "outputId": "dfee6f1f-7229-4e9f-e604-5a29e9b96cb2"
      },
      "outputs": [
        {
          "data": {
            "text/plain": [
              "DigitNetwork(\n",
              "  (flatten): Flatten(start_dim=1, end_dim=-1)\n",
              "  (layers): Sequential(\n",
              "    (0): Linear(in_features=784, out_features=512, bias=True)\n",
              "    (1): ReLU()\n",
              "    (2): Dropout(p=0.3, inplace=False)\n",
              "    (3): Linear(in_features=512, out_features=256, bias=True)\n",
              "    (4): ReLU()\n",
              "    (5): Dropout(p=0.3, inplace=False)\n",
              "    (6): Linear(in_features=256, out_features=128, bias=True)\n",
              "    (7): ReLU()\n",
              "    (8): Dropout(p=0.5, inplace=False)\n",
              "    (9): Linear(in_features=128, out_features=10, bias=True)\n",
              "  )\n",
              ")"
            ]
          },
          "execution_count": 61,
          "metadata": {},
          "output_type": "execute_result"
        }
      ],
      "source": [
        "model = DigitNetwork().to(device)\n",
        "model"
      ]
    },
    {
      "cell_type": "markdown",
      "metadata": {
        "id": "fad4489b"
      },
      "source": [
        "## Training Setup\n",
        "\n",
        "Before we can train our models, we need to define a loss function to measure how well the model is performing and an optimizer to update the model's parameters during training. We also define a helper class, `Trainer`, to handle the training and evaluation loops."
      ]
    },
    {
      "cell_type": "code",
      "execution_count": null,
      "metadata": {
        "id": "5iUEvpEsTmO1"
      },
      "outputs": [],
      "source": [
        "loss_function = nn.CrossEntropyLoss()\n",
        "optimizer = optim.Adam(model.parameters(), lr=0.001)"
      ]
    },
    {
      "cell_type": "code",
      "execution_count": null,
      "metadata": {
        "colab": {
          "base_uri": "https://localhost:8080/"
        },
        "collapsed": true,
        "id": "pq0DDRVkUFq7",
        "outputId": "e4877260-6c01-49ef-9fa4-b58c48bd69c4"
      },
      "outputs": [
        {
          "name": "stdout",
          "output_type": "stream",
          "text": [
            "Model structure: DigitNetwork(\n",
            "  (flatten): Flatten(start_dim=1, end_dim=-1)\n",
            "  (layers): Sequential(\n",
            "    (0): Linear(in_features=784, out_features=512, bias=True)\n",
            "    (1): ReLU()\n",
            "    (2): Dropout(p=0.3, inplace=False)\n",
            "    (3): Linear(in_features=512, out_features=256, bias=True)\n",
            "    (4): ReLU()\n",
            "    (5): Dropout(p=0.3, inplace=False)\n",
            "    (6): Linear(in_features=256, out_features=128, bias=True)\n",
            "    (7): ReLU()\n",
            "    (8): Dropout(p=0.5, inplace=False)\n",
            "    (9): Linear(in_features=128, out_features=10, bias=True)\n",
            "  )\n",
            ")\n",
            "\n",
            "\n",
            "Layer: layers.0.weight | Size: torch.Size([512, 784]) | Values : tensor([[-0.0136,  0.0132, -0.0306,  ..., -0.0177, -0.0012,  0.0133],\n",
            "        [-0.0318,  0.0342, -0.0248,  ...,  0.0187, -0.0134, -0.0201]],\n",
            "       device='cuda:0', grad_fn=<SliceBackward0>) \n",
            "\n",
            "Layer: layers.0.bias | Size: torch.Size([512]) | Values : tensor([-0.0172, -0.0101], device='cuda:0', grad_fn=<SliceBackward0>) \n",
            "\n",
            "Layer: layers.3.weight | Size: torch.Size([256, 512]) | Values : tensor([[ 0.0308, -0.0335, -0.0122,  ...,  0.0230,  0.0213,  0.0167],\n",
            "        [-0.0171,  0.0229,  0.0129,  ...,  0.0364,  0.0154,  0.0142]],\n",
            "       device='cuda:0', grad_fn=<SliceBackward0>) \n",
            "\n",
            "Layer: layers.3.bias | Size: torch.Size([256]) | Values : tensor([ 0.0391, -0.0394], device='cuda:0', grad_fn=<SliceBackward0>) \n",
            "\n",
            "Layer: layers.6.weight | Size: torch.Size([128, 256]) | Values : tensor([[ 2.0856e-03,  5.2674e-03, -5.4847e-02,  3.8323e-02,  1.9272e-02,\n",
            "          2.5823e-02, -4.1992e-02, -4.9511e-02, -1.8653e-02, -3.6083e-02,\n",
            "         -1.3139e-02, -6.0205e-02,  1.9957e-02, -4.0729e-02,  3.8975e-02,\n",
            "         -6.4076e-04, -1.4603e-02, -4.7928e-02,  2.6786e-03,  4.3356e-02,\n",
            "         -4.1850e-02, -6.1836e-02,  1.3256e-02,  3.0600e-02, -2.7889e-02,\n",
            "          1.6325e-02, -2.9135e-02,  5.9232e-02,  4.7566e-02,  1.4833e-03,\n",
            "         -4.8548e-02, -2.2416e-02, -9.4177e-03,  5.8928e-02, -3.9204e-02,\n",
            "         -2.5944e-03,  6.5491e-03, -5.4036e-02, -6.8345e-03,  4.3243e-02,\n",
            "         -2.0871e-02,  2.6501e-03, -1.8693e-02,  4.3814e-02,  3.3608e-03,\n",
            "         -6.4866e-03,  2.2694e-02,  1.9171e-02,  2.4357e-02, -1.4268e-02,\n",
            "         -3.4115e-02,  2.1075e-02,  3.8819e-02,  2.4284e-03, -5.4446e-02,\n",
            "         -3.1970e-02,  1.1758e-02, -4.7821e-02, -3.9233e-02,  1.2262e-02,\n",
            "         -3.9598e-02, -5.2785e-02, -5.6864e-02,  1.0229e-02, -8.4378e-03,\n",
            "         -1.0424e-02, -4.5546e-02, -5.6805e-03, -3.5831e-02, -1.5609e-02,\n",
            "         -5.5371e-02, -2.4382e-02, -4.7568e-02,  3.8954e-02, -4.5161e-02,\n",
            "          8.6358e-03, -1.4891e-02,  4.6686e-03,  4.4110e-03,  7.7999e-04,\n",
            "         -3.0826e-02, -1.1259e-03, -3.1224e-02, -8.5953e-03, -3.6091e-04,\n",
            "          3.2674e-02, -1.8199e-02,  4.9559e-02, -1.4713e-02,  5.5555e-02,\n",
            "         -4.3806e-02, -3.3098e-02, -3.6915e-02, -3.5750e-02, -6.3828e-03,\n",
            "         -3.5639e-02, -4.1563e-02, -2.2700e-02, -5.4662e-02, -5.1955e-02,\n",
            "         -6.0623e-02, -4.8232e-02, -3.3063e-02, -5.5717e-02, -2.0670e-03,\n",
            "          1.7086e-02,  4.7683e-02, -5.7426e-02, -2.3023e-02,  7.1704e-03,\n",
            "          2.2506e-02,  3.7232e-02,  1.9310e-02,  2.7379e-02, -1.0651e-02,\n",
            "          1.2114e-03, -9.9602e-03, -3.4132e-02,  3.6065e-02, -4.3394e-02,\n",
            "          3.8910e-02, -7.8333e-03,  1.3912e-02, -4.0209e-02, -3.6827e-02,\n",
            "          4.1193e-03, -4.7475e-02,  4.1546e-02,  4.6945e-02,  5.2024e-02,\n",
            "         -6.4141e-03,  3.6910e-02,  3.8398e-03, -3.4410e-02,  2.8348e-02,\n",
            "         -5.4855e-02,  6.3342e-03,  4.2532e-02, -5.0311e-02, -6.0493e-02,\n",
            "          4.0292e-02,  8.7385e-03,  5.7007e-02, -2.4950e-02, -4.7248e-02,\n",
            "         -3.3821e-02, -2.3732e-02,  5.4202e-03,  3.4769e-02,  2.2522e-02,\n",
            "          6.2361e-02, -4.5877e-03,  5.3562e-02, -4.2312e-02,  6.1890e-02,\n",
            "          2.2900e-02,  2.8463e-02,  1.6658e-02,  4.9614e-02,  4.8622e-02,\n",
            "         -5.4121e-02, -5.0094e-02,  3.5578e-02, -4.3268e-02, -1.9760e-02,\n",
            "          5.2302e-02,  4.9300e-02,  5.8254e-02, -3.5451e-02, -5.4797e-02,\n",
            "         -4.2523e-02,  4.6942e-04,  2.3568e-02, -4.6355e-04,  8.2970e-03,\n",
            "         -4.0799e-02,  3.7717e-02,  2.7620e-03, -6.1068e-02, -3.7997e-02,\n",
            "         -4.4094e-02, -3.8400e-02, -3.8293e-02, -2.4026e-02,  2.9819e-02,\n",
            "         -2.4020e-02, -3.6007e-02, -3.5112e-02,  3.2467e-03, -3.5859e-03,\n",
            "         -1.6907e-02, -2.8591e-02, -3.5018e-06, -3.3713e-02, -2.3432e-02,\n",
            "         -2.1552e-02,  1.7907e-02,  5.8209e-02,  2.7589e-02,  2.6470e-02,\n",
            "         -6.1789e-02, -5.7960e-03, -2.9581e-02, -2.1746e-02, -1.5624e-02,\n",
            "          5.7286e-03, -3.6035e-02, -2.8936e-03, -2.2659e-02,  5.4705e-02,\n",
            "          4.2926e-02, -6.7410e-03, -3.5607e-03, -1.0548e-02,  2.3655e-02,\n",
            "         -1.8864e-02, -1.7984e-02,  2.3232e-02,  1.1125e-02,  7.4257e-04,\n",
            "          3.4328e-02,  4.0753e-02,  1.4931e-02,  3.4738e-02,  6.0457e-02,\n",
            "         -3.0671e-02,  3.5136e-02, -2.8265e-02, -3.7189e-02,  4.7827e-02,\n",
            "         -5.9676e-02, -2.4423e-02,  3.9455e-02,  6.0585e-02,  2.9292e-02,\n",
            "          1.4897e-03,  1.1422e-02,  3.0310e-02,  1.9053e-02, -2.1216e-02,\n",
            "          2.3163e-02, -3.8098e-03, -6.5592e-03, -4.1254e-02, -1.0215e-02,\n",
            "         -2.4565e-02,  1.2410e-02, -3.6454e-02,  1.5076e-02, -2.2228e-02,\n",
            "         -6.1776e-03, -5.8777e-02,  1.2354e-02,  1.8066e-02, -6.0410e-02,\n",
            "          5.5693e-02],\n",
            "        [-2.2744e-02, -3.1461e-03,  2.2949e-02, -5.1283e-02, -3.9711e-03,\n",
            "         -4.6018e-02,  5.0503e-02,  6.6934e-03, -5.9491e-02, -1.5048e-02,\n",
            "         -2.0979e-02,  3.1081e-02,  4.7364e-02,  9.2717e-03,  4.7578e-02,\n",
            "         -4.5528e-03,  1.5371e-02, -1.1884e-02,  2.8459e-02, -1.4398e-02,\n",
            "          2.3377e-02,  2.8926e-02, -2.7529e-02, -3.4851e-02,  4.3355e-02,\n",
            "          2.7485e-02,  2.3718e-02,  5.6041e-02, -4.4992e-02,  3.9428e-02,\n",
            "         -1.7606e-02,  4.9489e-02,  6.0022e-02, -6.0485e-02, -5.9914e-02,\n",
            "         -5.5277e-02, -5.3855e-02, -1.0134e-02, -6.0427e-02,  5.2521e-02,\n",
            "          3.1431e-02, -3.3799e-02,  3.5961e-02,  4.3316e-02, -3.5278e-02,\n",
            "         -2.5133e-02, -1.5022e-02,  3.5632e-03, -9.3674e-03, -2.5088e-02,\n",
            "          1.3103e-02, -7.7792e-04, -1.8934e-02,  5.5216e-02,  3.6327e-02,\n",
            "         -5.2841e-02,  3.8588e-02, -9.1373e-03, -1.1372e-02, -3.4771e-03,\n",
            "          6.2400e-02, -6.2074e-02,  5.2779e-02, -6.5570e-03,  1.4871e-02,\n",
            "         -3.8181e-02, -4.7392e-02,  2.2635e-02,  4.1110e-02,  4.4128e-02,\n",
            "         -5.4814e-02, -1.2632e-02, -3.9543e-02,  1.8437e-02,  5.3645e-02,\n",
            "         -1.6390e-02, -4.1230e-02,  3.6907e-02, -5.2437e-02, -3.0021e-02,\n",
            "         -5.7435e-02,  3.6341e-02, -3.8521e-02,  1.4026e-02, -6.1386e-02,\n",
            "          1.2183e-02, -4.6955e-02, -2.3174e-02,  1.0564e-02,  4.7862e-02,\n",
            "         -1.0800e-02,  1.6603e-02, -5.0941e-03,  3.2474e-02,  2.6425e-02,\n",
            "         -1.0960e-02,  4.5976e-02, -2.0586e-02,  3.4107e-02,  6.0431e-03,\n",
            "          3.2055e-02,  8.7995e-03,  2.7823e-02,  1.2762e-03,  1.3512e-02,\n",
            "          7.8007e-03, -3.6085e-02,  3.6529e-02, -1.2896e-02,  4.4424e-03,\n",
            "         -2.5393e-02, -5.3952e-02, -3.9014e-02,  5.8462e-02, -5.0227e-02,\n",
            "         -9.0692e-03,  4.4936e-02, -1.8047e-02,  6.1766e-02,  3.8784e-02,\n",
            "         -1.0259e-02,  4.2426e-02, -5.7682e-02, -9.3815e-03, -3.9503e-02,\n",
            "          4.7994e-02,  4.6081e-03,  3.8911e-02, -4.3624e-02, -2.9798e-02,\n",
            "          3.5406e-02,  2.7104e-02, -4.2153e-02,  3.9908e-02,  2.6092e-02,\n",
            "          1.6046e-02, -2.4826e-02, -5.3668e-02,  3.2113e-02, -4.1441e-02,\n",
            "          5.3419e-02, -1.0522e-02, -2.6210e-02,  1.5331e-02,  1.3275e-02,\n",
            "         -5.2505e-02,  1.5511e-02,  2.0294e-02,  5.1195e-02,  1.4431e-02,\n",
            "          6.2407e-03,  1.6604e-02, -3.4044e-02, -2.7800e-02, -2.4255e-02,\n",
            "          3.5769e-02, -7.1251e-03, -3.4723e-02, -2.7862e-02,  5.8967e-02,\n",
            "         -8.0733e-04, -3.2530e-02,  1.0620e-02, -1.6034e-02,  4.9695e-02,\n",
            "         -2.9185e-02, -5.2293e-02,  5.3544e-02,  5.5466e-02, -8.1601e-03,\n",
            "         -9.5086e-03, -1.2629e-02,  2.1877e-02,  6.2430e-02, -3.1287e-02,\n",
            "          3.6610e-02, -2.1328e-02, -5.1028e-02,  1.9761e-02, -8.8971e-03,\n",
            "          4.2813e-02,  1.4999e-02, -5.2249e-02, -5.8077e-02, -7.2051e-03,\n",
            "          4.8583e-02, -5.4558e-02, -3.6497e-02,  1.4309e-02, -4.3352e-02,\n",
            "         -4.4240e-03, -4.0052e-02, -2.6113e-03, -4.4735e-02,  2.9608e-02,\n",
            "          5.7936e-02, -3.3330e-02,  5.9781e-02,  1.7570e-02, -7.9936e-03,\n",
            "         -1.8889e-04, -3.4778e-02, -5.9984e-02,  6.0486e-02,  1.7146e-02,\n",
            "         -6.0616e-02,  4.3705e-02, -9.0604e-03,  5.8914e-02,  3.7436e-02,\n",
            "          5.5981e-02,  3.4721e-02, -5.0527e-02, -9.1001e-03, -4.8936e-02,\n",
            "          3.2815e-02, -3.4255e-02,  1.4460e-02, -3.4809e-02,  4.3901e-02,\n",
            "         -2.0686e-02,  5.9387e-02, -7.6260e-03, -1.7182e-02, -5.3508e-02,\n",
            "          2.9295e-02, -3.5030e-02,  1.8515e-02, -4.5605e-03,  5.9843e-02,\n",
            "          3.8739e-02,  6.2418e-02, -4.6257e-02, -2.6838e-02,  9.4460e-03,\n",
            "          1.8927e-03,  5.8490e-03, -5.0922e-03, -1.1599e-03,  1.0628e-02,\n",
            "         -2.0585e-02,  1.9244e-02,  1.6298e-02,  3.2098e-02,  1.7551e-02,\n",
            "         -1.9446e-02,  1.0219e-02, -3.2562e-02,  5.9142e-02, -4.2477e-02,\n",
            "         -2.7810e-02, -2.2229e-02, -2.4635e-02,  5.6776e-02,  4.7148e-02,\n",
            "         -1.2257e-02]], device='cuda:0', grad_fn=<SliceBackward0>) \n",
            "\n",
            "Layer: layers.6.bias | Size: torch.Size([128]) | Values : tensor([-0.0415, -0.0322], device='cuda:0', grad_fn=<SliceBackward0>) \n",
            "\n",
            "Layer: layers.9.weight | Size: torch.Size([10, 128]) | Values : tensor([[ 0.0746,  0.0428,  0.0568, -0.0718, -0.0044, -0.0543, -0.0549,  0.0561,\n",
            "          0.0667,  0.0872,  0.0426, -0.0756, -0.0529, -0.0551,  0.0026,  0.0462,\n",
            "         -0.0854, -0.0280,  0.0225, -0.0810,  0.0739,  0.0857, -0.0218,  0.0265,\n",
            "         -0.0705, -0.0051, -0.0372,  0.0434,  0.0832,  0.0254,  0.0038,  0.0757,\n",
            "         -0.0516, -0.0105,  0.0610, -0.0400, -0.0098,  0.0851,  0.0599,  0.0353,\n",
            "         -0.0123, -0.0136, -0.0056, -0.0643,  0.0015, -0.0743,  0.0168, -0.0507,\n",
            "          0.0003, -0.0829, -0.0301,  0.0696,  0.0117,  0.0595,  0.0021,  0.0290,\n",
            "          0.0380,  0.0115, -0.0352,  0.0691,  0.0574, -0.0150, -0.0287, -0.0808,\n",
            "          0.0865,  0.0097, -0.0425, -0.0384, -0.0869,  0.0302, -0.0537, -0.0671,\n",
            "         -0.0830,  0.0545,  0.0729,  0.0618,  0.0826,  0.0497,  0.0663, -0.0594,\n",
            "         -0.0584,  0.0870,  0.0136,  0.0190, -0.0502, -0.0717, -0.0592, -0.0312,\n",
            "          0.0065, -0.0013, -0.0236, -0.0880,  0.0840,  0.0475,  0.0524, -0.0272,\n",
            "          0.0878,  0.0320,  0.0310, -0.0269,  0.0655,  0.0687,  0.0302,  0.0126,\n",
            "         -0.0675,  0.0042, -0.0384, -0.0215,  0.0562, -0.0317,  0.0751, -0.0585,\n",
            "         -0.0506,  0.0029,  0.0635, -0.0209,  0.0415, -0.0811, -0.0077,  0.0621,\n",
            "         -0.0760,  0.0097,  0.0427, -0.0396, -0.0660,  0.0527, -0.0506, -0.0780],\n",
            "        [ 0.0197,  0.0403, -0.0735, -0.0138, -0.0090,  0.0381,  0.0254, -0.0338,\n",
            "          0.0773, -0.0883,  0.0388,  0.0863,  0.0833,  0.0848, -0.0292, -0.0328,\n",
            "          0.0214, -0.0140, -0.0376, -0.0595, -0.0534,  0.0597, -0.0398, -0.0138,\n",
            "          0.0836,  0.0688, -0.0708, -0.0309,  0.0838, -0.0242, -0.0191,  0.0685,\n",
            "         -0.0060,  0.0299,  0.0240,  0.0594,  0.0743,  0.0614,  0.0442,  0.0511,\n",
            "          0.0216, -0.0210, -0.0610, -0.0365, -0.0242, -0.0563, -0.0208,  0.0444,\n",
            "         -0.0409, -0.0475,  0.0489,  0.0152, -0.0755, -0.0718,  0.0537,  0.0138,\n",
            "          0.0765,  0.0834, -0.0617,  0.0421, -0.0582, -0.0781, -0.0547, -0.0369,\n",
            "          0.0267, -0.0013, -0.0819, -0.0325,  0.0542,  0.0298, -0.0098, -0.0075,\n",
            "         -0.0580, -0.0244,  0.0572,  0.0402,  0.0041,  0.0674,  0.0648, -0.0312,\n",
            "         -0.0279,  0.0135,  0.0611, -0.0172,  0.0147, -0.0216,  0.0452, -0.0669,\n",
            "         -0.0799,  0.0062,  0.0589, -0.0431,  0.0115, -0.0818,  0.0414, -0.0407,\n",
            "         -0.0403,  0.0253, -0.0229,  0.0088, -0.0157,  0.0059, -0.0672, -0.0068,\n",
            "         -0.0535, -0.0695, -0.0349, -0.0687, -0.0299,  0.0141,  0.0455, -0.0192,\n",
            "         -0.0389, -0.0470,  0.0401,  0.0059, -0.0361, -0.0526, -0.0754, -0.0419,\n",
            "          0.0051, -0.0214, -0.0705,  0.0450, -0.0656, -0.0818, -0.0686, -0.0844]],\n",
            "       device='cuda:0', grad_fn=<SliceBackward0>) \n",
            "\n",
            "Layer: layers.9.bias | Size: torch.Size([10]) | Values : tensor([-0.0160, -0.0643], device='cuda:0', grad_fn=<SliceBackward0>) \n",
            "\n"
          ]
        }
      ],
      "source": [
        "print(f\"Model structure: {model}\\n\\n\")\n",
        "\n",
        "for name, param in model.named_parameters():\n",
        "    print(f\"Layer: {name} | Size: {param.size()} | Values : {param[:2]} \\n\")"
      ]
    },
    {
      "cell_type": "code",
      "execution_count": null,
      "metadata": {
        "id": "aiO-8ZB4rMqd"
      },
      "outputs": [],
      "source": [
        "class Trainer:\n",
        "  def __init__(self, model, loss_function, optimizer, train_loader, test_loader, device):\n",
        "    self.model = model\n",
        "    self.loss_function = loss_function\n",
        "    self.optimizer = optimizer\n",
        "    self.train_loader = train_loader\n",
        "    self.test_loader = test_loader\n",
        "    self.device = device\n",
        "\n",
        "    self.train_losses = []\n",
        "    self.train_accuracies = []\n",
        "    self.test_losses = []\n",
        "    self.test_accuracies = []\n",
        "\n",
        "    self.best_loss = float('inf')\n",
        "    self.patience = 5  # Number of epochs to wait before stopping\n",
        "    self.min_delta = 0.001 # Minimum change to be considered an improvement\n",
        "    self.counter = 0\n",
        "\n",
        "  def get_batch_accuracy(self, output, target, batch_size):\n",
        "    predictions = output.argmax(dim=1, keepdim=True)\n",
        "    correct = predictions.eq(target.view_as(predictions)).sum().item()\n",
        "    accuracy = correct / batch_size\n",
        "    return accuracy\n",
        "\n",
        "  def train(self):\n",
        "    loss = 0\n",
        "    accuracy = 0\n",
        "    self.model.train()\n",
        "    for x, y in self.train_loader:\n",
        "      x, y = x.to(self.device), y.to(self.device)\n",
        "      output = self.model(x)\n",
        "      self.optimizer.zero_grad()\n",
        "      batch_loss = self.loss_function(output, y)\n",
        "      batch_loss.backward()\n",
        "      self.optimizer.step()\n",
        "      loss += batch_loss.item()\n",
        "      accuracy += self.get_batch_accuracy(output, y, x.size(0)) # Use actual batch size\n",
        "    self.train_losses.append(loss)\n",
        "    self.train_accuracies.append(accuracy / len(self.train_loader)) # Average accuracy\n",
        "    print('Train - Loss: {:.4f} Accuracy: {:.4f}'.format(loss, accuracy / len(self.train_loader)))\n",
        "\n",
        "  def test(self):\n",
        "    loss = 0\n",
        "    accuracy = 0\n",
        "    self.model.eval()\n",
        "    with torch.no_grad():\n",
        "      for batch in self.test_loader:\n",
        "        # Check if the batch contains labels\n",
        "        if isinstance(batch, list) and len(batch) == 2:\n",
        "            x, y = batch\n",
        "            y = y.to(self.device)\n",
        "            has_labels = True\n",
        "        elif isinstance(batch, torch.Tensor):\n",
        "            x = batch\n",
        "            has_labels = False\n",
        "        else:\n",
        "            raise TypeError(\"Unsupported batch type from test_loader\")\n",
        "\n",
        "        x = x.to(self.device)\n",
        "        output = self.model(x)\n",
        "\n",
        "        if has_labels:\n",
        "            loss += self.loss_function(output, y).item()\n",
        "            accuracy += self.get_batch_accuracy(output, y, x.size(0)) # Use actual batch size\n",
        "\n",
        "    if has_labels:\n",
        "        self.test_losses.append(loss)\n",
        "        self.test_accuracies.append(accuracy / len(self.test_loader)) # Average accuracy\n",
        "        print('Valid - Loss: {:.4f} Accuracy: {:.4f}'.format(loss, accuracy / len(self.test_loader)))\n",
        "        return loss\n",
        "    else:\n",
        "        # If no labels, we can't calculate loss or accuracy in this test method.\n",
        "        # You might want to return predictions or another metric for the test set.\n",
        "        # For now, we'll just indicate that the test run completed without calculating loss/accuracy.\n",
        "        print('Test set processed (no labels to calculate loss/accuracy)')\n",
        "        return None # Or some other indicator\n",
        "\n",
        "  def plot_curves(self):\n",
        "    plt.figure(figsize=(12, 5))\n",
        "    plt.subplot(1, 2, 1)\n",
        "    plt.plot(self.train_losses, label=\"Train Loss\")\n",
        "    plt.plot(self.test_losses, label=\"Test Loss\")\n",
        "    plt.title(\"Loss Curve\")\n",
        "    plt.xlabel(\"Epoch\")\n",
        "    plt.ylabel(\"Loss\")\n",
        "    plt.legend()\n",
        "    plt.subplot(1, 2, 2)\n",
        "    plt.plot(self.train_accuracies, label=\"Train Acc\")\n",
        "    plt.plot(self.test_accuracies, label=\"Test Acc\")\n",
        "    plt.title(\"Accuracy Curve\")\n",
        "    plt.xlabel(\"Epoch\")\n",
        "    plt.ylabel(\"Accuracy\")\n",
        "    plt.legend()\n",
        "    plt.tight_layout()\n",
        "    plt.show()\n",
        "\n",
        "  def fit(self, epochs):\n",
        "    for epoch in range(epochs):\n",
        "      print(f\"Epoch {epoch+1}\\n-------------------------------\")\n",
        "      self.train()\n",
        "      test_loss = self.test()\n",
        "\n",
        "      # Early stopping logic (only applies if there are labels in the test_loader)\n",
        "      if test_loss is not None:\n",
        "          if test_loss < self.best_loss - self.min_delta:\n",
        "              self.best_loss = test_loss\n",
        "              self.counter = 0\n",
        "          else:\n",
        "              self.counter += 1\n",
        "              if self.counter >= self.patience:\n",
        "                  print(f\"Early stopping after {epoch+1} epochs\")\n",
        "                  break\n",
        "\n",
        "    print(\"Done!\")\n",
        "\n",
        "    return self.model"
      ]
    },
    {
      "cell_type": "markdown",
      "metadata": {
        "id": "a6ffb0db"
      },
      "source": [
        "## Model Training and Evaluation\n",
        "\n",
        "With the model, loss function, optimizer, and data loaders ready, we can now train the model. The `Trainer` class handles the training loop, iterating through epochs, calculating the loss, updating weights, and evaluating the model on the validation set."
      ]
    },
    {
      "cell_type": "code",
      "execution_count": null,
      "metadata": {
        "colab": {
          "base_uri": "https://localhost:8080/"
        },
        "id": "4UGPl19AUQwT",
        "outputId": "67186488-9061-490e-96ae-becd30b0bffd"
      },
      "outputs": [
        {
          "name": "stdout",
          "output_type": "stream",
          "text": [
            "Epoch 1\n",
            "-------------------------------\n",
            "Train - Loss: 145.3373 Accuracy: 0.8331\n",
            "Valid - Loss: 13.3962 Accuracy: 0.9383\n",
            "Epoch 2\n",
            "-------------------------------\n",
            "Train - Loss: 53.5465 Accuracy: 0.9406\n",
            "Valid - Loss: 8.8957 Accuracy: 0.9596\n",
            "Epoch 3\n",
            "-------------------------------\n",
            "Train - Loss: 38.9464 Accuracy: 0.9578\n",
            "Valid - Loss: 6.9923 Accuracy: 0.9677\n",
            "Epoch 4\n",
            "-------------------------------\n",
            "Train - Loss: 30.1493 Accuracy: 0.9666\n",
            "Valid - Loss: 7.0478 Accuracy: 0.9679\n",
            "Epoch 5\n",
            "-------------------------------\n",
            "Train - Loss: 25.3021 Accuracy: 0.9721\n",
            "Valid - Loss: 6.7123 Accuracy: 0.9701\n",
            "Epoch 6\n",
            "-------------------------------\n",
            "Train - Loss: 23.0925 Accuracy: 0.9746\n",
            "Valid - Loss: 6.0067 Accuracy: 0.9726\n",
            "Epoch 7\n",
            "-------------------------------\n",
            "Train - Loss: 18.0524 Accuracy: 0.9794\n",
            "Valid - Loss: 5.8896 Accuracy: 0.9738\n",
            "Epoch 8\n",
            "-------------------------------\n",
            "Train - Loss: 18.2203 Accuracy: 0.9798\n",
            "Valid - Loss: 5.8795 Accuracy: 0.9749\n",
            "Epoch 9\n",
            "-------------------------------\n",
            "Train - Loss: 15.3447 Accuracy: 0.9829\n",
            "Valid - Loss: 5.8167 Accuracy: 0.9751\n",
            "Epoch 10\n",
            "-------------------------------\n",
            "Train - Loss: 14.3904 Accuracy: 0.9831\n",
            "Valid - Loss: 6.4072 Accuracy: 0.9746\n",
            "Epoch 11\n",
            "-------------------------------\n",
            "Train - Loss: 13.4803 Accuracy: 0.9849\n",
            "Valid - Loss: 6.0195 Accuracy: 0.9753\n",
            "Epoch 12\n",
            "-------------------------------\n",
            "Train - Loss: 11.5624 Accuracy: 0.9863\n",
            "Valid - Loss: 5.8473 Accuracy: 0.9773\n",
            "Epoch 13\n",
            "-------------------------------\n",
            "Train - Loss: 10.6491 Accuracy: 0.9886\n",
            "Valid - Loss: 6.6128 Accuracy: 0.9739\n",
            "Epoch 14\n",
            "-------------------------------\n",
            "Train - Loss: 10.9817 Accuracy: 0.9875\n",
            "Valid - Loss: 6.1499 Accuracy: 0.9768\n",
            "Early stopping after 14 epochs\n",
            "Done!\n"
          ]
        },
        {
          "data": {
            "text/plain": [
              "DigitNetwork(\n",
              "  (flatten): Flatten(start_dim=1, end_dim=-1)\n",
              "  (layers): Sequential(\n",
              "    (0): Linear(in_features=784, out_features=512, bias=True)\n",
              "    (1): ReLU()\n",
              "    (2): Dropout(p=0.3, inplace=False)\n",
              "    (3): Linear(in_features=512, out_features=256, bias=True)\n",
              "    (4): ReLU()\n",
              "    (5): Dropout(p=0.3, inplace=False)\n",
              "    (6): Linear(in_features=256, out_features=128, bias=True)\n",
              "    (7): ReLU()\n",
              "    (8): Dropout(p=0.5, inplace=False)\n",
              "    (9): Linear(in_features=128, out_features=10, bias=True)\n",
              "  )\n",
              ")"
            ]
          },
          "execution_count": 27,
          "metadata": {},
          "output_type": "execute_result"
        }
      ],
      "source": [
        "trainer = Trainer(model, loss_function, optimizer, train_loader, test_loader, device)\n",
        "\n",
        "trainer.fit(20)"
      ]
    },
    {
      "cell_type": "code",
      "execution_count": null,
      "metadata": {
        "colab": {
          "base_uri": "https://localhost:8080/",
          "height": 480
        },
        "id": "dF9lgYMl5RAK",
        "outputId": "3b9eb09f-c13f-40aa-8279-b9bfef531188"
      },
      "outputs": [
        {
          "data": {
            "image/png": "[encoded data removed]",
            "text/plain": [
              "<Figure size 1200x500 with 2 Axes>"
            ]
          },
          "metadata": {},
          "output_type": "display_data"
        }
      ],
      "source": [
        "trainer.plot_curves()"
      ]
    },
    {
      "cell_type": "code",
      "execution_count": null,
      "metadata": {
        "id": "ExQVrNU3WXT_"
      },
      "outputs": [],
      "source": [
        "kernel_size = 3\n",
        "import torch.nn.functional as F_nn\n",
        "\n",
        "class DigitNetwork2(nn.Module):\n",
        "  def __init__(self):\n",
        "    super().__init__()\n",
        "    self.conv1 = nn.Conv2d(1, 64, kernel_size=kernel_size, padding=1)\n",
        "    self.conv2 = nn.Conv2d(64, 128, kernel_size=kernel_size, padding=1)\n",
        "    self.conv3 = nn.Conv2d(128, 128, kernel_size=kernel_size, padding=1)\n",
        "    self.pool = nn.MaxPool2d(2, 2)\n",
        "    self.flatten = nn.Flatten()\n",
        "    self.layers = nn.Sequential(\n",
        "        nn.Linear(128 * 3 * 3, 512),\n",
        "        nn.ReLU(),\n",
        "        nn.Dropout(0.3),\n",
        "        nn.Linear(512, 256),\n",
        "        nn.ReLU(),\n",
        "        nn.Dropout(0.3),\n",
        "        nn.Linear(256, 128),\n",
        "        nn.ReLU(),\n",
        "        nn.Linear(128, output_size)\n",
        "    )\n",
        "\n",
        "  def forward(self, x):\n",
        "    x = self.pool(F_nn.relu(self.conv1(x)))\n",
        "    x = self.pool(F_nn.relu(self.conv2(x)))\n",
        "    x = self.pool(F_nn.relu(self.conv3(x)))\n",
        "    x = self.flatten(x)\n",
        "    return self.layers(x)"
      ]
    },
    {
      "cell_type": "code",
      "execution_count": null,
      "metadata": {
        "colab": {
          "base_uri": "https://localhost:8080/"
        },
        "id": "dF_ZNdoAVMYH",
        "outputId": "1e203f2b-970e-44bb-b72b-e7e33c22afd7"
      },
      "outputs": [
        {
          "data": {
            "text/plain": [
              "DigitNetwork2(\n",
              "  (conv1): Conv2d(1, 64, kernel_size=(3, 3), stride=(1, 1), padding=(1, 1))\n",
              "  (conv2): Conv2d(64, 128, kernel_size=(3, 3), stride=(1, 1), padding=(1, 1))\n",
              "  (conv3): Conv2d(128, 128, kernel_size=(3, 3), stride=(1, 1), padding=(1, 1))\n",
              "  (pool): MaxPool2d(kernel_size=2, stride=2, padding=0, dilation=1, ceil_mode=False)\n",
              "  (flatten): Flatten(start_dim=1, end_dim=-1)\n",
              "  (layers): Sequential(\n",
              "    (0): Linear(in_features=1152, out_features=512, bias=True)\n",
              "    (1): ReLU()\n",
              "    (2): Dropout(p=0.3, inplace=False)\n",
              "    (3): Linear(in_features=512, out_features=256, bias=True)\n",
              "    (4): ReLU()\n",
              "    (5): Dropout(p=0.3, inplace=False)\n",
              "    (6): Linear(in_features=256, out_features=128, bias=True)\n",
              "    (7): ReLU()\n",
              "    (8): Linear(in_features=128, out_features=10, bias=True)\n",
              "  )\n",
              ")"
            ]
          },
          "execution_count": 67,
          "metadata": {},
          "output_type": "execute_result"
        }
      ],
      "source": [
        "model2 = DigitNetwork2().to(device)\n",
        "model2"
      ]
    },
    {
      "cell_type": "code",
      "execution_count": null,
      "metadata": {
        "colab": {
          "base_uri": "https://localhost:8080/"
        },
        "id": "g6-RJG-hVrlO",
        "outputId": "ea97fbff-0897-4993-b345-afe5cd7d7b94"
      },
      "outputs": [
        {
          "name": "stdout",
          "output_type": "stream",
          "text": [
            "----------------------------------------------------------------\n",
            "        Layer (type)               Output Shape         Param #\n",
            "================================================================\n",
            "            Conv2d-1           [-1, 64, 28, 28]             640\n",
            "         MaxPool2d-2           [-1, 64, 14, 14]               0\n",
            "            Conv2d-3          [-1, 128, 14, 14]          73,856\n",
            "         MaxPool2d-4            [-1, 128, 7, 7]               0\n",
            "            Conv2d-5            [-1, 128, 7, 7]         147,584\n",
            "         MaxPool2d-6            [-1, 128, 3, 3]               0\n",
            "           Flatten-7                 [-1, 1152]               0\n",
            "            Linear-8                  [-1, 512]         590,336\n",
            "              ReLU-9                  [-1, 512]               0\n",
            "          Dropout-10                  [-1, 512]               0\n",
            "           Linear-11                  [-1, 256]         131,328\n",
            "             ReLU-12                  [-1, 256]               0\n",
            "          Dropout-13                  [-1, 256]               0\n",
            "           Linear-14                  [-1, 128]          32,896\n",
            "             ReLU-15                  [-1, 128]               0\n",
            "           Linear-16                   [-1, 10]           1,290\n",
            "================================================================\n",
            "Total params: 977,930\n",
            "Trainable params: 977,930\n",
            "Non-trainable params: 0\n",
            "----------------------------------------------------------------\n",
            "Input size (MB): 0.00\n",
            "Forward/backward pass size (MB): 0.80\n",
            "Params size (MB): 3.73\n",
            "Estimated Total Size (MB): 4.54\n",
            "----------------------------------------------------------------\n"
          ]
        }
      ],
      "source": [
        "from torchsummary import summary\n",
        "summary(model2, (1, 28, 28))"
      ]
    },
    {
      "cell_type": "code",
      "execution_count": null,
      "metadata": {
        "id": "dfea6833"
      },
      "outputs": [],
      "source": [
        "optimizer2 = optim.Adam(model2.parameters(), lr=0.001)\n",
        "loss_function = nn.CrossEntropyLoss()"
      ]
    },
    {
      "cell_type": "code",
      "execution_count": null,
      "metadata": {
        "colab": {
          "base_uri": "https://localhost:8080/"
        },
        "id": "b666fa61",
        "outputId": "829d594d-9ef6-44f7-9598-2ca9b4c04e0f"
      },
      "outputs": [
        {
          "name": "stdout",
          "output_type": "stream",
          "text": [
            "Epoch 1\n",
            "-------------------------------\n",
            "Train - Loss: 124.5442 Accuracy: 0.8386\n",
            "Valid - Loss: 6.6732 Accuracy: 0.9696\n",
            "Epoch 2\n",
            "-------------------------------\n",
            "Train - Loss: 23.2398 Accuracy: 0.9735\n",
            "Valid - Loss: 5.1998 Accuracy: 0.9761\n",
            "Epoch 3\n",
            "-------------------------------\n",
            "Train - Loss: 16.2383 Accuracy: 0.9813\n",
            "Valid - Loss: 2.9241 Accuracy: 0.9869\n",
            "Epoch 4\n",
            "-------------------------------\n",
            "Train - Loss: 12.5891 Accuracy: 0.9858\n",
            "Valid - Loss: 2.6414 Accuracy: 0.9881\n",
            "Epoch 5\n",
            "-------------------------------\n",
            "Train - Loss: 9.6025 Accuracy: 0.9891\n",
            "Valid - Loss: 3.5301 Accuracy: 0.9854\n",
            "Epoch 6\n",
            "-------------------------------\n",
            "Train - Loss: 8.9582 Accuracy: 0.9896\n",
            "Valid - Loss: 4.5079 Accuracy: 0.9805\n",
            "Epoch 7\n",
            "-------------------------------\n",
            "Train - Loss: 6.7898 Accuracy: 0.9923\n",
            "Valid - Loss: 2.3332 Accuracy: 0.9895\n",
            "Epoch 8\n",
            "-------------------------------\n",
            "Train - Loss: 6.3079 Accuracy: 0.9929\n",
            "Valid - Loss: 2.4439 Accuracy: 0.9908\n",
            "Epoch 9\n",
            "-------------------------------\n",
            "Train - Loss: 5.3412 Accuracy: 0.9939\n",
            "Valid - Loss: 2.3864 Accuracy: 0.9908\n",
            "Epoch 10\n",
            "-------------------------------\n",
            "Train - Loss: 4.5598 Accuracy: 0.9951\n",
            "Valid - Loss: 2.9053 Accuracy: 0.9901\n",
            "Epoch 11\n",
            "-------------------------------\n",
            "Train - Loss: 4.1241 Accuracy: 0.9949\n",
            "Valid - Loss: 3.4713 Accuracy: 0.9875\n",
            "Epoch 12\n",
            "-------------------------------\n",
            "Train - Loss: 4.1877 Accuracy: 0.9949\n",
            "Valid - Loss: 3.0650 Accuracy: 0.9889\n",
            "Early stopping after 12 epochs\n",
            "Done!\n"
          ]
        },
        {
          "data": {
            "text/plain": [
              "DigitNetwork2(\n",
              "  (conv1): Conv2d(1, 64, kernel_size=(3, 3), stride=(1, 1), padding=(1, 1))\n",
              "  (conv2): Conv2d(64, 128, kernel_size=(3, 3), stride=(1, 1), padding=(1, 1))\n",
              "  (conv3): Conv2d(128, 128, kernel_size=(3, 3), stride=(1, 1), padding=(1, 1))\n",
              "  (pool): MaxPool2d(kernel_size=2, stride=2, padding=0, dilation=1, ceil_mode=False)\n",
              "  (flatten): Flatten(start_dim=1, end_dim=-1)\n",
              "  (layers): Sequential(\n",
              "    (0): Linear(in_features=1152, out_features=512, bias=True)\n",
              "    (1): ReLU()\n",
              "    (2): Dropout(p=0.3, inplace=False)\n",
              "    (3): Linear(in_features=512, out_features=256, bias=True)\n",
              "    (4): ReLU()\n",
              "    (5): Dropout(p=0.3, inplace=False)\n",
              "    (6): Linear(in_features=256, out_features=128, bias=True)\n",
              "    (7): ReLU()\n",
              "    (8): Linear(in_features=128, out_features=10, bias=True)\n",
              "  )\n",
              ")"
            ]
          },
          "execution_count": 32,
          "metadata": {},
          "output_type": "execute_result"
        }
      ],
      "source": [
        "trainer2 = Trainer(model2, loss_function, optimizer2, train_loader, test_loader, device)\n",
        "\n",
        "trainer2.fit(20)"
      ]
    },
    {
      "cell_type": "code",
      "execution_count": null,
      "metadata": {
        "colab": {
          "base_uri": "https://localhost:8080/",
          "height": 480
        },
        "id": "5nE7kd2GV6Wu",
        "outputId": "cb6f0cf1-a6e0-4913-fe1c-f2a6c9090238"
      },
      "outputs": [
        {
          "data": {
            "image/png": "[encoded data removed]",
            "text/plain": [
              "<Figure size 1200x500 with 2 Axes>"
            ]
          },
          "metadata": {},
          "output_type": "display_data"
        }
      ],
      "source": [
        "trainer2.plot_curves()"
      ]
    },
    {
      "cell_type": "markdown",
      "metadata": {
        "id": "a8155922"
      },
      "source": [
        "# Task\n",
        "Train the CNN model on the full training data, generate predictions on the test data, and create a submission file."
      ]
    },
    {
      "cell_type": "markdown",
      "metadata": {
        "id": "a494b818"
      },
      "source": [
        "## Prepare full training data\n",
        "\n",
        "### Subtask:\n",
        "Create a `DigitDataset` and `DataLoader` using the complete `X_train` and `y` dataframes.\n"
      ]
    },
    {
      "cell_type": "markdown",
      "metadata": {
        "id": "a07c020c"
      },
      "source": [
        "**Reasoning**:\n",
        "Create a `DigitDataset` and `DataLoader` for the full training data and print the length of the DataLoader.\n",
        "\n"
      ]
    },
    {
      "cell_type": "code",
      "execution_count": null,
      "metadata": {
        "colab": {
          "base_uri": "https://localhost:8080/"
        },
        "id": "377283cd",
        "outputId": "7b9d5842-702b-4360-a48b-308e51e19e6e"
      },
      "outputs": [
        {
          "name": "stdout",
          "output_type": "stream",
          "text": [
            "329\n"
          ]
        }
      ],
      "source": [
        "full_train_data = DigitDataset(X_train, y)\n",
        "full_train_loader = DataLoader(full_train_data, batch_size=BATCH_SIZE, shuffle=True)\n",
        "print(len(full_train_loader))"
      ]
    },
    {
      "cell_type": "code",
      "execution_count": null,
      "metadata": {
        "colab": {
          "base_uri": "https://localhost:8080/"
        },
        "id": "c4ce8a9b",
        "outputId": "02889896-7d06-43a4-d2cd-4ec3f0fedb1e"
      },
      "outputs": [
        {
          "name": "stdout",
          "output_type": "stream",
          "text": [
            "219\n"
          ]
        }
      ],
      "source": [
        "class TestDigitDataset(Dataset):\n",
        "    def __init__(self, x_df):\n",
        "        self.xs = torch.tensor(x_df.values).float().to(device)\n",
        "\n",
        "    def __len__(self):\n",
        "        return len(self.xs)\n",
        "\n",
        "    def __getitem__(self, idx):\n",
        "        x = self.xs[idx, :]\n",
        "        x = x.reshape(28, 28)\n",
        "        x = x / 255\n",
        "        x = x.unsqueeze(0)\n",
        "\n",
        "        return x\n",
        "\n",
        "test_data_nolabel = TestDigitDataset(X_test)\n",
        "test_loader_nolabel = DataLoader(test_data_nolabel, batch_size=BATCH_SIZE, shuffle=False)\n",
        "print(len(test_loader_nolabel))"
      ]
    },
    {
      "cell_type": "code",
      "execution_count": null,
      "metadata": {
        "colab": {
          "base_uri": "https://localhost:8080/",
          "height": 391
        },
        "id": "870d9273",
        "outputId": "9a9b4668-640f-46b0-cfbb-a6978b7dc86b"
      },
      "outputs": [
        {
          "name": "stdout",
          "output_type": "stream",
          "text": [
            "Epoch 1\n",
            "-------------------------------\n",
            "Train - Loss: 129.9657 Accuracy: 0.8666\n"
          ]
        },
        {
          "ename": "ValueError",
          "evalue": "too many values to unpack (expected 2)",
          "output_type": "error",
          "traceback": [
            "\u001b[0;31m---------------------------------------------------------------------------\u001b[0m",
            "\u001b[0;31mValueError\u001b[0m                                Traceback (most recent call last)",
            "\u001b[0;32m/tmp/ipython-input-4261840178.py\u001b[0m in \u001b[0;36m<cell line: 0>\u001b[0;34m()\u001b[0m\n\u001b[1;32m      5\u001b[0m \u001b[0mtrainer2_full_train\u001b[0m \u001b[0;34m=\u001b[0m \u001b[0mTrainer\u001b[0m\u001b[0;34m(\u001b[0m\u001b[0mmodel2_full_train\u001b[0m\u001b[0;34m,\u001b[0m \u001b[0mloss_function_full_train\u001b[0m\u001b[0;34m,\u001b[0m \u001b[0moptimizer2_full_train\u001b[0m\u001b[0;34m,\u001b[0m \u001b[0mfull_train_loader\u001b[0m\u001b[0;34m,\u001b[0m \u001b[0mtest_loader_nolabel\u001b[0m\u001b[0;34m,\u001b[0m \u001b[0mdevice\u001b[0m\u001b[0;34m)\u001b[0m\u001b[0;34m\u001b[0m\u001b[0;34m\u001b[0m\u001b[0m\n\u001b[1;32m      6\u001b[0m \u001b[0;34m\u001b[0m\u001b[0m\n\u001b[0;32m----> 7\u001b[0;31m \u001b[0mtrainer2_full_train\u001b[0m\u001b[0;34m.\u001b[0m\u001b[0mfit\u001b[0m\u001b[0;34m(\u001b[0m\u001b[0;36m30\u001b[0m\u001b[0;34m)\u001b[0m\u001b[0;34m\u001b[0m\u001b[0;34m\u001b[0m\u001b[0m\n\u001b[0m",
            "\u001b[0;32m/tmp/ipython-input-2232032586.py\u001b[0m in \u001b[0;36mfit\u001b[0;34m(self, epochs)\u001b[0m\n\u001b[1;32m     79\u001b[0m       \u001b[0mprint\u001b[0m\u001b[0;34m(\u001b[0m\u001b[0;34mf\"Epoch {epoch+1}\\n-------------------------------\"\u001b[0m\u001b[0;34m)\u001b[0m\u001b[0;34m\u001b[0m\u001b[0;34m\u001b[0m\u001b[0m\n\u001b[1;32m     80\u001b[0m       \u001b[0mself\u001b[0m\u001b[0;34m.\u001b[0m\u001b[0mtrain\u001b[0m\u001b[0;34m(\u001b[0m\u001b[0;34m)\u001b[0m\u001b[0;34m\u001b[0m\u001b[0;34m\u001b[0m\u001b[0m\n\u001b[0;32m---> 81\u001b[0;31m       \u001b[0mtest_loss\u001b[0m \u001b[0;34m=\u001b[0m \u001b[0mself\u001b[0m\u001b[0;34m.\u001b[0m\u001b[0mtest\u001b[0m\u001b[0;34m(\u001b[0m\u001b[0;34m)\u001b[0m\u001b[0;34m\u001b[0m\u001b[0;34m\u001b[0m\u001b[0m\n\u001b[0m\u001b[1;32m     82\u001b[0m \u001b[0;34m\u001b[0m\u001b[0m\n\u001b[1;32m     83\u001b[0m       \u001b[0;31m# Early stopping logic\u001b[0m\u001b[0;34m\u001b[0m\u001b[0;34m\u001b[0m\u001b[0m\n",
            "\u001b[0;32m/tmp/ipython-input-2232032586.py\u001b[0m in \u001b[0;36mtest\u001b[0;34m(self)\u001b[0m\n\u001b[1;32m     46\u001b[0m     \u001b[0mself\u001b[0m\u001b[0;34m.\u001b[0m\u001b[0mmodel\u001b[0m\u001b[0;34m.\u001b[0m\u001b[0meval\u001b[0m\u001b[0;34m(\u001b[0m\u001b[0;34m)\u001b[0m\u001b[0;34m\u001b[0m\u001b[0;34m\u001b[0m\u001b[0m\n\u001b[1;32m     47\u001b[0m     \u001b[0;32mwith\u001b[0m \u001b[0mtorch\u001b[0m\u001b[0;34m.\u001b[0m\u001b[0mno_grad\u001b[0m\u001b[0;34m(\u001b[0m\u001b[0;34m)\u001b[0m\u001b[0;34m:\u001b[0m\u001b[0;34m\u001b[0m\u001b[0;34m\u001b[0m\u001b[0m\n\u001b[0;32m---> 48\u001b[0;31m       \u001b[0;32mfor\u001b[0m \u001b[0mx\u001b[0m\u001b[0;34m,\u001b[0m \u001b[0my\u001b[0m \u001b[0;32min\u001b[0m \u001b[0mself\u001b[0m\u001b[0;34m.\u001b[0m\u001b[0mtest_loader\u001b[0m\u001b[0;34m:\u001b[0m\u001b[0;34m\u001b[0m\u001b[0;34m\u001b[0m\u001b[0m\n\u001b[0m\u001b[1;32m     49\u001b[0m         \u001b[0mx\u001b[0m\u001b[0;34m,\u001b[0m \u001b[0my\u001b[0m \u001b[0;34m=\u001b[0m \u001b[0mx\u001b[0m\u001b[0;34m.\u001b[0m\u001b[0mto\u001b[0m\u001b[0;34m(\u001b[0m\u001b[0mself\u001b[0m\u001b[0;34m.\u001b[0m\u001b[0mdevice\u001b[0m\u001b[0;34m)\u001b[0m\u001b[0;34m,\u001b[0m \u001b[0my\u001b[0m\u001b[0;34m.\u001b[0m\u001b[0mto\u001b[0m\u001b[0;34m(\u001b[0m\u001b[0mself\u001b[0m\u001b[0;34m.\u001b[0m\u001b[0mdevice\u001b[0m\u001b[0;34m)\u001b[0m\u001b[0;34m\u001b[0m\u001b[0;34m\u001b[0m\u001b[0m\n\u001b[1;32m     50\u001b[0m         \u001b[0moutput\u001b[0m \u001b[0;34m=\u001b[0m \u001b[0mself\u001b[0m\u001b[0;34m.\u001b[0m\u001b[0mmodel\u001b[0m\u001b[0;34m(\u001b[0m\u001b[0mx\u001b[0m\u001b[0;34m)\u001b[0m\u001b[0;34m\u001b[0m\u001b[0;34m\u001b[0m\u001b[0m\n",
            "\u001b[0;31mValueError\u001b[0m: too many values to unpack (expected 2)"
          ]
        }
      ],
      "source": [
        "model2_full_train = DigitNetwork2().to(device)\n",
        "loss_function_full_train = nn.CrossEntropyLoss()\n",
        "optimizer2_full_train = optim.Adam(model2_full_train.parameters(), lr=0.001)\n",
        "\n",
        "trainer2_full_train = Trainer(model2_full_train, loss_function_full_train, optimizer2_full_train, full_train_loader, test_loader_nolabel, device)\n",
        "\n",
        "trainer2_full_train.fit(30)"
      ]
    },
    {
      "cell_type": "code",
      "execution_count": null,
      "metadata": {
        "colab": {
          "base_uri": "https://localhost:8080/",
          "height": 480
        },
        "id": "f0N4PEf2Ew2d",
        "outputId": "ae88e110-0df9-4901-abc8-df72f55dffd4"
      },
      "outputs": [
        {
          "data": {
            "image/png": "[encoded data removed]",
            "text/plain": [
              "<Figure size 1200x500 with 2 Axes>"
            ]
          },
          "metadata": {},
          "output_type": "display_data"
        }
      ],
      "source": [
        "trainer2_full_train.plot_curves()"
      ]
    },
    {
      "cell_type": "code",
      "execution_count": null,
      "metadata": {
        "colab": {
          "base_uri": "https://localhost:8080/"
        },
        "id": "95eb0511",
        "outputId": "3f76b0c4-631a-439d-9c11-54d1eb78830f"
      },
      "outputs": [
        {
          "name": "stdout",
          "output_type": "stream",
          "text": [
            "28000\n",
            "[2, 0, 9, 9, 3, 7, 0, 3, 0, 3]\n"
          ]
        }
      ],
      "source": [
        "model2_full_train.eval()\n",
        "predictions = []\n",
        "with torch.no_grad():\n",
        "    for x in test_loader_nolabel:\n",
        "        x = x.to(device)\n",
        "        output = model2_full_train(x)\n",
        "        predicted_classes = output.argmax(dim=1)\n",
        "        predictions.extend(predicted_classes.tolist())\n",
        "\n",
        "print(len(predictions))\n",
        "print(predictions[:10])"
      ]
    },
    {
      "cell_type": "code",
      "execution_count": null,
      "metadata": {
        "colab": {
          "base_uri": "https://localhost:8080/"
        },
        "id": "Ska2VXtQTnFq",
        "outputId": "bc696768-17f7-4a02-e4f0-f842d2b52657"
      },
      "outputs": [
        {
          "data": {
            "text/plain": [
              "1"
            ]
          },
          "execution_count": 40,
          "metadata": {},
          "output_type": "execute_result"
        }
      ],
      "source": [
        "predictions[28000-5432]"
      ]
    },
    {
      "cell_type": "code",
      "execution_count": null,
      "metadata": {
        "colab": {
          "base_uri": "https://localhost:8080/",
          "height": 153
        },
        "id": "nS8r670fTb-I",
        "outputId": "1a2a55ca-6c78-4a7a-c876-d24d4d5f58c0"
      },
      "outputs": [
        {
          "data": {
            "image/png": "[encoded data removed]",
            "text/plain": [
              "<Figure size 100x100 with 1 Axes>"
            ]
          },
          "metadata": {},
          "output_type": "display_data"
        },
        {
          "name": "stdout",
          "output_type": "stream",
          "text": [
            "12060\n"
          ]
        }
      ],
      "source": [
        "import random\n",
        "\n",
        "i = random.randint(0, len(predictions) - 1)\n",
        "plt.figure(figsize=(1, 1))\n",
        "plt.imshow(X_test.iloc[i, :].values.reshape(28, 28), cmap=\"gray\")\n",
        "plt.title(f\"Prediction: {predictions[i]}\")\n",
        "plt.axis('off')\n",
        "plt.show()\n",
        "print(i)"
      ]
    },
    {
      "cell_type": "code",
      "execution_count": null,
      "metadata": {
        "id": "0badceee"
      },
      "outputs": [],
      "source": [
        "submission_df = pd.DataFrame({'ImageId': range(1, len(predictions) + 1), 'Label': predictions})\n",
        "submission_df.to_csv('submission.csv', index=False)"
      ]
    },
    {
      "cell_type": "markdown",
      "metadata": {
        "id": "62b9a38a"
      },
      "source": [
        "## Summary:\n",
        "\n",
        "### Data Analysis Key Findings\n",
        "\n",
        "*   A custom `DigitDataset` and `DataLoader` were successfully created for both the full training data and the test data (without labels).\n",
        "*   A `DigitNetwork2` model instance was created, along with `CrossEntropyLoss` and `Adam` optimizer, and trained on the full training dataset for 15 epochs.\n",
        "*   The training process resulted in consistently increasing training accuracy, while validation accuracy showed slight improvements but remained relatively low.\n",
        "*   Predictions were successfully generated for all 28,000 samples in the test dataset using the trained model.\n",
        "*   The generated predictions were formatted into a pandas DataFrame with 'ImageId' and 'Label' columns and saved as a CSV file named `submission.csv`.\n",
        "\n",
        "### Insights or Next Steps\n",
        "\n",
        "*   Investigate techniques to improve validation accuracy, such as data augmentation, regularization, or trying a more complex model architecture.\n",
        "*   Submit the generated `submission.csv` file to the Kaggle competition to evaluate the model's performance on the unseen test data.\n"
      ]
    },
    {
      "cell_type": "markdown",
      "metadata": {
        "id": "c4a3c3e1"
      },
      "source": [
        "# Task\n",
        "Explore hyperparameter tuning for the CNN model to improve performance."
      ]
    },
    {
      "cell_type": "code",
      "execution_count": null,
      "metadata": {
        "colab": {
          "base_uri": "https://localhost:8080/"
        },
        "id": "ed5c604b",
        "outputId": "434b69e2-4c3d-4be7-ec15-bbc1374ec7b0"
      },
      "outputs": [
        {
          "name": "stdout",
          "output_type": "stream",
          "text": [
            "Hyperparameter Search Space:\n",
            "- learning_rate: [0.0001, 0.001, 0.01]\n",
            "- batch_size: [32, 64, 128]\n",
            "- num_filters_conv1: [32, 64]\n",
            "- num_filters_conv2: [64, 128]\n",
            "- num_filters_conv3: [128, 256]\n",
            "- dropout_rate_fc: [0.3, 0.5]\n"
          ]
        }
      ],
      "source": [
        "hyperparameter_space = {\n",
        "    'learning_rate': [1e-4, 1e-3, 1e-2],  # Logarithmic scale for learning rate\n",
        "    'batch_size': [32, 64, 128],         # Common powers of 2 for batch size\n",
        "    'num_filters_conv1': [32, 64],       # Number of filters in the first convolutional layer\n",
        "    'num_filters_conv2': [64, 128],      # Number of filters in the second convolutional layer\n",
        "    'num_filters_conv3': [128, 256],     # Number of filters in the third convolutional layer\n",
        "    'dropout_rate_fc': [0.3, 0.5]        # Dropout rate in the fully connected layers\n",
        "}\n",
        "\n",
        "print(\"Hyperparameter Search Space:\")\n",
        "for param, values in hyperparameter_space.items():\n",
        "    print(f\"- {param}: {values}\")\n"
      ]
    },
    {
      "cell_type": "code",
      "execution_count": null,
      "metadata": {
        "id": "027db889"
      },
      "outputs": [],
      "source": [
        "tuning_results = []"
      ]
    },
    {
      "cell_type": "code",
      "execution_count": null,
      "metadata": {
        "colab": {
          "base_uri": "https://localhost:8080/"
        },
        "id": "f867340f",
        "outputId": "1d7be55d-e1ed-480a-bf8e-ac7695308fb2"
      },
      "outputs": [
        {
          "name": "stdout",
          "output_type": "stream",
          "text": [
            "Starting tuning trial 1/5\n",
            "  Hyperparameters: LR=0.001, Batch Size=128, Filters_conv1=64, Filters_conv2=128, Filters_conv3=128, Dropout=0.3\n",
            "Epoch 1\n",
            "-------------------------------\n",
            "Train - Loss: 114.7019 Accuracy: 0.8540\n",
            "Valid - Loss: 5.4641 Accuracy: 0.9750\n",
            "Epoch 2\n",
            "-------------------------------\n",
            "Train - Loss: 23.5554 Accuracy: 0.9727\n",
            "Valid - Loss: 3.6706 Accuracy: 0.9835\n",
            "Epoch 3\n",
            "-------------------------------\n",
            "Train - Loss: 15.5800 Accuracy: 0.9825\n",
            "Valid - Loss: 4.1507 Accuracy: 0.9804\n",
            "Epoch 4\n",
            "-------------------------------\n",
            "Train - Loss: 12.0954 Accuracy: 0.9859\n",
            "Valid - Loss: 2.5746 Accuracy: 0.9884\n",
            "Epoch 5\n",
            "-------------------------------\n",
            "Train - Loss: 9.4185 Accuracy: 0.9896\n",
            "Valid - Loss: 2.9819 Accuracy: 0.9875\n",
            "Done!\n",
            "Valid - Loss: 2.9819 Accuracy: 0.9875\n",
            "  Trial 1 Results: Validation Loss=2.9819, Validation Accuracy=0.9875\n",
            "\n",
            "Starting tuning trial 2/5\n",
            "  Hyperparameters: LR=0.01, Batch Size=64, Filters_conv1=32, Filters_conv2=128, Filters_conv3=128, Dropout=0.5\n",
            "Epoch 1\n",
            "-------------------------------\n",
            "Train - Loss: 1213.9945 Accuracy: 0.1067\n",
            "Valid - Loss: 303.6946 Accuracy: 0.1080\n",
            "Epoch 2\n",
            "-------------------------------\n",
            "Train - Loss: 1208.8008 Accuracy: 0.1108\n",
            "Valid - Loss: 303.7784 Accuracy: 0.1080\n",
            "Epoch 3\n",
            "-------------------------------\n",
            "Train - Loss: 1208.6822 Accuracy: 0.1111\n",
            "Valid - Loss: 303.8636 Accuracy: 0.1080\n",
            "Epoch 4\n",
            "-------------------------------\n",
            "Train - Loss: 1208.7164 Accuracy: 0.1127\n",
            "Valid - Loss: 303.9411 Accuracy: 0.1064\n",
            "Epoch 5\n",
            "-------------------------------\n",
            "Train - Loss: 1208.7131 Accuracy: 0.1102\n",
            "Valid - Loss: 304.0031 Accuracy: 0.1080\n",
            "Done!\n",
            "Valid - Loss: 304.0031 Accuracy: 0.1080\n",
            "  Trial 2 Results: Validation Loss=304.0031, Validation Accuracy=0.1080\n",
            "\n",
            "Starting tuning trial 3/5\n",
            "  Hyperparameters: LR=0.0001, Batch Size=64, Filters_conv1=64, Filters_conv2=64, Filters_conv3=128, Dropout=0.5\n",
            "Epoch 1\n",
            "-------------------------------\n",
            "Train - Loss: 587.9863 Accuracy: 0.6061\n",
            "Valid - Loss: 39.2839 Accuracy: 0.9155\n",
            "Epoch 2\n",
            "-------------------------------\n",
            "Train - Loss: 145.5793 Accuracy: 0.9156\n",
            "Valid - Loss: 19.3267 Accuracy: 0.9566\n",
            "Epoch 3\n",
            "-------------------------------\n",
            "Train - Loss: 89.5042 Accuracy: 0.9491\n",
            "Valid - Loss: 15.0300 Accuracy: 0.9669\n",
            "Epoch 4\n",
            "-------------------------------\n",
            "Train - Loss: 66.6198 Accuracy: 0.9618\n",
            "Valid - Loss: 11.6027 Accuracy: 0.9741\n",
            "Epoch 5\n",
            "-------------------------------\n",
            "Train - Loss: 55.1474 Accuracy: 0.9685\n",
            "Valid - Loss: 10.4732 Accuracy: 0.9760\n",
            "Done!\n",
            "Valid - Loss: 10.4732 Accuracy: 0.9760\n",
            "  Trial 3 Results: Validation Loss=10.4732, Validation Accuracy=0.9760\n",
            "\n",
            "Starting tuning trial 4/5\n",
            "  Hyperparameters: LR=0.01, Batch Size=32, Filters_conv1=32, Filters_conv2=64, Filters_conv3=128, Dropout=0.3\n",
            "Epoch 1\n",
            "-------------------------------\n",
            "Train - Loss: 2419.2764 Accuracy: 0.1069\n",
            "Valid - Loss: 605.5792 Accuracy: 0.1081\n",
            "Epoch 2\n",
            "-------------------------------\n",
            "Train - Loss: 2417.7234 Accuracy: 0.1098\n",
            "Valid - Loss: 605.3638 Accuracy: 0.1081\n",
            "Epoch 3\n",
            "-------------------------------\n",
            "Train - Loss: 2417.7914 Accuracy: 0.1106\n",
            "Valid - Loss: 605.3428 Accuracy: 0.1081\n",
            "Epoch 4\n",
            "-------------------------------\n",
            "Train - Loss: 2417.9046 Accuracy: 0.1095\n",
            "Valid - Loss: 605.1200 Accuracy: 0.1081\n",
            "Epoch 5\n",
            "-------------------------------\n",
            "Train - Loss: 2417.9052 Accuracy: 0.1088\n",
            "Valid - Loss: 605.2799 Accuracy: 0.1081\n",
            "Done!\n",
            "Valid - Loss: 605.2799 Accuracy: 0.1081\n",
            "  Trial 4 Results: Validation Loss=605.2799, Validation Accuracy=0.1081\n",
            "\n",
            "Starting tuning trial 5/5\n",
            "  Hyperparameters: LR=0.0001, Batch Size=128, Filters_conv1=32, Filters_conv2=128, Filters_conv3=256, Dropout=0.5\n",
            "Epoch 1\n",
            "-------------------------------\n",
            "Train - Loss: 334.6451 Accuracy: 0.5719\n",
            "Valid - Loss: 23.0812 Accuracy: 0.8993\n",
            "Epoch 2\n",
            "-------------------------------\n",
            "Train - Loss: 88.7653 Accuracy: 0.8979\n",
            "Valid - Loss: 11.4295 Accuracy: 0.9489\n",
            "Epoch 3\n",
            "-------------------------------\n",
            "Train - Loss: 52.2867 Accuracy: 0.9401\n",
            "Valid - Loss: 8.2856 Accuracy: 0.9644\n",
            "Epoch 4\n",
            "-------------------------------\n",
            "Train - Loss: 39.8480 Accuracy: 0.9548\n",
            "Valid - Loss: 6.9977 Accuracy: 0.9683\n",
            "Epoch 5\n",
            "-------------------------------\n",
            "Train - Loss: 32.6628 Accuracy: 0.9628\n",
            "Valid - Loss: 6.3743 Accuracy: 0.9708\n",
            "Done!\n",
            "Valid - Loss: 6.3743 Accuracy: 0.9708\n",
            "  Trial 5 Results: Validation Loss=6.3743, Validation Accuracy=0.9708\n",
            "\n",
            "Hyperparameter tuning completed.\n"
          ]
        }
      ],
      "source": [
        "import random\n",
        "\n",
        "class DigitNetwork2(nn.Module):\n",
        "    def __init__(self, num_filters_conv1, num_filters_conv2, num_filters_conv3, dropout_rate_fc):\n",
        "        super().__init__()\n",
        "        self.conv1 = nn.Conv2d(1, num_filters_conv1, kernel_size=kernel_size, padding=1)\n",
        "        self.conv2 = nn.Conv2d(num_filters_conv1, num_filters_conv2, kernel_size=kernel_size, padding=1)\n",
        "        self.conv3 = nn.Conv2d(num_filters_conv2, num_filters_conv3, kernel_size=kernel_size, padding=1)\n",
        "        self.pool = nn.MaxPool2d(2, 2)\n",
        "        self.flatten = nn.Flatten()\n",
        "\n",
        "        # Calculate the size of the flattened output after convolutional and pooling layers\n",
        "        # We can do a forward pass with a dummy tensor to determine this size\n",
        "        dummy_input = torch.randn(1, 1, 28, 28)\n",
        "        dummy_output = self.pool(F_nn.relu(self.conv1(dummy_input)))\n",
        "        dummy_output = self.pool(F_nn.relu(self.conv2(dummy_output)))\n",
        "        dummy_output = self.pool(F_nn.relu(self.conv3(dummy_output)))\n",
        "        flattened_size = self.flatten(dummy_output).size(1)\n",
        "\n",
        "        self.layers = nn.Sequential(\n",
        "            nn.Linear(flattened_size, 512),\n",
        "            nn.ReLU(),\n",
        "            nn.Dropout(dropout_rate_fc),\n",
        "            nn.Linear(512, 256),\n",
        "            nn.ReLU(),\n",
        "            nn.Dropout(dropout_rate_fc),\n",
        "            nn.Linear(256, 128),\n",
        "            nn.ReLU(),\n",
        "            nn.Linear(128, output_size)\n",
        "        )\n",
        "\n",
        "    def forward(self, x):\n",
        "        x = self.pool(F_nn.relu(self.conv1(x)))\n",
        "        x = self.pool(F_nn.relu(self.conv2(x)))\n",
        "        x = self.pool(F_nn.relu(self.conv3(x)))\n",
        "        x = self.flatten(x)\n",
        "        return self.layers(x)\n",
        "\n",
        "\n",
        "num_tuning_trials = 5\n",
        "tuning_results = []\n",
        "epochs_for_tuning = 5 # Use a smaller number of epochs for tuning\n",
        "\n",
        "for trial in range(num_tuning_trials):\n",
        "    print(f\"Starting tuning trial {trial + 1}/{num_tuning_trials}\")\n",
        "\n",
        "    # Sample hyperparameters\n",
        "    sampled_lr = random.choice(hyperparameter_space['learning_rate'])\n",
        "    sampled_batch_size = random.choice(hyperparameter_space['batch_size'])\n",
        "    sampled_num_filters_conv1 = random.choice(hyperparameter_space['num_filters_conv1'])\n",
        "    sampled_num_filters_conv2 = random.choice(hyperparameter_space['num_filters_conv2'])\n",
        "    sampled_num_filters_conv3 = random.choice(hyperparameter_space['num_filters_conv3'])\n",
        "    sampled_dropout_rate_fc = random.choice(hyperparameter_space['dropout_rate_fc'])\n",
        "\n",
        "    print(f\"  Hyperparameters: LR={sampled_lr}, Batch Size={sampled_batch_size}, Filters_conv1={sampled_num_filters_conv1}, Filters_conv2={sampled_num_filters_conv2}, Filters_conv3={sampled_num_filters_conv3}, Dropout={sampled_dropout_rate_fc}\")\n",
        "\n",
        "    # Create data loaders with the sampled batch size\n",
        "    train_data_tuned = DigitDataset(X_train_split, y_train_split, transform=transforms)\n",
        "    train_loader_tuned = DataLoader(train_data_tuned, batch_size=sampled_batch_size, shuffle=True)\n",
        "\n",
        "    test_data_tuned = DigitDataset(X_val, y_val, transform=transforms) # Validation set\n",
        "    test_loader_tuned = DataLoader(test_data_tuned, batch_size=sampled_batch_size, shuffle=False)\n",
        "\n",
        "\n",
        "    # Create model, loss function, and optimizer with sampled hyperparameters\n",
        "    model_tuned = DigitNetwork2(\n",
        "        num_filters_conv1=sampled_num_filters_conv1,\n",
        "        num_filters_conv2=sampled_num_filters_conv2,\n",
        "        num_filters_conv3=sampled_num_filters_conv3,\n",
        "        dropout_rate_fc=sampled_dropout_rate_fc\n",
        "    ).to(device)\n",
        "\n",
        "    loss_function_tuned = nn.CrossEntropyLoss()\n",
        "    optimizer_tuned = optim.Adam(model_tuned.parameters(), lr=sampled_lr)\n",
        "\n",
        "    # Create and train the trainer instance\n",
        "    trainer_tuned = Trainer(model_tuned, loss_function_tuned, optimizer_tuned, train_loader_tuned, test_loader_tuned, device)\n",
        "    trainer_tuned.fit(epochs_for_tuning)\n",
        "\n",
        "    # Evaluate on validation set\n",
        "    validation_loss = trainer_tuned.test()\n",
        "    validation_accuracy = trainer_tuned.test_accuracies[-1] # Get the last recorded accuracy\n",
        "\n",
        "    print(f\"  Trial {trial + 1} Results: Validation Loss={validation_loss:.4f}, Validation Accuracy={validation_accuracy:.4f}\\n\")\n",
        "\n",
        "    # Store results\n",
        "    tuning_results.append({\n",
        "        'trial': trial + 1,\n",
        "        'learning_rate': sampled_lr,\n",
        "        'batch_size': sampled_batch_size,\n",
        "        'num_filters_conv1': sampled_num_filters_conv1,\n",
        "        'num_filters_conv2': sampled_num_filters_conv2,\n",
        "        'num_filters_conv3': sampled_num_filters_conv3,\n",
        "        'dropout_rate_fc': sampled_dropout_rate_fc,\n",
        "        'validation_loss': validation_loss,\n",
        "        'validation_accuracy': validation_accuracy\n",
        "    })\n",
        "\n",
        "print(\"Hyperparameter tuning completed.\")"
      ]
    },
    {
      "cell_type": "code",
      "execution_count": null,
      "metadata": {
        "colab": {
          "base_uri": "https://localhost:8080/"
        },
        "id": "01df6681",
        "outputId": "630bfbd8-8e32-47fc-e2b4-cfeece30c76c"
      },
      "outputs": [
        {
          "name": "stdout",
          "output_type": "stream",
          "text": [
            "Trial 1: Validation Accuracy = 0.9875, Validation Loss = 2.9819\n",
            "Trial 2: Validation Accuracy = 0.1080, Validation Loss = 304.0031\n",
            "Trial 3: Validation Accuracy = 0.9760, Validation Loss = 10.4732\n",
            "Trial 4: Validation Accuracy = 0.1081, Validation Loss = 605.2799\n",
            "Trial 5: Validation Accuracy = 0.9708, Validation Loss = 6.3743\n",
            "\n",
            "Best performing hyperparameters based on validation accuracy:\n",
            "Trial: 1\n",
            "Learning Rate: 0.001\n",
            "Batch Size: 128\n",
            "Num Filters Conv1: 64\n",
            "Num Filters Conv2: 128\n",
            "Num Filters Conv3: 128\n",
            "Dropout Rate FC: 0.3\n",
            "Validation Accuracy: 0.9875\n",
            "Validation Loss: 2.9819\n"
          ]
        }
      ],
      "source": [
        "# Analyze the tuning results to find the best hyperparameters\n",
        "best_trial = None\n",
        "best_accuracy = -1\n",
        "best_loss = float('inf')\n",
        "\n",
        "for result in tuning_results:\n",
        "    print(f\"Trial {result['trial']}: Validation Accuracy = {result['validation_accuracy']:.4f}, Validation Loss = {result['validation_loss']:.4f}\")\n",
        "    if result['validation_accuracy'] > best_accuracy:\n",
        "        best_accuracy = result['validation_accuracy']\n",
        "        best_trial = result\n",
        "    elif result['validation_accuracy'] == best_accuracy and result['validation_loss'] < best_loss:\n",
        "        best_loss = result['validation_loss']\n",
        "        best_trial = result\n",
        "\n",
        "print(\"\\nBest performing hyperparameters based on validation accuracy:\")\n",
        "print(f\"Trial: {best_trial['trial']}\")\n",
        "print(f\"Learning Rate: {best_trial['learning_rate']}\")\n",
        "print(f\"Batch Size: {best_trial['batch_size']}\")\n",
        "print(f\"Num Filters Conv1: {best_trial['num_filters_conv1']}\")\n",
        "print(f\"Num Filters Conv2: {best_trial['num_filters_conv2']}\")\n",
        "print(f\"Num Filters Conv3: {best_trial['num_filters_conv3']}\")\n",
        "print(f\"Dropout Rate FC: {best_trial['dropout_rate_fc']}\")\n",
        "print(f\"Validation Accuracy: {best_trial['validation_accuracy']:.4f}\")\n",
        "print(f\"Validation Loss: {best_trial['validation_loss']:.4f}\")"
      ]
    },
    {
      "cell_type": "code",
      "execution_count": null,
      "metadata": {
        "colab": {
          "base_uri": "https://localhost:8080/"
        },
        "id": "ce1893ef",
        "outputId": "739a6a49-6d62-4c4a-99ed-2b52c59eea08"
      },
      "outputs": [
        {
          "name": "stdout",
          "output_type": "stream",
          "text": [
            "Epoch 1\n",
            "-------------------------------\n",
            "Train - Loss: 132.1233 Accuracy: 0.8630\n",
            "Valid - Loss: 4.7592 Accuracy: 0.9785\n",
            "Epoch 2\n",
            "-------------------------------\n",
            "Train - Loss: 26.8583 Accuracy: 0.9759\n",
            "Valid - Loss: 3.5462 Accuracy: 0.9844\n",
            "Epoch 3\n",
            "-------------------------------\n",
            "Train - Loss: 17.2655 Accuracy: 0.9848\n",
            "Valid - Loss: 1.7528 Accuracy: 0.9917\n",
            "Epoch 4\n",
            "-------------------------------\n",
            "Train - Loss: 13.6649 Accuracy: 0.9880\n",
            "Valid - Loss: 1.3464 Accuracy: 0.9944\n",
            "Epoch 5\n",
            "-------------------------------\n",
            "Train - Loss: 10.9779 Accuracy: 0.9908\n",
            "Valid - Loss: 0.9326 Accuracy: 0.9959\n",
            "Epoch 6\n",
            "-------------------------------\n",
            "Train - Loss: 9.5621 Accuracy: 0.9915\n",
            "Valid - Loss: 1.3097 Accuracy: 0.9937\n",
            "Epoch 7\n",
            "-------------------------------\n",
            "Train - Loss: 7.8836 Accuracy: 0.9923\n",
            "Valid - Loss: 1.0274 Accuracy: 0.9953\n",
            "Epoch 8\n",
            "-------------------------------\n",
            "Train - Loss: 6.5662 Accuracy: 0.9942\n",
            "Valid - Loss: 0.4385 Accuracy: 0.9974\n",
            "Epoch 9\n",
            "-------------------------------\n",
            "Train - Loss: 6.0041 Accuracy: 0.9949\n",
            "Valid - Loss: 0.3685 Accuracy: 0.9982\n",
            "Epoch 10\n",
            "-------------------------------\n",
            "Train - Loss: 5.6391 Accuracy: 0.9954\n",
            "Valid - Loss: 0.5707 Accuracy: 0.9973\n",
            "Epoch 11\n",
            "-------------------------------\n",
            "Train - Loss: 4.6571 Accuracy: 0.9961\n",
            "Valid - Loss: 0.4875 Accuracy: 0.9978\n",
            "Epoch 12\n",
            "-------------------------------\n",
            "Train - Loss: 4.3248 Accuracy: 0.9962\n",
            "Valid - Loss: 0.4104 Accuracy: 0.9976\n",
            "Epoch 13\n",
            "-------------------------------\n",
            "Train - Loss: 4.5478 Accuracy: 0.9959\n",
            "Valid - Loss: 0.2749 Accuracy: 0.9983\n",
            "Epoch 14\n",
            "-------------------------------\n",
            "Train - Loss: 4.4110 Accuracy: 0.9959\n",
            "Valid - Loss: 0.3988 Accuracy: 0.9982\n",
            "Epoch 15\n",
            "-------------------------------\n",
            "Train - Loss: 3.3921 Accuracy: 0.9968\n",
            "Valid - Loss: 0.2473 Accuracy: 0.9987\n",
            "Epoch 16\n",
            "-------------------------------\n",
            "Train - Loss: 3.5133 Accuracy: 0.9970\n",
            "Valid - Loss: 0.4531 Accuracy: 0.9986\n",
            "Epoch 17\n",
            "-------------------------------\n",
            "Train - Loss: 3.7637 Accuracy: 0.9968\n",
            "Valid - Loss: 0.2167 Accuracy: 0.9991\n",
            "Epoch 18\n",
            "-------------------------------\n",
            "Train - Loss: 2.8560 Accuracy: 0.9975\n",
            "Valid - Loss: 0.3857 Accuracy: 0.9979\n",
            "Epoch 19\n",
            "-------------------------------\n",
            "Train - Loss: 2.8517 Accuracy: 0.9973\n",
            "Valid - Loss: 0.7637 Accuracy: 0.9964\n",
            "Epoch 20\n",
            "-------------------------------\n",
            "Train - Loss: 3.0037 Accuracy: 0.9976\n",
            "Valid - Loss: 0.2432 Accuracy: 0.9989\n",
            "Done!\n"
          ]
        },
        {
          "data": {
            "text/plain": [
              "DigitNetwork2(\n",
              "  (conv1): Conv2d(1, 64, kernel_size=(3, 3), stride=(1, 1), padding=(1, 1))\n",
              "  (conv2): Conv2d(64, 128, kernel_size=(3, 3), stride=(1, 1), padding=(1, 1))\n",
              "  (conv3): Conv2d(128, 128, kernel_size=(3, 3), stride=(1, 1), padding=(1, 1))\n",
              "  (pool): MaxPool2d(kernel_size=2, stride=2, padding=0, dilation=1, ceil_mode=False)\n",
              "  (flatten): Flatten(start_dim=1, end_dim=-1)\n",
              "  (layers): Sequential(\n",
              "    (0): Linear(in_features=1152, out_features=512, bias=True)\n",
              "    (1): ReLU()\n",
              "    (2): Dropout(p=0.3, inplace=False)\n",
              "    (3): Linear(in_features=512, out_features=256, bias=True)\n",
              "    (4): ReLU()\n",
              "    (5): Dropout(p=0.3, inplace=False)\n",
              "    (6): Linear(in_features=256, out_features=128, bias=True)\n",
              "    (7): ReLU()\n",
              "    (8): Linear(in_features=128, out_features=10, bias=True)\n",
              "  )\n",
              ")"
            ]
          },
          "execution_count": 39,
          "metadata": {},
          "output_type": "execute_result"
        }
      ],
      "source": [
        "# Create data loaders with the best batch size\n",
        "best_batch_size = best_trial['batch_size']\n",
        "\n",
        "full_train_data_final = DigitDataset(X_train, y, transform=transforms)\n",
        "full_train_loader_final = DataLoader(full_train_data_final, batch_size=best_batch_size, shuffle=True)\n",
        "\n",
        "test_data_final = DigitDataset(X_val, y_val, transform=transforms) # Validation set\n",
        "test_loader_final = DataLoader(test_data_final, batch_size=best_batch_size, shuffle=False)\n",
        "\n",
        "\n",
        "# Create model, loss function, and optimizer with best hyperparameters\n",
        "model_final = DigitNetwork2(\n",
        "    num_filters_conv1=best_trial['num_filters_conv1'],\n",
        "    num_filters_conv2=best_trial['num_filters_conv2'],\n",
        "    num_filters_conv3=best_trial['num_filters_conv3'],\n",
        "    dropout_rate_fc=best_trial['dropout_rate_fc']\n",
        ").to(device)\n",
        "\n",
        "loss_function_final = nn.CrossEntropyLoss()\n",
        "optimizer_final = optim.Adam(model_final.parameters(), lr=best_trial['learning_rate'])\n",
        "\n",
        "# Create and train the trainer instance\n",
        "# You might want to train for more epochs here since you are using the full dataset\n",
        "trainer_final = Trainer(model_final, loss_function_final, optimizer_final, full_train_loader_final, test_loader_final, device)\n",
        "trainer_final.fit(20) # Train for more epochs"
      ]
    },
    {
      "cell_type": "code",
      "execution_count": null,
      "metadata": {
        "colab": {
          "base_uri": "https://localhost:8080/",
          "height": 260
        },
        "id": "qSWRQTqq3q-t",
        "outputId": "5f16a8b7-e7e5-4515-81dd-d336cb4554c6"
      },
      "outputs": [
        {
          "data": {
            "image/png": "[encoded data removed]",
            "text/plain": [
              "<Figure size 1200x500 with 2 Axes>"
            ]
          },
          "metadata": {},
          "output_type": "display_data"
        }
      ],
      "source": [
        "trainer_final.plot_curves()"
      ]
    },
    {
      "cell_type": "code",
      "execution_count": null,
      "metadata": {
        "colab": {
          "base_uri": "https://localhost:8080/"
        },
        "id": "WIuW7aPo-XDL",
        "outputId": "f3f64e89-aedc-4b73-d8a1-978c92d6d61d"
      },
      "outputs": [
        {
          "name": "stdout",
          "output_type": "stream",
          "text": [
            "8400\n",
            "[8, 1, 9, 9, 8, 6, 2, 2, 7, 1]\n"
          ]
        }
      ],
      "source": [
        "model_final.eval()\n",
        "predictions = []\n",
        "with torch.no_grad():\n",
        "    for batch in test_loader_final:\n",
        "        x = batch[0].to(device) # Extract the tensor from the batch list\n",
        "        output = model_final(x)\n",
        "        predicted_classes = output.argmax(dim=1)\n",
        "        predictions.extend(predicted_classes.tolist())\n",
        "\n",
        "print(len(predictions))\n",
        "print(predictions[:10])"
      ]
    },
    {
      "cell_type": "code",
      "execution_count": null,
      "metadata": {
        "colab": {
          "base_uri": "https://localhost:8080/"
        },
        "id": "oVHB9FrNB5hA",
        "outputId": "f9389fc1-ebd2-485d-eb38-6586befc7443"
      },
      "outputs": [
        {
          "name": "stdout",
          "output_type": "stream",
          "text": [
            "28000\n",
            "[2, 0, 9, 0, 3, 7, 0, 3, 0, 3]\n"
          ]
        }
      ],
      "source": [
        "model_final.eval()\n",
        "predictions = []\n",
        "with torch.no_grad():\n",
        "    for x in test_loader_nolabel:\n",
        "        x = x.to(device)\n",
        "        output = model_final(x)\n",
        "        predicted_classes = output.argmax(dim=1)\n",
        "        predictions.extend(predicted_classes.tolist())\n",
        "\n",
        "print(len(predictions))\n",
        "print(predictions[:10])"
      ]
    },
    {
      "cell_type": "code",
      "execution_count": null,
      "metadata": {
        "colab": {
          "base_uri": "https://localhost:8080/"
        },
        "id": "TqZ5RPl5Byki",
        "outputId": "06d3018a-2128-480f-e6b3-afed482689ce"
      },
      "outputs": [
        {
          "data": {
            "text/plain": [
              "28000"
            ]
          },
          "execution_count": 64,
          "metadata": {},
          "output_type": "execute_result"
        }
      ],
      "source": [
        "len(predictions)"
      ]
    },
    {
      "cell_type": "code",
      "execution_count": null,
      "metadata": {
        "colab": {
          "base_uri": "https://localhost:8080/",
          "height": 153
        },
        "id": "Xxy8iN4X_Q5v",
        "outputId": "fead139e-9029-4ca2-9487-ade4ce9d9da3"
      },
      "outputs": [
        {
          "data": {
            "image/png": "[encoded data removed]",
            "text/plain": [
              "<Figure size 100x100 with 1 Axes>"
            ]
          },
          "metadata": {},
          "output_type": "display_data"
        },
        {
          "name": "stdout",
          "output_type": "stream",
          "text": [
            "3020\n"
          ]
        }
      ],
      "source": [
        "import random\n",
        "\n",
        "i = random.randint(0, len(predictions) - 1)\n",
        "plt.figure(figsize=(1, 1))\n",
        "plt.imshow(X_test.iloc[i, :].values.reshape(28, 28), cmap=\"gray\")\n",
        "plt.title(f\"Prediction: {predictions[i]}\")\n",
        "plt.axis('off')\n",
        "plt.show()\n",
        "print(i)"
      ]
    },
    {
      "cell_type": "code",
      "execution_count": null,
      "metadata": {
        "id": "xI-_ciOO__q0"
      },
      "outputs": [],
      "source": [
        "# Submission\n",
        "submission_df = pd.DataFrame({'ImageId': range(1, len(predictions) + 1), 'Label': predictions})\n",
        "submission_df.to_csv('submission.csv', index=False)"
      ]
    },
    {
      "cell_type": "code",
      "execution_count": null,
      "metadata": {
        "id": "F57izvLrBYAi"
      },
      "outputs": [],
      "source": [
        "submission_df = pd.DataFrame({'ImageId': range(1, len(predictions) + 1), 'Label': predictions})\n",
        "submission_df.to_csv('submission.csv', index=False)"
      ]
    }
  ],
  "metadata": {
    "accelerator": "GPU",
    "colab": {
      "gpuType": "T4",
      "provenance": [],
      "authorship_tag": "ABX9TyMne940FVV9BIAhJXQcjcsp",
      "include_colab_link": true
    },
    "kernelspec": {
      "display_name": "Python 3",
      "name": "python3"
    },
    "language_info": {
      "name": "python"
    }
  },
  "nbformat": 4,
  "nbformat_minor": 0
}