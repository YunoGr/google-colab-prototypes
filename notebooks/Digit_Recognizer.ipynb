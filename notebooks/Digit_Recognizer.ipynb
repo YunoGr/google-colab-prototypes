{
  "cells": [
    {
      "cell_type": "markdown",
      "metadata": {
        "id": "view-in-github",
        "colab_type": "text"
      },
      "source": [
        "<a href=\"https://colab.research.google.com/github/YunoGr/google-colab-prototypes/blob/main/notebooks/Digit_Recognizer.ipynb\" target=\"_parent\"><img src=\"https://colab.research.google.com/assets/colab-badge.svg\" alt=\"Open In Colab\"/></a>"
      ]
    },
    {
      "cell_type": "markdown",
      "metadata": {
        "id": "0069ceb6"
      },
      "source": [
        "## Digit Recognizer\n",
        "This notebook implements a neural network model to recognize handwritten digits from the Kaggle Digit Recognizer competition.\n",
        "https://www.kaggle.com/competitions/digit-recognizer/overview\n",
        "\n",
        "**Author:** Pape Malick DIOP"
      ]
    },
    {
      "cell_type": "markdown",
      "metadata": {
        "id": "6236d82c"
      },
      "source": [
        "## Importing Libraries\n",
        "\n",
        "Here, we import the necessary libraries for our digit recognition project. These include libraries for data handling, visualization, and building our neural network with PyTorch."
      ]
    },
    {
      "cell_type": "code",
      "execution_count": 50,
      "metadata": {
        "id": "BNy897m3swgD"
      },
      "outputs": [],
      "source": [
        "# Data handling\n",
        "import pandas as pd\n",
        "import numpy as np\n",
        "\n",
        "# Visualization tools\n",
        "import torchvision\n",
        "# import torchvision.transforms.v2 as transforms\n",
        "import torchvision.transforms.functional as F\n",
        "import matplotlib.pyplot as plt\n",
        "import seaborn as sns\n",
        "\n",
        "# PyTorch kit\n",
        "import torch\n",
        "import torch.nn as nn\n",
        "import torch.optim as optim\n",
        "from torch.utils.data import DataLoader, Dataset\n",
        "from torchvision import transforms, utils"
      ]
    },
    {
      "cell_type": "markdown",
      "metadata": {
        "id": "6794d195"
      },
      "source": [
        "## Data Loading and Initial Exploration\n",
        "\n",
        "The datasets for this competition are stored in CSV files. We'll load them into pandas DataFrames for easy manipulation."
      ]
    },
    {
      "cell_type": "code",
      "source": [
        "# You can load the data directly in '/data/raw/digit_recognizer'\n",
        "# train_df = pd.read_csv('/data/raw/digit_recognizer/train.csv')\n",
        "# test_df = pd.read_csv('/data/raw/digit_recognizer/test.csv')"
      ],
      "metadata": {
        "id": "FKgwzQAMpW6D"
      },
      "execution_count": 51,
      "outputs": []
    },
    {
      "cell_type": "markdown",
      "source": [
        "But here, we mount my Google Drive to access the files."
      ],
      "metadata": {
        "id": "SkR8U9iRqRlK"
      }
    },
    {
      "cell_type": "code",
      "execution_count": 52,
      "metadata": {
        "colab": {
          "base_uri": "https://localhost:8080/"
        },
        "id": "HD380moFAZNK",
        "outputId": "532c1d64-44c0-4ceb-8eb5-438f6f0297bd"
      },
      "outputs": [
        {
          "output_type": "stream",
          "name": "stdout",
          "text": [
            "Drive already mounted at /content/drive; to attempt to forcibly remount, call drive.mount(\"/content/drive\", force_remount=True).\n"
          ]
        }
      ],
      "source": [
        "from google.colab import drive\n",
        "\n",
        "# To mount Google Drive\n",
        "drive.mount('/content/drive')\n",
        "\n",
        "project_path = \"/content/drive/MyDrive/PyTorch projects/Digit Recognizer - Kaggle\"\n"
      ]
    },
    {
      "cell_type": "markdown",
      "metadata": {
        "id": "78ed3294"
      },
      "source": [
        "Now, we load the training and test datasets from the specified path."
      ]
    },
    {
      "cell_type": "code",
      "execution_count": 53,
      "metadata": {
        "id": "JCyokb0YE2ve"
      },
      "outputs": [],
      "source": [
        "train_df = pd.read_csv(project_path + \"/train.csv\")\n",
        "test_df = pd.read_csv(project_path + \"/test.csv\")"
      ]
    },
    {
      "cell_type": "markdown",
      "metadata": {
        "id": "cf31bb9c"
      },
      "source": [
        "## Initial Data Exploration\n",
        "\n",
        "Before diving into preprocessing, let's inspect the dimensions of our datasets and take a peek at the first few rows. This helps us understand the data structure and the features available."
      ]
    },
    {
      "cell_type": "code",
      "execution_count": 54,
      "metadata": {
        "colab": {
          "base_uri": "https://localhost:8080/",
          "height": 273
        },
        "id": "5455575b",
        "outputId": "56def37e-0698-4a27-9c1d-ebdabfcdda0e"
      },
      "outputs": [
        {
          "output_type": "stream",
          "name": "stdout",
          "text": [
            "(42000, 785)\n"
          ]
        },
        {
          "output_type": "execute_result",
          "data": {
            "text/plain": [
              "   label  pixel0  pixel1  pixel2  pixel3  pixel4  pixel5  pixel6  pixel7  \\\n",
              "0      1       0       0       0       0       0       0       0       0   \n",
              "1      0       0       0       0       0       0       0       0       0   \n",
              "2      1       0       0       0       0       0       0       0       0   \n",
              "3      4       0       0       0       0       0       0       0       0   \n",
              "4      0       0       0       0       0       0       0       0       0   \n",
              "\n",
              "   pixel8  ...  pixel774  pixel775  pixel776  pixel777  pixel778  pixel779  \\\n",
              "0       0  ...         0         0         0         0         0         0   \n",
              "1       0  ...         0         0         0         0         0         0   \n",
              "2       0  ...         0         0         0         0         0         0   \n",
              "3       0  ...         0         0         0         0         0         0   \n",
              "4       0  ...         0         0         0         0         0         0   \n",
              "\n",
              "   pixel780  pixel781  pixel782  pixel783  \n",
              "0         0         0         0         0  \n",
              "1         0         0         0         0  \n",
              "2         0         0         0         0  \n",
              "3         0         0         0         0  \n",
              "4         0         0         0         0  \n",
              "\n",
              "[5 rows x 785 columns]"
            ],
            "text/html": [
              "\n",
              "  <div id=\"df-3b626178-f62b-4620-8ed8-bf6809500c86\" class=\"colab-df-container\">\n",
              "    <div>\n",
              "<style scoped>\n",
              "    .dataframe tbody tr th:only-of-type {\n",
              "        vertical-align: middle;\n",
              "    }\n",
              "\n",
              "    .dataframe tbody tr th {\n",
              "        vertical-align: top;\n",
              "    }\n",
              "\n",
              "    .dataframe thead th {\n",
              "        text-align: right;\n",
              "    }\n",
              "</style>\n",
              "<table border=\"1\" class=\"dataframe\">\n",
              "  <thead>\n",
              "    <tr style=\"text-align: right;\">\n",
              "      <th></th>\n",
              "      <th>label</th>\n",
              "      <th>pixel0</th>\n",
              "      <th>pixel1</th>\n",
              "      <th>pixel2</th>\n",
              "      <th>pixel3</th>\n",
              "      <th>pixel4</th>\n",
              "      <th>pixel5</th>\n",
              "      <th>pixel6</th>\n",
              "      <th>pixel7</th>\n",
              "      <th>pixel8</th>\n",
              "      <th>...</th>\n",
              "      <th>pixel774</th>\n",
              "      <th>pixel775</th>\n",
              "      <th>pixel776</th>\n",
              "      <th>pixel777</th>\n",
              "      <th>pixel778</th>\n",
              "      <th>pixel779</th>\n",
              "      <th>pixel780</th>\n",
              "      <th>pixel781</th>\n",
              "      <th>pixel782</th>\n",
              "      <th>pixel783</th>\n",
              "    </tr>\n",
              "  </thead>\n",
              "  <tbody>\n",
              "    <tr>\n",
              "      <th>0</th>\n",
              "      <td>1</td>\n",
              "      <td>0</td>\n",
              "      <td>0</td>\n",
              "      <td>0</td>\n",
              "      <td>0</td>\n",
              "      <td>0</td>\n",
              "      <td>0</td>\n",
              "      <td>0</td>\n",
              "      <td>0</td>\n",
              "      <td>0</td>\n",
              "      <td>...</td>\n",
              "      <td>0</td>\n",
              "      <td>0</td>\n",
              "      <td>0</td>\n",
              "      <td>0</td>\n",
              "      <td>0</td>\n",
              "      <td>0</td>\n",
              "      <td>0</td>\n",
              "      <td>0</td>\n",
              "      <td>0</td>\n",
              "      <td>0</td>\n",
              "    </tr>\n",
              "    <tr>\n",
              "      <th>1</th>\n",
              "      <td>0</td>\n",
              "      <td>0</td>\n",
              "      <td>0</td>\n",
              "      <td>0</td>\n",
              "      <td>0</td>\n",
              "      <td>0</td>\n",
              "      <td>0</td>\n",
              "      <td>0</td>\n",
              "      <td>0</td>\n",
              "      <td>0</td>\n",
              "      <td>...</td>\n",
              "      <td>0</td>\n",
              "      <td>0</td>\n",
              "      <td>0</td>\n",
              "      <td>0</td>\n",
              "      <td>0</td>\n",
              "      <td>0</td>\n",
              "      <td>0</td>\n",
              "      <td>0</td>\n",
              "      <td>0</td>\n",
              "      <td>0</td>\n",
              "    </tr>\n",
              "    <tr>\n",
              "      <th>2</th>\n",
              "      <td>1</td>\n",
              "      <td>0</td>\n",
              "      <td>0</td>\n",
              "      <td>0</td>\n",
              "      <td>0</td>\n",
              "      <td>0</td>\n",
              "      <td>0</td>\n",
              "      <td>0</td>\n",
              "      <td>0</td>\n",
              "      <td>0</td>\n",
              "      <td>...</td>\n",
              "      <td>0</td>\n",
              "      <td>0</td>\n",
              "      <td>0</td>\n",
              "      <td>0</td>\n",
              "      <td>0</td>\n",
              "      <td>0</td>\n",
              "      <td>0</td>\n",
              "      <td>0</td>\n",
              "      <td>0</td>\n",
              "      <td>0</td>\n",
              "    </tr>\n",
              "    <tr>\n",
              "      <th>3</th>\n",
              "      <td>4</td>\n",
              "      <td>0</td>\n",
              "      <td>0</td>\n",
              "      <td>0</td>\n",
              "      <td>0</td>\n",
              "      <td>0</td>\n",
              "      <td>0</td>\n",
              "      <td>0</td>\n",
              "      <td>0</td>\n",
              "      <td>0</td>\n",
              "      <td>...</td>\n",
              "      <td>0</td>\n",
              "      <td>0</td>\n",
              "      <td>0</td>\n",
              "      <td>0</td>\n",
              "      <td>0</td>\n",
              "      <td>0</td>\n",
              "      <td>0</td>\n",
              "      <td>0</td>\n",
              "      <td>0</td>\n",
              "      <td>0</td>\n",
              "    </tr>\n",
              "    <tr>\n",
              "      <th>4</th>\n",
              "      <td>0</td>\n",
              "      <td>0</td>\n",
              "      <td>0</td>\n",
              "      <td>0</td>\n",
              "      <td>0</td>\n",
              "      <td>0</td>\n",
              "      <td>0</td>\n",
              "      <td>0</td>\n",
              "      <td>0</td>\n",
              "      <td>0</td>\n",
              "      <td>...</td>\n",
              "      <td>0</td>\n",
              "      <td>0</td>\n",
              "      <td>0</td>\n",
              "      <td>0</td>\n",
              "      <td>0</td>\n",
              "      <td>0</td>\n",
              "      <td>0</td>\n",
              "      <td>0</td>\n",
              "      <td>0</td>\n",
              "      <td>0</td>\n",
              "    </tr>\n",
              "  </tbody>\n",
              "</table>\n",
              "<p>5 rows × 785 columns</p>\n",
              "</div>\n",
              "    <div class=\"colab-df-buttons\">\n",
              "\n",
              "  <div class=\"colab-df-container\">\n",
              "    <button class=\"colab-df-convert\" onclick=\"convertToInteractive('df-3b626178-f62b-4620-8ed8-bf6809500c86')\"\n",
              "            title=\"Convert this dataframe to an interactive table.\"\n",
              "            style=\"display:none;\">\n",
              "\n",
              "  <svg xmlns=\"http://www.w3.org/2000/svg\" height=\"24px\" viewBox=\"0 -960 960 960\">\n",
              "    <path d=\"M120-120v-720h720v720H120Zm60-500h600v-160H180v160Zm220 220h160v-160H400v160Zm0 220h160v-160H400v160ZM180-400h160v-160H180v160Zm440 0h160v-160H620v160ZM180-180h160v-160H180v160Zm440 0h160v-160H620v160Z\"/>\n",
              "  </svg>\n",
              "    </button>\n",
              "\n",
              "  <style>\n",
              "    .colab-df-container {\n",
              "      display:flex;\n",
              "      gap: 12px;\n",
              "    }\n",
              "\n",
              "    .colab-df-convert {\n",
              "      background-color: #E8F0FE;\n",
              "      border: none;\n",
              "      border-radius: 50%;\n",
              "      cursor: pointer;\n",
              "      display: none;\n",
              "      fill: #1967D2;\n",
              "      height: 32px;\n",
              "      padding: 0 0 0 0;\n",
              "      width: 32px;\n",
              "    }\n",
              "\n",
              "    .colab-df-convert:hover {\n",
              "      background-color: #E2EBFA;\n",
              "      box-shadow: 0px 1px 2px rgba(60, 64, 67, 0.3), 0px 1px 3px 1px rgba(60, 64, 67, 0.15);\n",
              "      fill: #174EA6;\n",
              "    }\n",
              "\n",
              "    .colab-df-buttons div {\n",
              "      margin-bottom: 4px;\n",
              "    }\n",
              "\n",
              "    [theme=dark] .colab-df-convert {\n",
              "      background-color: #3B4455;\n",
              "      fill: #D2E3FC;\n",
              "    }\n",
              "\n",
              "    [theme=dark] .colab-df-convert:hover {\n",
              "      background-color: #434B5C;\n",
              "      box-shadow: 0px 1px 3px 1px rgba(0, 0, 0, 0.15);\n",
              "      filter: drop-shadow(0px 1px 2px rgba(0, 0, 0, 0.3));\n",
              "      fill: #FFFFFF;\n",
              "    }\n",
              "  </style>\n",
              "\n",
              "    <script>\n",
              "      const buttonEl =\n",
              "        document.querySelector('#df-3b626178-f62b-4620-8ed8-bf6809500c86 button.colab-df-convert');\n",
              "      buttonEl.style.display =\n",
              "        google.colab.kernel.accessAllowed ? 'block' : 'none';\n",
              "\n",
              "      async function convertToInteractive(key) {\n",
              "        const element = document.querySelector('#df-3b626178-f62b-4620-8ed8-bf6809500c86');\n",
              "        const dataTable =\n",
              "          await google.colab.kernel.invokeFunction('convertToInteractive',\n",
              "                                                    [key], {});\n",
              "        if (!dataTable) return;\n",
              "\n",
              "        const docLinkHtml = 'Like what you see? Visit the ' +\n",
              "          '<a target=\"_blank\" href=https://colab.research.google.com/notebooks/data_table.ipynb>data table notebook</a>'\n",
              "          + ' to learn more about interactive tables.';\n",
              "        element.innerHTML = '';\n",
              "        dataTable['output_type'] = 'display_data';\n",
              "        await google.colab.output.renderOutput(dataTable, element);\n",
              "        const docLink = document.createElement('div');\n",
              "        docLink.innerHTML = docLinkHtml;\n",
              "        element.appendChild(docLink);\n",
              "      }\n",
              "    </script>\n",
              "  </div>\n",
              "\n",
              "\n",
              "    <div id=\"df-87f7c33a-f9d8-45a6-81c1-89d56041fe14\">\n",
              "      <button class=\"colab-df-quickchart\" onclick=\"quickchart('df-87f7c33a-f9d8-45a6-81c1-89d56041fe14')\"\n",
              "                title=\"Suggest charts\"\n",
              "                style=\"display:none;\">\n",
              "\n",
              "<svg xmlns=\"http://www.w3.org/2000/svg\" height=\"24px\"viewBox=\"0 0 24 24\"\n",
              "     width=\"24px\">\n",
              "    <g>\n",
              "        <path d=\"M19 3H5c-1.1 0-2 .9-2 2v14c0 1.1.9 2 2 2h14c1.1 0 2-.9 2-2V5c0-1.1-.9-2-2-2zM9 17H7v-7h2v7zm4 0h-2V7h2v10zm4 0h-2v-4h2v4z\"/>\n",
              "    </g>\n",
              "</svg>\n",
              "      </button>\n",
              "\n",
              "<style>\n",
              "  .colab-df-quickchart {\n",
              "      --bg-color: #E8F0FE;\n",
              "      --fill-color: #1967D2;\n",
              "      --hover-bg-color: #E2EBFA;\n",
              "      --hover-fill-color: #174EA6;\n",
              "      --disabled-fill-color: #AAA;\n",
              "      --disabled-bg-color: #DDD;\n",
              "  }\n",
              "\n",
              "  [theme=dark] .colab-df-quickchart {\n",
              "      --bg-color: #3B4455;\n",
              "      --fill-color: #D2E3FC;\n",
              "      --hover-bg-color: #434B5C;\n",
              "      --hover-fill-color: #FFFFFF;\n",
              "      --disabled-bg-color: #3B4455;\n",
              "      --disabled-fill-color: #666;\n",
              "  }\n",
              "\n",
              "  .colab-df-quickchart {\n",
              "    background-color: var(--bg-color);\n",
              "    border: none;\n",
              "    border-radius: 50%;\n",
              "    cursor: pointer;\n",
              "    display: none;\n",
              "    fill: var(--fill-color);\n",
              "    height: 32px;\n",
              "    padding: 0;\n",
              "    width: 32px;\n",
              "  }\n",
              "\n",
              "  .colab-df-quickchart:hover {\n",
              "    background-color: var(--hover-bg-color);\n",
              "    box-shadow: 0 1px 2px rgba(60, 64, 67, 0.3), 0 1px 3px 1px rgba(60, 64, 67, 0.15);\n",
              "    fill: var(--button-hover-fill-color);\n",
              "  }\n",
              "\n",
              "  .colab-df-quickchart-complete:disabled,\n",
              "  .colab-df-quickchart-complete:disabled:hover {\n",
              "    background-color: var(--disabled-bg-color);\n",
              "    fill: var(--disabled-fill-color);\n",
              "    box-shadow: none;\n",
              "  }\n",
              "\n",
              "  .colab-df-spinner {\n",
              "    border: 2px solid var(--fill-color);\n",
              "    border-color: transparent;\n",
              "    border-bottom-color: var(--fill-color);\n",
              "    animation:\n",
              "      spin 1s steps(1) infinite;\n",
              "  }\n",
              "\n",
              "  @keyframes spin {\n",
              "    0% {\n",
              "      border-color: transparent;\n",
              "      border-bottom-color: var(--fill-color);\n",
              "      border-left-color: var(--fill-color);\n",
              "    }\n",
              "    20% {\n",
              "      border-color: transparent;\n",
              "      border-left-color: var(--fill-color);\n",
              "      border-top-color: var(--fill-color);\n",
              "    }\n",
              "    30% {\n",
              "      border-color: transparent;\n",
              "      border-left-color: var(--fill-color);\n",
              "      border-top-color: var(--fill-color);\n",
              "      border-right-color: var(--fill-color);\n",
              "    }\n",
              "    40% {\n",
              "      border-color: transparent;\n",
              "      border-right-color: var(--fill-color);\n",
              "      border-top-color: var(--fill-color);\n",
              "    }\n",
              "    60% {\n",
              "      border-color: transparent;\n",
              "      border-right-color: var(--fill-color);\n",
              "    }\n",
              "    80% {\n",
              "      border-color: transparent;\n",
              "      border-right-color: var(--fill-color);\n",
              "      border-bottom-color: var(--fill-color);\n",
              "    }\n",
              "    90% {\n",
              "      border-color: transparent;\n",
              "      border-bottom-color: var(--fill-color);\n",
              "    }\n",
              "  }\n",
              "</style>\n",
              "\n",
              "      <script>\n",
              "        async function quickchart(key) {\n",
              "          const quickchartButtonEl =\n",
              "            document.querySelector('#' + key + ' button');\n",
              "          quickchartButtonEl.disabled = true;  // To prevent multiple clicks.\n",
              "          quickchartButtonEl.classList.add('colab-df-spinner');\n",
              "          try {\n",
              "            const charts = await google.colab.kernel.invokeFunction(\n",
              "                'suggestCharts', [key], {});\n",
              "          } catch (error) {\n",
              "            console.error('Error during call to suggestCharts:', error);\n",
              "          }\n",
              "          quickchartButtonEl.classList.remove('colab-df-spinner');\n",
              "          quickchartButtonEl.classList.add('colab-df-quickchart-complete');\n",
              "        }\n",
              "        (() => {\n",
              "          let quickchartButtonEl =\n",
              "            document.querySelector('#df-87f7c33a-f9d8-45a6-81c1-89d56041fe14 button');\n",
              "          quickchartButtonEl.style.display =\n",
              "            google.colab.kernel.accessAllowed ? 'block' : 'none';\n",
              "        })();\n",
              "      </script>\n",
              "    </div>\n",
              "\n",
              "    </div>\n",
              "  </div>\n"
            ],
            "application/vnd.google.colaboratory.intrinsic+json": {
              "type": "dataframe",
              "variable_name": "train_df"
            }
          },
          "metadata": {},
          "execution_count": 54
        }
      ],
      "source": [
        "print(train_df.shape)\n",
        "train_df.head()"
      ]
    },
    {
      "cell_type": "code",
      "execution_count": 55,
      "metadata": {
        "colab": {
          "base_uri": "https://localhost:8080/",
          "height": 273
        },
        "id": "5d39c023",
        "outputId": "6ed3f243-937e-4d77-b0cb-58614fe90a25"
      },
      "outputs": [
        {
          "output_type": "stream",
          "name": "stdout",
          "text": [
            "(28000, 784)\n"
          ]
        },
        {
          "output_type": "execute_result",
          "data": {
            "text/plain": [
              "   pixel0  pixel1  pixel2  pixel3  pixel4  pixel5  pixel6  pixel7  pixel8  \\\n",
              "0       0       0       0       0       0       0       0       0       0   \n",
              "1       0       0       0       0       0       0       0       0       0   \n",
              "2       0       0       0       0       0       0       0       0       0   \n",
              "3       0       0       0       0       0       0       0       0       0   \n",
              "4       0       0       0       0       0       0       0       0       0   \n",
              "\n",
              "   pixel9  ...  pixel774  pixel775  pixel776  pixel777  pixel778  pixel779  \\\n",
              "0       0  ...         0         0         0         0         0         0   \n",
              "1       0  ...         0         0         0         0         0         0   \n",
              "2       0  ...         0         0         0         0         0         0   \n",
              "3       0  ...         0         0         0         0         0         0   \n",
              "4       0  ...         0         0         0         0         0         0   \n",
              "\n",
              "   pixel780  pixel781  pixel782  pixel783  \n",
              "0         0         0         0         0  \n",
              "1         0         0         0         0  \n",
              "2         0         0         0         0  \n",
              "3         0         0         0         0  \n",
              "4         0         0         0         0  \n",
              "\n",
              "[5 rows x 784 columns]"
            ],
            "text/html": [
              "\n",
              "  <div id=\"df-a75e5020-314b-4466-997d-beeeb39fdab7\" class=\"colab-df-container\">\n",
              "    <div>\n",
              "<style scoped>\n",
              "    .dataframe tbody tr th:only-of-type {\n",
              "        vertical-align: middle;\n",
              "    }\n",
              "\n",
              "    .dataframe tbody tr th {\n",
              "        vertical-align: top;\n",
              "    }\n",
              "\n",
              "    .dataframe thead th {\n",
              "        text-align: right;\n",
              "    }\n",
              "</style>\n",
              "<table border=\"1\" class=\"dataframe\">\n",
              "  <thead>\n",
              "    <tr style=\"text-align: right;\">\n",
              "      <th></th>\n",
              "      <th>pixel0</th>\n",
              "      <th>pixel1</th>\n",
              "      <th>pixel2</th>\n",
              "      <th>pixel3</th>\n",
              "      <th>pixel4</th>\n",
              "      <th>pixel5</th>\n",
              "      <th>pixel6</th>\n",
              "      <th>pixel7</th>\n",
              "      <th>pixel8</th>\n",
              "      <th>pixel9</th>\n",
              "      <th>...</th>\n",
              "      <th>pixel774</th>\n",
              "      <th>pixel775</th>\n",
              "      <th>pixel776</th>\n",
              "      <th>pixel777</th>\n",
              "      <th>pixel778</th>\n",
              "      <th>pixel779</th>\n",
              "      <th>pixel780</th>\n",
              "      <th>pixel781</th>\n",
              "      <th>pixel782</th>\n",
              "      <th>pixel783</th>\n",
              "    </tr>\n",
              "  </thead>\n",
              "  <tbody>\n",
              "    <tr>\n",
              "      <th>0</th>\n",
              "      <td>0</td>\n",
              "      <td>0</td>\n",
              "      <td>0</td>\n",
              "      <td>0</td>\n",
              "      <td>0</td>\n",
              "      <td>0</td>\n",
              "      <td>0</td>\n",
              "      <td>0</td>\n",
              "      <td>0</td>\n",
              "      <td>0</td>\n",
              "      <td>...</td>\n",
              "      <td>0</td>\n",
              "      <td>0</td>\n",
              "      <td>0</td>\n",
              "      <td>0</td>\n",
              "      <td>0</td>\n",
              "      <td>0</td>\n",
              "      <td>0</td>\n",
              "      <td>0</td>\n",
              "      <td>0</td>\n",
              "      <td>0</td>\n",
              "    </tr>\n",
              "    <tr>\n",
              "      <th>1</th>\n",
              "      <td>0</td>\n",
              "      <td>0</td>\n",
              "      <td>0</td>\n",
              "      <td>0</td>\n",
              "      <td>0</td>\n",
              "      <td>0</td>\n",
              "      <td>0</td>\n",
              "      <td>0</td>\n",
              "      <td>0</td>\n",
              "      <td>0</td>\n",
              "      <td>...</td>\n",
              "      <td>0</td>\n",
              "      <td>0</td>\n",
              "      <td>0</td>\n",
              "      <td>0</td>\n",
              "      <td>0</td>\n",
              "      <td>0</td>\n",
              "      <td>0</td>\n",
              "      <td>0</td>\n",
              "      <td>0</td>\n",
              "      <td>0</td>\n",
              "    </tr>\n",
              "    <tr>\n",
              "      <th>2</th>\n",
              "      <td>0</td>\n",
              "      <td>0</td>\n",
              "      <td>0</td>\n",
              "      <td>0</td>\n",
              "      <td>0</td>\n",
              "      <td>0</td>\n",
              "      <td>0</td>\n",
              "      <td>0</td>\n",
              "      <td>0</td>\n",
              "      <td>0</td>\n",
              "      <td>...</td>\n",
              "      <td>0</td>\n",
              "      <td>0</td>\n",
              "      <td>0</td>\n",
              "      <td>0</td>\n",
              "      <td>0</td>\n",
              "      <td>0</td>\n",
              "      <td>0</td>\n",
              "      <td>0</td>\n",
              "      <td>0</td>\n",
              "      <td>0</td>\n",
              "    </tr>\n",
              "    <tr>\n",
              "      <th>3</th>\n",
              "      <td>0</td>\n",
              "      <td>0</td>\n",
              "      <td>0</td>\n",
              "      <td>0</td>\n",
              "      <td>0</td>\n",
              "      <td>0</td>\n",
              "      <td>0</td>\n",
              "      <td>0</td>\n",
              "      <td>0</td>\n",
              "      <td>0</td>\n",
              "      <td>...</td>\n",
              "      <td>0</td>\n",
              "      <td>0</td>\n",
              "      <td>0</td>\n",
              "      <td>0</td>\n",
              "      <td>0</td>\n",
              "      <td>0</td>\n",
              "      <td>0</td>\n",
              "      <td>0</td>\n",
              "      <td>0</td>\n",
              "      <td>0</td>\n",
              "    </tr>\n",
              "    <tr>\n",
              "      <th>4</th>\n",
              "      <td>0</td>\n",
              "      <td>0</td>\n",
              "      <td>0</td>\n",
              "      <td>0</td>\n",
              "      <td>0</td>\n",
              "      <td>0</td>\n",
              "      <td>0</td>\n",
              "      <td>0</td>\n",
              "      <td>0</td>\n",
              "      <td>0</td>\n",
              "      <td>...</td>\n",
              "      <td>0</td>\n",
              "      <td>0</td>\n",
              "      <td>0</td>\n",
              "      <td>0</td>\n",
              "      <td>0</td>\n",
              "      <td>0</td>\n",
              "      <td>0</td>\n",
              "      <td>0</td>\n",
              "      <td>0</td>\n",
              "      <td>0</td>\n",
              "    </tr>\n",
              "  </tbody>\n",
              "</table>\n",
              "<p>5 rows × 784 columns</p>\n",
              "</div>\n",
              "    <div class=\"colab-df-buttons\">\n",
              "\n",
              "  <div class=\"colab-df-container\">\n",
              "    <button class=\"colab-df-convert\" onclick=\"convertToInteractive('df-a75e5020-314b-4466-997d-beeeb39fdab7')\"\n",
              "            title=\"Convert this dataframe to an interactive table.\"\n",
              "            style=\"display:none;\">\n",
              "\n",
              "  <svg xmlns=\"http://www.w3.org/2000/svg\" height=\"24px\" viewBox=\"0 -960 960 960\">\n",
              "    <path d=\"M120-120v-720h720v720H120Zm60-500h600v-160H180v160Zm220 220h160v-160H400v160Zm0 220h160v-160H400v160ZM180-400h160v-160H180v160Zm440 0h160v-160H620v160ZM180-180h160v-160H180v160Zm440 0h160v-160H620v160Z\"/>\n",
              "  </svg>\n",
              "    </button>\n",
              "\n",
              "  <style>\n",
              "    .colab-df-container {\n",
              "      display:flex;\n",
              "      gap: 12px;\n",
              "    }\n",
              "\n",
              "    .colab-df-convert {\n",
              "      background-color: #E8F0FE;\n",
              "      border: none;\n",
              "      border-radius: 50%;\n",
              "      cursor: pointer;\n",
              "      display: none;\n",
              "      fill: #1967D2;\n",
              "      height: 32px;\n",
              "      padding: 0 0 0 0;\n",
              "      width: 32px;\n",
              "    }\n",
              "\n",
              "    .colab-df-convert:hover {\n",
              "      background-color: #E2EBFA;\n",
              "      box-shadow: 0px 1px 2px rgba(60, 64, 67, 0.3), 0px 1px 3px 1px rgba(60, 64, 67, 0.15);\n",
              "      fill: #174EA6;\n",
              "    }\n",
              "\n",
              "    .colab-df-buttons div {\n",
              "      margin-bottom: 4px;\n",
              "    }\n",
              "\n",
              "    [theme=dark] .colab-df-convert {\n",
              "      background-color: #3B4455;\n",
              "      fill: #D2E3FC;\n",
              "    }\n",
              "\n",
              "    [theme=dark] .colab-df-convert:hover {\n",
              "      background-color: #434B5C;\n",
              "      box-shadow: 0px 1px 3px 1px rgba(0, 0, 0, 0.15);\n",
              "      filter: drop-shadow(0px 1px 2px rgba(0, 0, 0, 0.3));\n",
              "      fill: #FFFFFF;\n",
              "    }\n",
              "  </style>\n",
              "\n",
              "    <script>\n",
              "      const buttonEl =\n",
              "        document.querySelector('#df-a75e5020-314b-4466-997d-beeeb39fdab7 button.colab-df-convert');\n",
              "      buttonEl.style.display =\n",
              "        google.colab.kernel.accessAllowed ? 'block' : 'none';\n",
              "\n",
              "      async function convertToInteractive(key) {\n",
              "        const element = document.querySelector('#df-a75e5020-314b-4466-997d-beeeb39fdab7');\n",
              "        const dataTable =\n",
              "          await google.colab.kernel.invokeFunction('convertToInteractive',\n",
              "                                                    [key], {});\n",
              "        if (!dataTable) return;\n",
              "\n",
              "        const docLinkHtml = 'Like what you see? Visit the ' +\n",
              "          '<a target=\"_blank\" href=https://colab.research.google.com/notebooks/data_table.ipynb>data table notebook</a>'\n",
              "          + ' to learn more about interactive tables.';\n",
              "        element.innerHTML = '';\n",
              "        dataTable['output_type'] = 'display_data';\n",
              "        await google.colab.output.renderOutput(dataTable, element);\n",
              "        const docLink = document.createElement('div');\n",
              "        docLink.innerHTML = docLinkHtml;\n",
              "        element.appendChild(docLink);\n",
              "      }\n",
              "    </script>\n",
              "  </div>\n",
              "\n",
              "\n",
              "    <div id=\"df-bd04f5cd-7deb-4abc-aade-ae359b20a1f4\">\n",
              "      <button class=\"colab-df-quickchart\" onclick=\"quickchart('df-bd04f5cd-7deb-4abc-aade-ae359b20a1f4')\"\n",
              "                title=\"Suggest charts\"\n",
              "                style=\"display:none;\">\n",
              "\n",
              "<svg xmlns=\"http://www.w3.org/2000/svg\" height=\"24px\"viewBox=\"0 0 24 24\"\n",
              "     width=\"24px\">\n",
              "    <g>\n",
              "        <path d=\"M19 3H5c-1.1 0-2 .9-2 2v14c0 1.1.9 2 2 2h14c1.1 0 2-.9 2-2V5c0-1.1-.9-2-2-2zM9 17H7v-7h2v7zm4 0h-2V7h2v10zm4 0h-2v-4h2v4z\"/>\n",
              "    </g>\n",
              "</svg>\n",
              "      </button>\n",
              "\n",
              "<style>\n",
              "  .colab-df-quickchart {\n",
              "      --bg-color: #E8F0FE;\n",
              "      --fill-color: #1967D2;\n",
              "      --hover-bg-color: #E2EBFA;\n",
              "      --hover-fill-color: #174EA6;\n",
              "      --disabled-fill-color: #AAA;\n",
              "      --disabled-bg-color: #DDD;\n",
              "  }\n",
              "\n",
              "  [theme=dark] .colab-df-quickchart {\n",
              "      --bg-color: #3B4455;\n",
              "      --fill-color: #D2E3FC;\n",
              "      --hover-bg-color: #434B5C;\n",
              "      --hover-fill-color: #FFFFFF;\n",
              "      --disabled-bg-color: #3B4455;\n",
              "      --disabled-fill-color: #666;\n",
              "  }\n",
              "\n",
              "  .colab-df-quickchart {\n",
              "    background-color: var(--bg-color);\n",
              "    border: none;\n",
              "    border-radius: 50%;\n",
              "    cursor: pointer;\n",
              "    display: none;\n",
              "    fill: var(--fill-color);\n",
              "    height: 32px;\n",
              "    padding: 0;\n",
              "    width: 32px;\n",
              "  }\n",
              "\n",
              "  .colab-df-quickchart:hover {\n",
              "    background-color: var(--hover-bg-color);\n",
              "    box-shadow: 0 1px 2px rgba(60, 64, 67, 0.3), 0 1px 3px 1px rgba(60, 64, 67, 0.15);\n",
              "    fill: var(--button-hover-fill-color);\n",
              "  }\n",
              "\n",
              "  .colab-df-quickchart-complete:disabled,\n",
              "  .colab-df-quickchart-complete:disabled:hover {\n",
              "    background-color: var(--disabled-bg-color);\n",
              "    fill: var(--disabled-fill-color);\n",
              "    box-shadow: none;\n",
              "  }\n",
              "\n",
              "  .colab-df-spinner {\n",
              "    border: 2px solid var(--fill-color);\n",
              "    border-color: transparent;\n",
              "    border-bottom-color: var(--fill-color);\n",
              "    animation:\n",
              "      spin 1s steps(1) infinite;\n",
              "  }\n",
              "\n",
              "  @keyframes spin {\n",
              "    0% {\n",
              "      border-color: transparent;\n",
              "      border-bottom-color: var(--fill-color);\n",
              "      border-left-color: var(--fill-color);\n",
              "    }\n",
              "    20% {\n",
              "      border-color: transparent;\n",
              "      border-left-color: var(--fill-color);\n",
              "      border-top-color: var(--fill-color);\n",
              "    }\n",
              "    30% {\n",
              "      border-color: transparent;\n",
              "      border-left-color: var(--fill-color);\n",
              "      border-top-color: var(--fill-color);\n",
              "      border-right-color: var(--fill-color);\n",
              "    }\n",
              "    40% {\n",
              "      border-color: transparent;\n",
              "      border-right-color: var(--fill-color);\n",
              "      border-top-color: var(--fill-color);\n",
              "    }\n",
              "    60% {\n",
              "      border-color: transparent;\n",
              "      border-right-color: var(--fill-color);\n",
              "    }\n",
              "    80% {\n",
              "      border-color: transparent;\n",
              "      border-right-color: var(--fill-color);\n",
              "      border-bottom-color: var(--fill-color);\n",
              "    }\n",
              "    90% {\n",
              "      border-color: transparent;\n",
              "      border-bottom-color: var(--fill-color);\n",
              "    }\n",
              "  }\n",
              "</style>\n",
              "\n",
              "      <script>\n",
              "        async function quickchart(key) {\n",
              "          const quickchartButtonEl =\n",
              "            document.querySelector('#' + key + ' button');\n",
              "          quickchartButtonEl.disabled = true;  // To prevent multiple clicks.\n",
              "          quickchartButtonEl.classList.add('colab-df-spinner');\n",
              "          try {\n",
              "            const charts = await google.colab.kernel.invokeFunction(\n",
              "                'suggestCharts', [key], {});\n",
              "          } catch (error) {\n",
              "            console.error('Error during call to suggestCharts:', error);\n",
              "          }\n",
              "          quickchartButtonEl.classList.remove('colab-df-spinner');\n",
              "          quickchartButtonEl.classList.add('colab-df-quickchart-complete');\n",
              "        }\n",
              "        (() => {\n",
              "          let quickchartButtonEl =\n",
              "            document.querySelector('#df-bd04f5cd-7deb-4abc-aade-ae359b20a1f4 button');\n",
              "          quickchartButtonEl.style.display =\n",
              "            google.colab.kernel.accessAllowed ? 'block' : 'none';\n",
              "        })();\n",
              "      </script>\n",
              "    </div>\n",
              "\n",
              "    </div>\n",
              "  </div>\n"
            ],
            "application/vnd.google.colaboratory.intrinsic+json": {
              "type": "dataframe",
              "variable_name": "test_df"
            }
          },
          "metadata": {},
          "execution_count": 55
        }
      ],
      "source": [
        "print(test_df.shape)\n",
        "test_df.head()"
      ]
    },
    {
      "cell_type": "markdown",
      "metadata": {
        "id": "3bf24f08"
      },
      "source": [
        "## Data Preparation: Features and Labels\n",
        "\n",
        "Here, we split the training data into features (the pixel values) and the target variable (the digit labels). The test data, which doesn't have labels, is assigned to a separate variable for later use in generating predictions."
      ]
    },
    {
      "cell_type": "code",
      "execution_count": 56,
      "metadata": {
        "colab": {
          "base_uri": "https://localhost:8080/"
        },
        "id": "w627aucfwp94",
        "outputId": "11f5ce76-ea0d-4889-db4a-ba442079ba64"
      },
      "outputs": [
        {
          "output_type": "stream",
          "name": "stdout",
          "text": [
            "(42000, 784)\n",
            "(42000,)\n"
          ]
        }
      ],
      "source": [
        "X_train = train_df.drop('label', axis=1)\n",
        "y = train_df['label']\n",
        "\n",
        "print(X_train.shape)\n",
        "print(y.shape)"
      ]
    },
    {
      "cell_type": "code",
      "execution_count": 57,
      "metadata": {
        "colab": {
          "base_uri": "https://localhost:8080/"
        },
        "id": "xMa14lhmNMOn",
        "outputId": "34593e49-3d14-4e05-dfeb-839fafb0b109"
      },
      "outputs": [
        {
          "output_type": "stream",
          "name": "stdout",
          "text": [
            "(28000, 784)\n"
          ]
        }
      ],
      "source": [
        "X_test = test_df\n",
        "print(X_test.shape)"
      ]
    },
    {
      "cell_type": "markdown",
      "metadata": {
        "id": "912ba1cd"
      },
      "source": [
        "## Data Transformations\n",
        "\n",
        "Data transformations are crucial for image datasets, especially during training. They help in augmenting the dataset and making the model more robust to variations in the input data."
      ]
    },
    {
      "cell_type": "code",
      "execution_count": 58,
      "metadata": {
        "id": "YP1K-X5a8J8u"
      },
      "outputs": [],
      "source": [
        "transforms = transforms.Compose([\n",
        "    # transforms.ToTensor(),\n",
        "    # transforms.Normalize((0.5,), (0.5,)),\n",
        "    transforms.RandomRotation(2),\n",
        "    # transforms.RandomAffine(0, translate=(0.1, 0.1)),\n",
        "])"
      ]
    },
    {
      "cell_type": "code",
      "execution_count": 59,
      "metadata": {
        "colab": {
          "base_uri": "https://localhost:8080/"
        },
        "id": "jK5WWGD9lE4N",
        "outputId": "5471086a-5d88-4cdd-f57e-acda3aaf3776"
      },
      "outputs": [
        {
          "output_type": "execute_result",
          "data": {
            "text/plain": [
              "device(type='cuda')"
            ]
          },
          "metadata": {},
          "execution_count": 59
        }
      ],
      "source": [
        "device = torch.device(\"cuda\" if torch.cuda.is_available() else \"cpu\")\n",
        "device"
      ]
    },
    {
      "cell_type": "markdown",
      "metadata": {
        "id": "bc023eb3"
      },
      "source": [
        "## PyTorch Dataset and DataLoader Setup\n",
        "\n",
        "To effectively work with our data in PyTorch and prepare it for training in batches, we define a custom Dataset class and create DataLoaders."
      ]
    },
    {
      "cell_type": "code",
      "execution_count": 60,
      "metadata": {
        "id": "qrENMqxi7Mi4"
      },
      "outputs": [],
      "source": [
        "class DigitDataset(Dataset):\n",
        "  def __init__(self, x_df, y_df, transform=None):\n",
        "    self.xs = torch.tensor(x_df.values).float().to(device)\n",
        "    self.ys = torch.tensor(y_df.values).to(device)\n",
        "    self.transform = transform\n",
        "\n",
        "  def __len__(self):\n",
        "    return len(self.xs)\n",
        "\n",
        "  def __getitem__(self, idx):\n",
        "    x = self.xs[idx, :]\n",
        "    x = x.reshape(28, 28)   # 784=28*28\n",
        "    x = x / 255\n",
        "    x = x.unsqueeze(0)\n",
        "    if self.transform:\n",
        "      x = self.transform(x)\n",
        "    y = self.ys[idx].long()\n",
        "    return x, y"
      ]
    },
    {
      "cell_type": "code",
      "execution_count": 61,
      "metadata": {
        "id": "iHwQqzlt7eGB"
      },
      "outputs": [],
      "source": [
        "from sklearn.model_selection import train_test_split\n",
        "\n",
        "BATCH_SIZE = 128\n",
        "\n",
        "X_train_split, X_val, y_train_split, y_val = train_test_split(X_train, y, test_size=0.2, random_state=42)\n",
        "\n",
        "train_data = DigitDataset(X_train_split, y_train_split, transform=transforms)\n",
        "train_loader = DataLoader(train_data, batch_size=BATCH_SIZE, shuffle=True)\n",
        "train_N = len(train_loader)"
      ]
    },
    {
      "cell_type": "code",
      "execution_count": 62,
      "metadata": {
        "id": "dSTL2RvWV7_b"
      },
      "outputs": [],
      "source": [
        "test_data = DigitDataset(X_val, y_val, transform=transforms)\n",
        "test_loader = DataLoader(test_data, batch_size=BATCH_SIZE, shuffle=True)\n",
        "valid_N = len(test_loader)"
      ]
    },
    {
      "cell_type": "code",
      "execution_count": 63,
      "metadata": {
        "colab": {
          "base_uri": "https://localhost:8080/"
        },
        "id": "68qPNWES4fa6",
        "outputId": "3a9c7480-c644-465f-ee8a-2e0e5447a0ee"
      },
      "outputs": [
        {
          "output_type": "stream",
          "name": "stdout",
          "text": [
            "<torch.utils.data.dataloader.DataLoader object at 0x7da8312855e0>\n",
            "263\n"
          ]
        }
      ],
      "source": [
        "print(train_loader)\n",
        "print(train_N)"
      ]
    },
    {
      "cell_type": "code",
      "execution_count": 64,
      "metadata": {
        "colab": {
          "base_uri": "https://localhost:8080/"
        },
        "id": "lfmqKPddO0g5",
        "outputId": "5422859d-41c6-4e29-a8b2-da7d0296e01f"
      },
      "outputs": [
        {
          "output_type": "stream",
          "name": "stdout",
          "text": [
            "<torch.utils.data.dataloader.DataLoader object at 0x7da7baee0b30>\n",
            "66\n"
          ]
        }
      ],
      "source": [
        "print(test_loader)\n",
        "print(valid_N)"
      ]
    },
    {
      "cell_type": "code",
      "execution_count": 65,
      "metadata": {
        "colab": {
          "base_uri": "https://localhost:8080/"
        },
        "id": "jtiWV57k69rH",
        "outputId": "997ed5df-45e6-4123-b291-28ba1249981d"
      },
      "outputs": [
        {
          "output_type": "execute_result",
          "data": {
            "text/plain": [
              "[tensor([[[[0., 0., 0.,  ..., 0., 0., 0.],\n",
              "           [0., 0., 0.,  ..., 0., 0., 0.],\n",
              "           [0., 0., 0.,  ..., 0., 0., 0.],\n",
              "           ...,\n",
              "           [0., 0., 0.,  ..., 0., 0., 0.],\n",
              "           [0., 0., 0.,  ..., 0., 0., 0.],\n",
              "           [0., 0., 0.,  ..., 0., 0., 0.]]],\n",
              " \n",
              " \n",
              "         [[[0., 0., 0.,  ..., 0., 0., 0.],\n",
              "           [0., 0., 0.,  ..., 0., 0., 0.],\n",
              "           [0., 0., 0.,  ..., 0., 0., 0.],\n",
              "           ...,\n",
              "           [0., 0., 0.,  ..., 0., 0., 0.],\n",
              "           [0., 0., 0.,  ..., 0., 0., 0.],\n",
              "           [0., 0., 0.,  ..., 0., 0., 0.]]],\n",
              " \n",
              " \n",
              "         [[[0., 0., 0.,  ..., 0., 0., 0.],\n",
              "           [0., 0., 0.,  ..., 0., 0., 0.],\n",
              "           [0., 0., 0.,  ..., 0., 0., 0.],\n",
              "           ...,\n",
              "           [0., 0., 0.,  ..., 0., 0., 0.],\n",
              "           [0., 0., 0.,  ..., 0., 0., 0.],\n",
              "           [0., 0., 0.,  ..., 0., 0., 0.]]],\n",
              " \n",
              " \n",
              "         ...,\n",
              " \n",
              " \n",
              "         [[[0., 0., 0.,  ..., 0., 0., 0.],\n",
              "           [0., 0., 0.,  ..., 0., 0., 0.],\n",
              "           [0., 0., 0.,  ..., 0., 0., 0.],\n",
              "           ...,\n",
              "           [0., 0., 0.,  ..., 0., 0., 0.],\n",
              "           [0., 0., 0.,  ..., 0., 0., 0.],\n",
              "           [0., 0., 0.,  ..., 0., 0., 0.]]],\n",
              " \n",
              " \n",
              "         [[[0., 0., 0.,  ..., 0., 0., 0.],\n",
              "           [0., 0., 0.,  ..., 0., 0., 0.],\n",
              "           [0., 0., 0.,  ..., 0., 0., 0.],\n",
              "           ...,\n",
              "           [0., 0., 0.,  ..., 0., 0., 0.],\n",
              "           [0., 0., 0.,  ..., 0., 0., 0.],\n",
              "           [0., 0., 0.,  ..., 0., 0., 0.]]],\n",
              " \n",
              " \n",
              "         [[[0., 0., 0.,  ..., 0., 0., 0.],\n",
              "           [0., 0., 0.,  ..., 0., 0., 0.],\n",
              "           [0., 0., 0.,  ..., 0., 0., 0.],\n",
              "           ...,\n",
              "           [0., 0., 0.,  ..., 0., 0., 0.],\n",
              "           [0., 0., 0.,  ..., 0., 0., 0.],\n",
              "           [0., 0., 0.,  ..., 0., 0., 0.]]]], device='cuda:0'),\n",
              " tensor([7, 8, 7, 0, 4, 1, 2, 6, 8, 0, 7, 9, 9, 5, 1, 5, 1, 3, 6, 3, 7, 6, 1, 2,\n",
              "         7, 3, 0, 4, 7, 0, 6, 8, 4, 1, 0, 3, 1, 2, 5, 4, 5, 7, 7, 8, 1, 1, 4, 4,\n",
              "         5, 4, 1, 5, 3, 6, 0, 3, 4, 3, 6, 5, 2, 2, 9, 8, 3, 2, 0, 5, 0, 9, 3, 4,\n",
              "         1, 1, 4, 3, 6, 8, 4, 8, 9, 9, 7, 7, 1, 5, 3, 5, 7, 8, 4, 3, 1, 1, 7, 4,\n",
              "         6, 9, 4, 4, 6, 6, 6, 8, 1, 6, 4, 8, 5, 3, 9, 2, 6, 6, 2, 8, 9, 9, 3, 0,\n",
              "         3, 1, 8, 0, 9, 6, 1, 3], device='cuda:0')]"
            ]
          },
          "metadata": {},
          "execution_count": 65
        }
      ],
      "source": [
        "batch = next(iter(train_loader))\n",
        "batch"
      ]
    },
    {
      "cell_type": "code",
      "execution_count": 66,
      "metadata": {
        "colab": {
          "base_uri": "https://localhost:8080/"
        },
        "id": "PkcM_c8p8uJ4",
        "outputId": "fe0e02dd-27e1-4c06-8992-5445028a3695"
      },
      "outputs": [
        {
          "output_type": "execute_result",
          "data": {
            "text/plain": [
              "torch.Size([128, 1, 28, 28])"
            ]
          },
          "metadata": {},
          "execution_count": 66
        }
      ],
      "source": [
        "batch[0].shape"
      ]
    },
    {
      "cell_type": "code",
      "execution_count": 67,
      "metadata": {
        "colab": {
          "base_uri": "https://localhost:8080/",
          "height": 447
        },
        "id": "g95QY36NHGRU",
        "outputId": "56836241-fdd6-47c2-cf3e-dcf6d2753164"
      },
      "outputs": [
        {
          "output_type": "execute_result",
          "data": {
            "text/plain": [
              "<matplotlib.image.AxesImage at 0x7da7b1f1c500>"
            ]
          },
          "metadata": {},
          "execution_count": 67
        },
        {
          "output_type": "display_data",
          "data": {
            "text/plain": [
              "<Figure size 640x480 with 1 Axes>"
            ],
            "image/png": "[encoded data removed]"
          },
          "metadata": {}
        }
      ],
      "source": [
        "plt.imshow(batch[0][2, 0, :].cpu(), cmap=\"gray\")"
      ]
    },
    {
      "cell_type": "markdown",
      "metadata": {
        "id": "00226be6"
      },
      "source": [
        "## Model Definition\n",
        "\n",
        "Here, we define the architecture of our neural network models. We'll explore two different network structures: a simple Multilayer Perceptron (MLP) and a Convolutional Neural Network (CNN)."
      ]
    },
    {
      "cell_type": "markdown",
      "metadata": {
        "id": "p4hq8lw60Ec7"
      },
      "source": []
    },
    {
      "cell_type": "code",
      "execution_count": 68,
      "metadata": {
        "id": "uCDhdyfgOMR3"
      },
      "outputs": [],
      "source": [
        "input_size = 28 * 28\n",
        "output_size = 10\n",
        "\n",
        "class DigitNetwork(nn.Module):\n",
        "  def __init__(self):\n",
        "    super().__init__()\n",
        "    self.flatten = nn.Flatten()\n",
        "    self.layers = nn.Sequential(\n",
        "        nn.Linear(input_size, 512),\n",
        "        nn.ReLU(),\n",
        "        nn.Dropout(0.3),\n",
        "        nn.Linear(512, 256),\n",
        "        nn.ReLU(),\n",
        "        nn.Dropout(0.3),\n",
        "        nn.Linear(256, 128),\n",
        "        nn.ReLU(),\n",
        "        nn.Dropout(0.5),\n",
        "        nn.Linear(128, output_size)\n",
        "    )\n",
        "\n",
        "  def forward(self, x):\n",
        "    x = self.flatten(x)\n",
        "    return self.layers(x)"
      ]
    },
    {
      "cell_type": "code",
      "execution_count": 69,
      "metadata": {
        "colab": {
          "base_uri": "https://localhost:8080/"
        },
        "id": "eAAe6v1gTjzt",
        "outputId": "774d34c7-1dfd-4fa8-e479-7e268f4510c4"
      },
      "outputs": [
        {
          "output_type": "execute_result",
          "data": {
            "text/plain": [
              "DigitNetwork(\n",
              "  (flatten): Flatten(start_dim=1, end_dim=-1)\n",
              "  (layers): Sequential(\n",
              "    (0): Linear(in_features=784, out_features=512, bias=True)\n",
              "    (1): ReLU()\n",
              "    (2): Dropout(p=0.3, inplace=False)\n",
              "    (3): Linear(in_features=512, out_features=256, bias=True)\n",
              "    (4): ReLU()\n",
              "    (5): Dropout(p=0.3, inplace=False)\n",
              "    (6): Linear(in_features=256, out_features=128, bias=True)\n",
              "    (7): ReLU()\n",
              "    (8): Dropout(p=0.5, inplace=False)\n",
              "    (9): Linear(in_features=128, out_features=10, bias=True)\n",
              "  )\n",
              ")"
            ]
          },
          "metadata": {},
          "execution_count": 69
        }
      ],
      "source": [
        "model = DigitNetwork().to(device)\n",
        "model"
      ]
    },
    {
      "cell_type": "markdown",
      "metadata": {
        "id": "fad4489b"
      },
      "source": [
        "## Training Setup\n",
        "\n",
        "Before we can train our models, we need to define a loss function to measure how well the model is performing and an optimizer to update the model's parameters during training. We also define a helper class, `Trainer`, to handle the training and evaluation loops."
      ]
    },
    {
      "cell_type": "code",
      "execution_count": 70,
      "metadata": {
        "id": "5iUEvpEsTmO1"
      },
      "outputs": [],
      "source": [
        "loss_function = nn.CrossEntropyLoss()\n",
        "optimizer = optim.Adam(model.parameters(), lr=0.001)"
      ]
    },
    {
      "cell_type": "code",
      "execution_count": 71,
      "metadata": {
        "colab": {
          "base_uri": "https://localhost:8080/"
        },
        "collapsed": true,
        "id": "pq0DDRVkUFq7",
        "outputId": "f195d536-7b23-4b74-d6ba-cb4b24aaa895"
      },
      "outputs": [
        {
          "output_type": "stream",
          "name": "stdout",
          "text": [
            "Model structure: DigitNetwork(\n",
            "  (flatten): Flatten(start_dim=1, end_dim=-1)\n",
            "  (layers): Sequential(\n",
            "    (0): Linear(in_features=784, out_features=512, bias=True)\n",
            "    (1): ReLU()\n",
            "    (2): Dropout(p=0.3, inplace=False)\n",
            "    (3): Linear(in_features=512, out_features=256, bias=True)\n",
            "    (4): ReLU()\n",
            "    (5): Dropout(p=0.3, inplace=False)\n",
            "    (6): Linear(in_features=256, out_features=128, bias=True)\n",
            "    (7): ReLU()\n",
            "    (8): Dropout(p=0.5, inplace=False)\n",
            "    (9): Linear(in_features=128, out_features=10, bias=True)\n",
            "  )\n",
            ")\n",
            "\n",
            "\n",
            "Layer: layers.0.weight | Size: torch.Size([512, 784]) | Values : tensor([[-0.0149,  0.0141, -0.0158,  ..., -0.0165,  0.0175, -0.0260],\n",
            "        [ 0.0318, -0.0013,  0.0347,  ...,  0.0054,  0.0135,  0.0136]],\n",
            "       device='cuda:0', grad_fn=<SliceBackward0>) \n",
            "\n",
            "Layer: layers.0.bias | Size: torch.Size([512]) | Values : tensor([-0.0294, -0.0277], device='cuda:0', grad_fn=<SliceBackward0>) \n",
            "\n",
            "Layer: layers.3.weight | Size: torch.Size([256, 512]) | Values : tensor([[-0.0151, -0.0137, -0.0435,  ...,  0.0212,  0.0180, -0.0090],\n",
            "        [ 0.0428,  0.0347, -0.0064,  ..., -0.0396,  0.0110, -0.0111]],\n",
            "       device='cuda:0', grad_fn=<SliceBackward0>) \n",
            "\n",
            "Layer: layers.3.bias | Size: torch.Size([256]) | Values : tensor([-0.0247, -0.0092], device='cuda:0', grad_fn=<SliceBackward0>) \n",
            "\n",
            "Layer: layers.6.weight | Size: torch.Size([128, 256]) | Values : tensor([[ 0.0472, -0.0237, -0.0499, -0.0376,  0.0377, -0.0246, -0.0548, -0.0389,\n",
            "          0.0085,  0.0077, -0.0011,  0.0367, -0.0273,  0.0449,  0.0205, -0.0219,\n",
            "         -0.0458,  0.0507, -0.0534, -0.0458,  0.0464, -0.0252, -0.0045,  0.0258,\n",
            "         -0.0492, -0.0538,  0.0395, -0.0606, -0.0194, -0.0384, -0.0577,  0.0317,\n",
            "         -0.0346, -0.0498, -0.0019,  0.0565,  0.0347,  0.0220, -0.0488, -0.0268,\n",
            "         -0.0623,  0.0143,  0.0181, -0.0440, -0.0541, -0.0258, -0.0439,  0.0174,\n",
            "          0.0433, -0.0216,  0.0391, -0.0348,  0.0235,  0.0369, -0.0434,  0.0043,\n",
            "          0.0360, -0.0430, -0.0559, -0.0385,  0.0403, -0.0261,  0.0085,  0.0152,\n",
            "         -0.0207, -0.0322,  0.0406, -0.0392,  0.0323,  0.0348, -0.0358,  0.0570,\n",
            "          0.0273,  0.0236, -0.0106,  0.0162, -0.0414, -0.0472,  0.0390,  0.0266,\n",
            "         -0.0227,  0.0445, -0.0238,  0.0507,  0.0083, -0.0447,  0.0094,  0.0182,\n",
            "          0.0270,  0.0285,  0.0243,  0.0067,  0.0468, -0.0078,  0.0216, -0.0229,\n",
            "         -0.0010, -0.0458, -0.0394, -0.0023, -0.0312,  0.0051,  0.0102,  0.0612,\n",
            "         -0.0383,  0.0536,  0.0065,  0.0598,  0.0278,  0.0418, -0.0537, -0.0050,\n",
            "          0.0315, -0.0055, -0.0098, -0.0151, -0.0484, -0.0404, -0.0291,  0.0466,\n",
            "         -0.0308,  0.0493, -0.0011, -0.0037,  0.0208, -0.0117,  0.0098,  0.0105,\n",
            "          0.0531, -0.0268,  0.0225, -0.0102,  0.0138,  0.0425, -0.0404,  0.0175,\n",
            "          0.0425, -0.0494, -0.0546,  0.0140,  0.0483,  0.0346,  0.0152, -0.0461,\n",
            "          0.0418, -0.0302, -0.0612, -0.0491,  0.0316, -0.0374, -0.0269,  0.0367,\n",
            "         -0.0568,  0.0096, -0.0573,  0.0334,  0.0260,  0.0618,  0.0333, -0.0422,\n",
            "          0.0604, -0.0598, -0.0453,  0.0625, -0.0511,  0.0048, -0.0409,  0.0358,\n",
            "         -0.0343, -0.0318,  0.0457, -0.0213, -0.0019, -0.0097, -0.0170, -0.0029,\n",
            "         -0.0330,  0.0568, -0.0428,  0.0136,  0.0392,  0.0609,  0.0076,  0.0560,\n",
            "         -0.0312,  0.0229, -0.0535,  0.0377,  0.0292, -0.0535, -0.0259,  0.0539,\n",
            "         -0.0204,  0.0223, -0.0424, -0.0427, -0.0241, -0.0297, -0.0245, -0.0038,\n",
            "         -0.0568, -0.0032, -0.0293, -0.0583,  0.0187,  0.0019,  0.0219, -0.0446,\n",
            "         -0.0343, -0.0556, -0.0490,  0.0527, -0.0221,  0.0344, -0.0221, -0.0561,\n",
            "          0.0621,  0.0440,  0.0614, -0.0328,  0.0525,  0.0450, -0.0040, -0.0186,\n",
            "          0.0509,  0.0442,  0.0432,  0.0058, -0.0398, -0.0168,  0.0559, -0.0493,\n",
            "         -0.0305, -0.0117, -0.0542,  0.0477,  0.0555,  0.0601, -0.0489, -0.0411,\n",
            "          0.0429,  0.0492, -0.0307,  0.0429,  0.0135, -0.0107, -0.0135,  0.0094,\n",
            "          0.0272,  0.0124, -0.0329,  0.0143,  0.0247,  0.0186,  0.0403, -0.0154],\n",
            "        [-0.0589,  0.0459,  0.0076, -0.0048,  0.0337,  0.0546, -0.0329,  0.0417,\n",
            "         -0.0307,  0.0387,  0.0393,  0.0504, -0.0115,  0.0346, -0.0396, -0.0599,\n",
            "          0.0144,  0.0144, -0.0125,  0.0170, -0.0046, -0.0276,  0.0206,  0.0190,\n",
            "          0.0048,  0.0512, -0.0532,  0.0450,  0.0446,  0.0320, -0.0181,  0.0214,\n",
            "         -0.0535, -0.0248,  0.0488, -0.0203,  0.0019, -0.0520, -0.0411, -0.0121,\n",
            "          0.0457,  0.0469, -0.0369, -0.0297, -0.0493,  0.0304, -0.0523, -0.0620,\n",
            "          0.0198, -0.0392,  0.0143, -0.0308,  0.0597, -0.0422, -0.0258,  0.0536,\n",
            "          0.0509,  0.0026,  0.0334,  0.0083,  0.0096, -0.0217,  0.0534,  0.0367,\n",
            "         -0.0072, -0.0189, -0.0070, -0.0606,  0.0446, -0.0164, -0.0413, -0.0085,\n",
            "         -0.0498,  0.0434,  0.0421, -0.0608,  0.0174, -0.0485,  0.0093,  0.0059,\n",
            "          0.0153,  0.0185,  0.0563,  0.0277,  0.0243, -0.0240,  0.0107, -0.0463,\n",
            "         -0.0361, -0.0224,  0.0434,  0.0142,  0.0314, -0.0046,  0.0620, -0.0535,\n",
            "         -0.0273,  0.0212,  0.0497, -0.0121,  0.0363, -0.0486, -0.0583,  0.0600,\n",
            "         -0.0068, -0.0197, -0.0266,  0.0462,  0.0227,  0.0260, -0.0132, -0.0527,\n",
            "         -0.0144, -0.0187, -0.0553,  0.0510,  0.0483, -0.0525,  0.0170,  0.0445,\n",
            "         -0.0391, -0.0356, -0.0081,  0.0215, -0.0595,  0.0609, -0.0518, -0.0051,\n",
            "          0.0213,  0.0581,  0.0003, -0.0225, -0.0522, -0.0055, -0.0251,  0.0469,\n",
            "          0.0518,  0.0362, -0.0474, -0.0298, -0.0195, -0.0215,  0.0397, -0.0026,\n",
            "          0.0205,  0.0145, -0.0057, -0.0537,  0.0541,  0.0487,  0.0575, -0.0012,\n",
            "         -0.0597, -0.0322, -0.0436,  0.0042, -0.0359, -0.0403, -0.0529,  0.0255,\n",
            "         -0.0531,  0.0606,  0.0057,  0.0610,  0.0560, -0.0155,  0.0258, -0.0130,\n",
            "         -0.0039, -0.0380,  0.0604, -0.0094, -0.0141, -0.0326, -0.0486,  0.0609,\n",
            "         -0.0432, -0.0286, -0.0296, -0.0024, -0.0229, -0.0610,  0.0428, -0.0594,\n",
            "         -0.0089,  0.0243,  0.0525,  0.0584, -0.0463, -0.0452, -0.0447, -0.0604,\n",
            "          0.0205,  0.0478,  0.0139,  0.0549, -0.0517,  0.0403, -0.0167, -0.0090,\n",
            "          0.0503, -0.0177, -0.0227, -0.0130, -0.0077,  0.0519, -0.0065, -0.0425,\n",
            "         -0.0120, -0.0602, -0.0102,  0.0488, -0.0067,  0.0538,  0.0128,  0.0365,\n",
            "          0.0266,  0.0086, -0.0597,  0.0449, -0.0268, -0.0003, -0.0412, -0.0138,\n",
            "          0.0578, -0.0221, -0.0599, -0.0371,  0.0251,  0.0520,  0.0372, -0.0103,\n",
            "          0.0323, -0.0181,  0.0537, -0.0493, -0.0504,  0.0207,  0.0269, -0.0105,\n",
            "         -0.0251,  0.0021,  0.0120,  0.0602,  0.0133, -0.0203,  0.0485, -0.0334,\n",
            "         -0.0407, -0.0161, -0.0560,  0.0583, -0.0420,  0.0567, -0.0081,  0.0362]],\n",
            "       device='cuda:0', grad_fn=<SliceBackward0>) \n",
            "\n",
            "Layer: layers.6.bias | Size: torch.Size([128]) | Values : tensor([ 0.0598, -0.0461], device='cuda:0', grad_fn=<SliceBackward0>) \n",
            "\n",
            "Layer: layers.9.weight | Size: torch.Size([10, 128]) | Values : tensor([[ 2.8675e-02,  1.1553e-02, -7.7683e-02,  7.7227e-02, -3.9207e-02,\n",
            "          4.1632e-02, -2.6011e-03, -2.8692e-02, -2.6507e-02, -5.5857e-02,\n",
            "          2.9559e-02,  1.9194e-03, -1.1758e-02, -6.9477e-02, -8.7320e-02,\n",
            "          8.5714e-02,  4.7216e-02, -6.7824e-02, -5.5779e-02, -6.6968e-02,\n",
            "          6.5366e-02,  6.0962e-02,  6.5832e-02, -7.3752e-02, -8.6069e-02,\n",
            "         -3.3672e-02,  1.8839e-02,  3.2584e-02, -4.7639e-02,  6.4321e-02,\n",
            "          6.2658e-02, -4.6661e-02,  3.5326e-02, -6.7779e-02, -7.0419e-02,\n",
            "          6.3833e-02, -5.2437e-02,  3.6931e-02,  2.6792e-03,  5.3890e-02,\n",
            "         -7.2233e-02,  2.5725e-02, -4.3380e-02, -5.5405e-02,  6.3751e-02,\n",
            "         -6.8997e-02,  6.7245e-03,  4.2302e-02, -5.7211e-02, -2.7257e-02,\n",
            "         -7.4648e-02, -8.4553e-02,  8.2121e-02, -6.9335e-02, -4.8973e-02,\n",
            "          6.3352e-02, -1.4616e-02, -5.8668e-02, -4.9854e-02,  6.1289e-02,\n",
            "          8.3756e-03,  1.3118e-02, -3.2086e-02, -3.7644e-02,  5.0313e-02,\n",
            "         -5.1473e-02,  8.8993e-03, -8.1261e-02, -1.6947e-02,  7.7664e-02,\n",
            "          4.7532e-02,  2.6897e-02, -1.2056e-02,  6.4884e-02,  5.1371e-02,\n",
            "          4.1292e-02, -5.9295e-02,  2.9712e-02,  1.0049e-03, -5.4562e-02,\n",
            "         -2.9730e-02,  1.8793e-02, -7.9621e-02,  4.1095e-02,  2.4004e-02,\n",
            "         -1.4379e-02,  1.1847e-03, -6.7026e-02,  4.0141e-02,  4.9802e-02,\n",
            "         -3.9795e-02, -5.2482e-02,  5.2209e-02, -4.2623e-02,  3.3246e-02,\n",
            "          4.5395e-02,  6.5953e-02,  8.5324e-02, -3.3863e-02, -5.2608e-02,\n",
            "         -5.0131e-02,  3.6840e-02, -2.9237e-02, -6.6171e-02,  8.6105e-02,\n",
            "          6.7200e-02,  1.6576e-02,  5.9297e-02, -8.5392e-02, -7.9885e-02,\n",
            "         -5.5942e-02,  8.7405e-02, -2.0019e-02, -7.2912e-03, -6.4974e-02,\n",
            "         -3.4037e-02, -8.4745e-02,  5.9607e-02, -3.6736e-02, -7.2325e-02,\n",
            "          8.2049e-02,  3.2807e-03,  2.1610e-02,  3.0770e-02, -3.3762e-02,\n",
            "          5.1958e-02,  7.1330e-02, -6.6978e-02],\n",
            "        [-4.2381e-02,  5.9435e-02,  3.9872e-03,  8.2624e-02, -4.9870e-05,\n",
            "         -5.8454e-02, -6.7151e-02,  3.0516e-02, -4.1077e-02,  1.2620e-02,\n",
            "         -4.3922e-02, -7.4990e-02,  2.9716e-02, -6.2635e-02,  7.0905e-02,\n",
            "         -4.5831e-02,  2.7375e-02,  5.9190e-02, -4.1950e-03, -2.3558e-02,\n",
            "         -1.8334e-02,  1.5181e-02, -4.9019e-02, -3.1264e-03,  9.6850e-03,\n",
            "          5.1348e-03, -3.0350e-02,  5.9016e-02,  2.7147e-02,  2.3545e-02,\n",
            "          1.8914e-02,  2.0083e-02,  3.8432e-02, -3.7645e-02,  4.0671e-02,\n",
            "          5.2386e-02,  7.1153e-02,  7.9525e-02,  5.9392e-02,  2.6070e-02,\n",
            "         -2.2425e-02,  4.9553e-03,  8.7335e-02, -6.6266e-02,  8.3217e-02,\n",
            "         -7.9677e-02, -1.5277e-02, -5.0484e-02, -2.1504e-02, -5.8169e-02,\n",
            "          4.7192e-02, -2.8220e-02,  3.4138e-02, -1.6099e-02,  2.1524e-02,\n",
            "         -8.0142e-02,  1.3046e-02,  3.5664e-02,  6.7986e-02, -6.3989e-02,\n",
            "         -4.5451e-02, -6.3741e-02, -1.3446e-02, -1.8705e-02,  4.4211e-02,\n",
            "         -4.7809e-02,  7.8191e-02, -4.8045e-02,  1.7715e-02,  2.0129e-02,\n",
            "         -2.5560e-02,  4.6270e-02,  3.4494e-02, -8.5632e-03,  3.9771e-02,\n",
            "         -1.4984e-02, -4.7285e-02, -2.5899e-02,  1.4094e-02,  5.1632e-02,\n",
            "         -2.1903e-02, -6.9546e-02, -2.8275e-02, -6.3223e-02,  6.2820e-02,\n",
            "          4.9374e-02,  2.3447e-02, -1.4202e-02, -1.1193e-02,  8.7638e-02,\n",
            "          7.9144e-02,  1.7190e-03, -3.1002e-03, -2.5185e-02, -6.9619e-02,\n",
            "          6.6419e-02,  6.6467e-02, -7.7173e-02,  8.0411e-02, -5.2755e-02,\n",
            "          2.5967e-02, -7.5446e-02, -1.9018e-02,  5.9919e-02,  6.5575e-02,\n",
            "          7.8048e-02,  6.7289e-02,  7.6981e-02, -3.9278e-02, -2.5925e-02,\n",
            "          4.5114e-02,  1.6730e-02, -3.4540e-02,  4.1158e-02, -2.0675e-02,\n",
            "         -4.6444e-02, -7.5021e-03,  8.1122e-02,  4.6099e-02,  1.4208e-02,\n",
            "         -5.4878e-03, -8.1351e-02,  5.4943e-02,  8.2503e-02, -3.9005e-02,\n",
            "         -4.0949e-02,  7.6163e-02,  4.6938e-02]], device='cuda:0',\n",
            "       grad_fn=<SliceBackward0>) \n",
            "\n",
            "Layer: layers.9.bias | Size: torch.Size([10]) | Values : tensor([-0.0277,  0.0460], device='cuda:0', grad_fn=<SliceBackward0>) \n",
            "\n"
          ]
        }
      ],
      "source": [
        "print(f\"Model structure: {model}\\n\\n\")\n",
        "\n",
        "for name, param in model.named_parameters():\n",
        "    print(f\"Layer: {name} | Size: {param.size()} | Values : {param[:2]} \\n\")"
      ]
    },
    {
      "cell_type": "code",
      "execution_count": 72,
      "metadata": {
        "id": "aiO-8ZB4rMqd"
      },
      "outputs": [],
      "source": [
        "class Trainer:\n",
        "  def __init__(self, model, loss_function, optimizer, train_loader, test_loader, device):\n",
        "    self.model = model\n",
        "    self.loss_function = loss_function\n",
        "    self.optimizer = optimizer\n",
        "    self.train_loader = train_loader\n",
        "    self.test_loader = test_loader\n",
        "    self.device = device\n",
        "\n",
        "    self.train_losses = []\n",
        "    self.train_accuracies = []\n",
        "    self.test_losses = []\n",
        "    self.test_accuracies = []\n",
        "\n",
        "    self.best_loss = float('inf')\n",
        "    self.patience = 5  # Number of epochs to wait before stopping\n",
        "    self.min_delta = 0.001 # Minimum change to be considered an improvement\n",
        "    self.counter = 0\n",
        "\n",
        "  def get_batch_accuracy(self, output, target, batch_size):\n",
        "    predictions = output.argmax(dim=1, keepdim=True)\n",
        "    correct = predictions.eq(target.view_as(predictions)).sum().item()\n",
        "    accuracy = correct / batch_size\n",
        "    return accuracy\n",
        "\n",
        "  def train(self):\n",
        "    loss = 0\n",
        "    accuracy = 0\n",
        "    self.model.train()\n",
        "    for x, y in self.train_loader:\n",
        "      x, y = x.to(self.device), y.to(self.device)\n",
        "      output = self.model(x)\n",
        "      self.optimizer.zero_grad()\n",
        "      batch_loss = self.loss_function(output, y)\n",
        "      batch_loss.backward()\n",
        "      self.optimizer.step()\n",
        "      loss += batch_loss.item()\n",
        "      accuracy += self.get_batch_accuracy(output, y, x.size(0)) # Use actual batch size\n",
        "    self.train_losses.append(loss)\n",
        "    self.train_accuracies.append(accuracy / len(self.train_loader)) # Average accuracy\n",
        "    print('Train - Loss: {:.4f} Accuracy: {:.4f}'.format(loss, accuracy / len(self.train_loader)))\n",
        "\n",
        "  def test(self):\n",
        "    loss = 0\n",
        "    accuracy = 0\n",
        "    self.model.eval()\n",
        "    with torch.no_grad():\n",
        "      for batch in self.test_loader:\n",
        "        # Check if the batch contains labels\n",
        "        if isinstance(batch, list) and len(batch) == 2:\n",
        "            x, y = batch\n",
        "            y = y.to(self.device)\n",
        "            has_labels = True\n",
        "        elif isinstance(batch, torch.Tensor):\n",
        "            x = batch\n",
        "            has_labels = False\n",
        "        else:\n",
        "            raise TypeError(\"Unsupported batch type from test_loader\")\n",
        "\n",
        "        x = x.to(self.device)\n",
        "        output = self.model(x)\n",
        "\n",
        "        if has_labels:\n",
        "            loss += self.loss_function(output, y).item()\n",
        "            accuracy += self.get_batch_accuracy(output, y, x.size(0)) # Use actual batch size\n",
        "\n",
        "    if has_labels:\n",
        "        self.test_losses.append(loss)\n",
        "        self.test_accuracies.append(accuracy / len(self.test_loader)) # Average accuracy\n",
        "        print('Valid - Loss: {:.4f} Accuracy: {:.4f}'.format(loss, accuracy / len(self.test_loader)))\n",
        "        return loss\n",
        "    else:\n",
        "        print('Test set processed (no labels to calculate loss/accuracy)')\n",
        "        return None\n",
        "\n",
        "  def plot_curves(self):\n",
        "    plt.figure(figsize=(12, 5))\n",
        "    plt.subplot(1, 2, 1)\n",
        "    plt.plot(self.train_losses, label=\"Train Loss\")\n",
        "    plt.plot(self.test_losses, label=\"Test Loss\")\n",
        "    plt.title(\"Loss Curve\")\n",
        "    plt.xlabel(\"Epoch\")\n",
        "    plt.ylabel(\"Loss\")\n",
        "    plt.legend()\n",
        "    plt.subplot(1, 2, 2)\n",
        "    plt.plot(self.train_accuracies, label=\"Train Acc\")\n",
        "    plt.plot(self.test_accuracies, label=\"Test Acc\")\n",
        "    plt.title(\"Accuracy Curve\")\n",
        "    plt.xlabel(\"Epoch\")\n",
        "    plt.ylabel(\"Accuracy\")\n",
        "    plt.legend()\n",
        "    plt.tight_layout()\n",
        "    plt.show()\n",
        "\n",
        "  def fit(self, epochs):\n",
        "    for epoch in range(epochs):\n",
        "      print(f\"Epoch {epoch+1}\\n-------------------------------\")\n",
        "      self.train()\n",
        "      test_loss = self.test()\n",
        "\n",
        "      # Early stopping logic\n",
        "      if test_loss is not None:\n",
        "          if test_loss < self.best_loss - self.min_delta:\n",
        "              self.best_loss = test_loss\n",
        "              self.counter = 0\n",
        "          else:\n",
        "              self.counter += 1\n",
        "              if self.counter >= self.patience:\n",
        "                  print(f\"Early stopping after {epoch+1} epochs\")\n",
        "                  break\n",
        "\n",
        "    print(\"Done!\")\n",
        "\n",
        "    return self.model"
      ]
    },
    {
      "cell_type": "markdown",
      "metadata": {
        "id": "a6ffb0db"
      },
      "source": [
        "## Model Training and Evaluation\n",
        "\n",
        "With the model, loss function, optimizer, and data loaders ready, we can now train the model. The `Trainer` class handles the training loop, iterating through epochs, calculating the loss, updating weights, and evaluating the model on the validation set."
      ]
    },
    {
      "cell_type": "code",
      "execution_count": 73,
      "metadata": {
        "colab": {
          "base_uri": "https://localhost:8080/"
        },
        "id": "4UGPl19AUQwT",
        "outputId": "28b76f43-643f-4b13-9f1d-5feeb71c866d"
      },
      "outputs": [
        {
          "output_type": "stream",
          "name": "stdout",
          "text": [
            "Epoch 1\n",
            "-------------------------------\n",
            "Train - Loss: 143.8192 Accuracy: 0.8307\n",
            "Valid - Loss: 12.7712 Accuracy: 0.9409\n",
            "Epoch 2\n",
            "-------------------------------\n",
            "Train - Loss: 53.1221 Accuracy: 0.9421\n",
            "Valid - Loss: 8.7172 Accuracy: 0.9603\n",
            "Epoch 3\n",
            "-------------------------------\n",
            "Train - Loss: 38.4999 Accuracy: 0.9582\n",
            "Valid - Loss: 7.2333 Accuracy: 0.9660\n",
            "Epoch 4\n",
            "-------------------------------\n",
            "Train - Loss: 31.0273 Accuracy: 0.9654\n",
            "Valid - Loss: 6.6608 Accuracy: 0.9696\n",
            "Epoch 5\n",
            "-------------------------------\n",
            "Train - Loss: 24.5985 Accuracy: 0.9730\n",
            "Valid - Loss: 6.4368 Accuracy: 0.9726\n",
            "Epoch 6\n",
            "-------------------------------\n",
            "Train - Loss: 21.5956 Accuracy: 0.9760\n",
            "Valid - Loss: 6.5943 Accuracy: 0.9717\n",
            "Epoch 7\n",
            "-------------------------------\n",
            "Train - Loss: 18.3990 Accuracy: 0.9788\n",
            "Valid - Loss: 5.7954 Accuracy: 0.9766\n",
            "Epoch 8\n",
            "-------------------------------\n",
            "Train - Loss: 18.4594 Accuracy: 0.9795\n",
            "Valid - Loss: 5.6541 Accuracy: 0.9757\n",
            "Epoch 9\n",
            "-------------------------------\n",
            "Train - Loss: 15.8688 Accuracy: 0.9824\n",
            "Valid - Loss: 5.8244 Accuracy: 0.9748\n",
            "Epoch 10\n",
            "-------------------------------\n",
            "Train - Loss: 13.1515 Accuracy: 0.9856\n",
            "Valid - Loss: 5.9122 Accuracy: 0.9775\n",
            "Epoch 11\n",
            "-------------------------------\n",
            "Train - Loss: 12.5860 Accuracy: 0.9858\n",
            "Valid - Loss: 6.2850 Accuracy: 0.9763\n",
            "Epoch 12\n",
            "-------------------------------\n",
            "Train - Loss: 11.6619 Accuracy: 0.9870\n",
            "Valid - Loss: 5.9711 Accuracy: 0.9758\n",
            "Epoch 13\n",
            "-------------------------------\n",
            "Train - Loss: 10.2502 Accuracy: 0.9879\n",
            "Valid - Loss: 6.9443 Accuracy: 0.9733\n",
            "Early stopping after 13 epochs\n",
            "Done!\n"
          ]
        },
        {
          "output_type": "execute_result",
          "data": {
            "text/plain": [
              "DigitNetwork(\n",
              "  (flatten): Flatten(start_dim=1, end_dim=-1)\n",
              "  (layers): Sequential(\n",
              "    (0): Linear(in_features=784, out_features=512, bias=True)\n",
              "    (1): ReLU()\n",
              "    (2): Dropout(p=0.3, inplace=False)\n",
              "    (3): Linear(in_features=512, out_features=256, bias=True)\n",
              "    (4): ReLU()\n",
              "    (5): Dropout(p=0.3, inplace=False)\n",
              "    (6): Linear(in_features=256, out_features=128, bias=True)\n",
              "    (7): ReLU()\n",
              "    (8): Dropout(p=0.5, inplace=False)\n",
              "    (9): Linear(in_features=128, out_features=10, bias=True)\n",
              "  )\n",
              ")"
            ]
          },
          "metadata": {},
          "execution_count": 73
        }
      ],
      "source": [
        "trainer = Trainer(model, loss_function, optimizer, train_loader, test_loader, device)\n",
        "\n",
        "trainer.fit(20)"
      ]
    },
    {
      "cell_type": "code",
      "execution_count": 74,
      "metadata": {
        "colab": {
          "base_uri": "https://localhost:8080/",
          "height": 480
        },
        "id": "dF9lgYMl5RAK",
        "outputId": "5f2efae7-2103-4aab-db02-8825dc081736"
      },
      "outputs": [
        {
          "output_type": "display_data",
          "data": {
            "text/plain": [
              "<Figure size 1200x500 with 2 Axes>"
            ],
            "image/png": "[encoded data removed]"
          },
          "metadata": {}
        }
      ],
      "source": [
        "trainer.plot_curves()"
      ]
    },
    {
      "cell_type": "code",
      "execution_count": 75,
      "metadata": {
        "id": "ExQVrNU3WXT_"
      },
      "outputs": [],
      "source": [
        "kernel_size = 3\n",
        "import torch.nn.functional as F_nn\n",
        "\n",
        "class DigitNetwork2(nn.Module):\n",
        "  def __init__(self):\n",
        "    super().__init__()\n",
        "    self.conv1 = nn.Conv2d(1, 64, kernel_size=kernel_size, padding=1)\n",
        "    self.conv2 = nn.Conv2d(64, 128, kernel_size=kernel_size, padding=1)\n",
        "    self.conv3 = nn.Conv2d(128, 128, kernel_size=kernel_size, padding=1)\n",
        "    self.pool = nn.MaxPool2d(2, 2)\n",
        "    self.flatten = nn.Flatten()\n",
        "    self.layers = nn.Sequential(\n",
        "        nn.Linear(128 * 3 * 3, 512),\n",
        "        nn.ReLU(),\n",
        "        nn.Dropout(0.3),\n",
        "        nn.Linear(512, 256),\n",
        "        nn.ReLU(),\n",
        "        nn.Dropout(0.3),\n",
        "        nn.Linear(256, 128),\n",
        "        nn.ReLU(),\n",
        "        nn.Linear(128, output_size)\n",
        "    )\n",
        "\n",
        "  def forward(self, x):\n",
        "    x = self.pool(F_nn.relu(self.conv1(x)))\n",
        "    x = self.pool(F_nn.relu(self.conv2(x)))\n",
        "    x = self.pool(F_nn.relu(self.conv3(x)))\n",
        "    x = self.flatten(x)\n",
        "    return self.layers(x)"
      ]
    },
    {
      "cell_type": "code",
      "execution_count": 76,
      "metadata": {
        "colab": {
          "base_uri": "https://localhost:8080/"
        },
        "id": "dF_ZNdoAVMYH",
        "outputId": "ca60619e-2102-4ed0-c9d2-009355bcac7e"
      },
      "outputs": [
        {
          "output_type": "execute_result",
          "data": {
            "text/plain": [
              "DigitNetwork2(\n",
              "  (conv1): Conv2d(1, 64, kernel_size=(3, 3), stride=(1, 1), padding=(1, 1))\n",
              "  (conv2): Conv2d(64, 128, kernel_size=(3, 3), stride=(1, 1), padding=(1, 1))\n",
              "  (conv3): Conv2d(128, 128, kernel_size=(3, 3), stride=(1, 1), padding=(1, 1))\n",
              "  (pool): MaxPool2d(kernel_size=2, stride=2, padding=0, dilation=1, ceil_mode=False)\n",
              "  (flatten): Flatten(start_dim=1, end_dim=-1)\n",
              "  (layers): Sequential(\n",
              "    (0): Linear(in_features=1152, out_features=512, bias=True)\n",
              "    (1): ReLU()\n",
              "    (2): Dropout(p=0.3, inplace=False)\n",
              "    (3): Linear(in_features=512, out_features=256, bias=True)\n",
              "    (4): ReLU()\n",
              "    (5): Dropout(p=0.3, inplace=False)\n",
              "    (6): Linear(in_features=256, out_features=128, bias=True)\n",
              "    (7): ReLU()\n",
              "    (8): Linear(in_features=128, out_features=10, bias=True)\n",
              "  )\n",
              ")"
            ]
          },
          "metadata": {},
          "execution_count": 76
        }
      ],
      "source": [
        "model2 = DigitNetwork2().to(device)\n",
        "model2"
      ]
    },
    {
      "cell_type": "code",
      "execution_count": 77,
      "metadata": {
        "colab": {
          "base_uri": "https://localhost:8080/"
        },
        "id": "g6-RJG-hVrlO",
        "outputId": "5d385797-53a2-44b8-cab3-2e876bf3e569"
      },
      "outputs": [
        {
          "output_type": "stream",
          "name": "stdout",
          "text": [
            "----------------------------------------------------------------\n",
            "        Layer (type)               Output Shape         Param #\n",
            "================================================================\n",
            "            Conv2d-1           [-1, 64, 28, 28]             640\n",
            "         MaxPool2d-2           [-1, 64, 14, 14]               0\n",
            "            Conv2d-3          [-1, 128, 14, 14]          73,856\n",
            "         MaxPool2d-4            [-1, 128, 7, 7]               0\n",
            "            Conv2d-5            [-1, 128, 7, 7]         147,584\n",
            "         MaxPool2d-6            [-1, 128, 3, 3]               0\n",
            "           Flatten-7                 [-1, 1152]               0\n",
            "            Linear-8                  [-1, 512]         590,336\n",
            "              ReLU-9                  [-1, 512]               0\n",
            "          Dropout-10                  [-1, 512]               0\n",
            "           Linear-11                  [-1, 256]         131,328\n",
            "             ReLU-12                  [-1, 256]               0\n",
            "          Dropout-13                  [-1, 256]               0\n",
            "           Linear-14                  [-1, 128]          32,896\n",
            "             ReLU-15                  [-1, 128]               0\n",
            "           Linear-16                   [-1, 10]           1,290\n",
            "================================================================\n",
            "Total params: 977,930\n",
            "Trainable params: 977,930\n",
            "Non-trainable params: 0\n",
            "----------------------------------------------------------------\n",
            "Input size (MB): 0.00\n",
            "Forward/backward pass size (MB): 0.80\n",
            "Params size (MB): 3.73\n",
            "Estimated Total Size (MB): 4.54\n",
            "----------------------------------------------------------------\n"
          ]
        }
      ],
      "source": [
        "from torchsummary import summary\n",
        "summary(model2, (1, 28, 28))"
      ]
    },
    {
      "cell_type": "code",
      "execution_count": 78,
      "metadata": {
        "id": "dfea6833"
      },
      "outputs": [],
      "source": [
        "optimizer2 = optim.Adam(model2.parameters(), lr=0.001)\n",
        "loss_function = nn.CrossEntropyLoss()"
      ]
    },
    {
      "cell_type": "code",
      "execution_count": 79,
      "metadata": {
        "colab": {
          "base_uri": "https://localhost:8080/"
        },
        "id": "b666fa61",
        "outputId": "997a15d9-2a29-4b99-af1e-b6a47816894e"
      },
      "outputs": [
        {
          "output_type": "stream",
          "name": "stdout",
          "text": [
            "Epoch 1\n",
            "-------------------------------\n",
            "Train - Loss: 110.4714 Accuracy: 0.8576\n",
            "Valid - Loss: 8.3713 Accuracy: 0.9625\n",
            "Epoch 2\n",
            "-------------------------------\n",
            "Train - Loss: 21.8141 Accuracy: 0.9751\n",
            "Valid - Loss: 3.5191 Accuracy: 0.9838\n",
            "Epoch 3\n",
            "-------------------------------\n",
            "Train - Loss: 15.2131 Accuracy: 0.9818\n",
            "Valid - Loss: 3.3409 Accuracy: 0.9842\n",
            "Epoch 4\n",
            "-------------------------------\n",
            "Train - Loss: 10.8615 Accuracy: 0.9874\n",
            "Valid - Loss: 3.4132 Accuracy: 0.9848\n",
            "Epoch 5\n",
            "-------------------------------\n",
            "Train - Loss: 8.9714 Accuracy: 0.9900\n",
            "Valid - Loss: 2.1270 Accuracy: 0.9895\n",
            "Epoch 6\n",
            "-------------------------------\n",
            "Train - Loss: 7.5479 Accuracy: 0.9914\n",
            "Valid - Loss: 2.8454 Accuracy: 0.9885\n",
            "Epoch 7\n",
            "-------------------------------\n",
            "Train - Loss: 7.0084 Accuracy: 0.9918\n",
            "Valid - Loss: 2.4345 Accuracy: 0.9896\n",
            "Epoch 8\n",
            "-------------------------------\n",
            "Train - Loss: 5.4752 Accuracy: 0.9939\n",
            "Valid - Loss: 2.4293 Accuracy: 0.9900\n",
            "Epoch 9\n",
            "-------------------------------\n",
            "Train - Loss: 4.7541 Accuracy: 0.9943\n",
            "Valid - Loss: 2.2433 Accuracy: 0.9896\n",
            "Epoch 10\n",
            "-------------------------------\n",
            "Train - Loss: 4.6479 Accuracy: 0.9949\n",
            "Valid - Loss: 2.1764 Accuracy: 0.9913\n",
            "Early stopping after 10 epochs\n",
            "Done!\n"
          ]
        },
        {
          "output_type": "execute_result",
          "data": {
            "text/plain": [
              "DigitNetwork2(\n",
              "  (conv1): Conv2d(1, 64, kernel_size=(3, 3), stride=(1, 1), padding=(1, 1))\n",
              "  (conv2): Conv2d(64, 128, kernel_size=(3, 3), stride=(1, 1), padding=(1, 1))\n",
              "  (conv3): Conv2d(128, 128, kernel_size=(3, 3), stride=(1, 1), padding=(1, 1))\n",
              "  (pool): MaxPool2d(kernel_size=2, stride=2, padding=0, dilation=1, ceil_mode=False)\n",
              "  (flatten): Flatten(start_dim=1, end_dim=-1)\n",
              "  (layers): Sequential(\n",
              "    (0): Linear(in_features=1152, out_features=512, bias=True)\n",
              "    (1): ReLU()\n",
              "    (2): Dropout(p=0.3, inplace=False)\n",
              "    (3): Linear(in_features=512, out_features=256, bias=True)\n",
              "    (4): ReLU()\n",
              "    (5): Dropout(p=0.3, inplace=False)\n",
              "    (6): Linear(in_features=256, out_features=128, bias=True)\n",
              "    (7): ReLU()\n",
              "    (8): Linear(in_features=128, out_features=10, bias=True)\n",
              "  )\n",
              ")"
            ]
          },
          "metadata": {},
          "execution_count": 79
        }
      ],
      "source": [
        "trainer2 = Trainer(model2, loss_function, optimizer2, train_loader, test_loader, device)\n",
        "\n",
        "trainer2.fit(20)"
      ]
    },
    {
      "cell_type": "code",
      "execution_count": 80,
      "metadata": {
        "colab": {
          "base_uri": "https://localhost:8080/",
          "height": 480
        },
        "id": "5nE7kd2GV6Wu",
        "outputId": "f5d509e0-55b2-455a-98fb-441ca9087d07"
      },
      "outputs": [
        {
          "output_type": "display_data",
          "data": {
            "text/plain": [
              "<Figure size 1200x500 with 2 Axes>"
            ],
            "image/png": "[encoded data removed]"
          },
          "metadata": {}
        }
      ],
      "source": [
        "trainer2.plot_curves()"
      ]
    },
    {
      "cell_type": "code",
      "execution_count": 81,
      "metadata": {
        "colab": {
          "base_uri": "https://localhost:8080/"
        },
        "id": "377283cd",
        "outputId": "0cd7bfbb-23da-49bf-ae79-af325aa69781"
      },
      "outputs": [
        {
          "output_type": "stream",
          "name": "stdout",
          "text": [
            "329\n"
          ]
        }
      ],
      "source": [
        "full_train_data = DigitDataset(X_train, y)\n",
        "full_train_loader = DataLoader(full_train_data, batch_size=BATCH_SIZE, shuffle=True)\n",
        "print(len(full_train_loader))"
      ]
    },
    {
      "cell_type": "code",
      "execution_count": 82,
      "metadata": {
        "colab": {
          "base_uri": "https://localhost:8080/"
        },
        "id": "c4ce8a9b",
        "outputId": "37970424-33c5-432f-d43c-6de8d71dd205"
      },
      "outputs": [
        {
          "output_type": "stream",
          "name": "stdout",
          "text": [
            "219\n"
          ]
        }
      ],
      "source": [
        "class TestDigitDataset(Dataset):\n",
        "    def __init__(self, x_df):\n",
        "        self.xs = torch.tensor(x_df.values).float().to(device)\n",
        "\n",
        "    def __len__(self):\n",
        "        return len(self.xs)\n",
        "\n",
        "    def __getitem__(self, idx):\n",
        "        x = self.xs[idx, :]\n",
        "        x = x.reshape(28, 28)\n",
        "        x = x / 255\n",
        "        x = x.unsqueeze(0)\n",
        "\n",
        "        return x\n",
        "\n",
        "test_data_nolabel = TestDigitDataset(X_test)\n",
        "test_loader_nolabel = DataLoader(test_data_nolabel, batch_size=BATCH_SIZE, shuffle=False)\n",
        "print(len(test_loader_nolabel))"
      ]
    },
    {
      "cell_type": "code",
      "execution_count": 83,
      "metadata": {
        "colab": {
          "base_uri": "https://localhost:8080/"
        },
        "id": "870d9273",
        "outputId": "27654b9a-3d59-4cf7-8891-1f1f34281e12"
      },
      "outputs": [
        {
          "output_type": "stream",
          "name": "stdout",
          "text": [
            "Epoch 1\n",
            "-------------------------------\n",
            "Train - Loss: 116.1192 Accuracy: 0.8831\n",
            "Valid - Loss: 6.3833 Accuracy: 0.9719\n",
            "Epoch 2\n",
            "-------------------------------\n",
            "Train - Loss: 24.5474 Accuracy: 0.9778\n",
            "Valid - Loss: 3.7587 Accuracy: 0.9827\n",
            "Epoch 3\n",
            "-------------------------------\n",
            "Train - Loss: 17.9482 Accuracy: 0.9844\n",
            "Valid - Loss: 2.2516 Accuracy: 0.9897\n",
            "Epoch 4\n",
            "-------------------------------\n",
            "Train - Loss: 12.2604 Accuracy: 0.9895\n",
            "Valid - Loss: 1.6952 Accuracy: 0.9916\n",
            "Epoch 5\n",
            "-------------------------------\n",
            "Train - Loss: 11.7766 Accuracy: 0.9889\n",
            "Valid - Loss: 1.1142 Accuracy: 0.9941\n",
            "Epoch 6\n",
            "-------------------------------\n",
            "Train - Loss: 8.5590 Accuracy: 0.9920\n",
            "Valid - Loss: 0.8281 Accuracy: 0.9964\n",
            "Epoch 7\n",
            "-------------------------------\n",
            "Train - Loss: 6.6735 Accuracy: 0.9940\n",
            "Valid - Loss: 0.8591 Accuracy: 0.9960\n",
            "Epoch 8\n",
            "-------------------------------\n",
            "Train - Loss: 6.7752 Accuracy: 0.9943\n",
            "Valid - Loss: 1.0419 Accuracy: 0.9944\n",
            "Epoch 9\n",
            "-------------------------------\n",
            "Train - Loss: 6.1954 Accuracy: 0.9950\n",
            "Valid - Loss: 0.6794 Accuracy: 0.9975\n",
            "Epoch 10\n",
            "-------------------------------\n",
            "Train - Loss: 5.3129 Accuracy: 0.9953\n",
            "Valid - Loss: 0.7524 Accuracy: 0.9962\n",
            "Epoch 11\n",
            "-------------------------------\n",
            "Train - Loss: 4.4631 Accuracy: 0.9955\n",
            "Valid - Loss: 0.3637 Accuracy: 0.9985\n",
            "Epoch 12\n",
            "-------------------------------\n",
            "Train - Loss: 5.0743 Accuracy: 0.9955\n",
            "Valid - Loss: 0.5294 Accuracy: 0.9975\n",
            "Epoch 13\n",
            "-------------------------------\n",
            "Train - Loss: 6.1207 Accuracy: 0.9947\n",
            "Valid - Loss: 0.2775 Accuracy: 0.9987\n",
            "Epoch 14\n",
            "-------------------------------\n",
            "Train - Loss: 3.4524 Accuracy: 0.9969\n",
            "Valid - Loss: 0.5300 Accuracy: 0.9979\n",
            "Epoch 15\n",
            "-------------------------------\n",
            "Train - Loss: 3.0436 Accuracy: 0.9972\n",
            "Valid - Loss: 0.1896 Accuracy: 0.9993\n",
            "Epoch 16\n",
            "-------------------------------\n",
            "Train - Loss: 3.1882 Accuracy: 0.9971\n",
            "Valid - Loss: 0.2283 Accuracy: 0.9991\n",
            "Epoch 17\n",
            "-------------------------------\n",
            "Train - Loss: 3.5882 Accuracy: 0.9968\n",
            "Valid - Loss: 0.5326 Accuracy: 0.9975\n",
            "Epoch 18\n",
            "-------------------------------\n",
            "Train - Loss: 3.4743 Accuracy: 0.9972\n",
            "Valid - Loss: 0.1422 Accuracy: 0.9994\n",
            "Epoch 19\n",
            "-------------------------------\n",
            "Train - Loss: 2.2431 Accuracy: 0.9978\n",
            "Valid - Loss: 0.2657 Accuracy: 0.9988\n",
            "Epoch 20\n",
            "-------------------------------\n",
            "Train - Loss: 3.2235 Accuracy: 0.9976\n",
            "Valid - Loss: 0.1356 Accuracy: 0.9993\n",
            "Epoch 21\n",
            "-------------------------------\n",
            "Train - Loss: 2.6513 Accuracy: 0.9980\n",
            "Valid - Loss: 0.0545 Accuracy: 0.9996\n",
            "Epoch 22\n",
            "-------------------------------\n",
            "Train - Loss: 2.4693 Accuracy: 0.9980\n",
            "Valid - Loss: 0.0656 Accuracy: 0.9996\n",
            "Epoch 23\n",
            "-------------------------------\n",
            "Train - Loss: 2.6908 Accuracy: 0.9977\n",
            "Valid - Loss: 0.2790 Accuracy: 0.9985\n",
            "Epoch 24\n",
            "-------------------------------\n",
            "Train - Loss: 2.9215 Accuracy: 0.9978\n",
            "Valid - Loss: 0.1337 Accuracy: 0.9992\n",
            "Epoch 25\n",
            "-------------------------------\n",
            "Train - Loss: 2.2954 Accuracy: 0.9983\n",
            "Valid - Loss: 0.0652 Accuracy: 0.9996\n",
            "Epoch 26\n",
            "-------------------------------\n",
            "Train - Loss: 1.7743 Accuracy: 0.9986\n",
            "Valid - Loss: 0.1309 Accuracy: 0.9994\n",
            "Early stopping after 26 epochs\n",
            "Done!\n"
          ]
        },
        {
          "output_type": "execute_result",
          "data": {
            "text/plain": [
              "DigitNetwork2(\n",
              "  (conv1): Conv2d(1, 64, kernel_size=(3, 3), stride=(1, 1), padding=(1, 1))\n",
              "  (conv2): Conv2d(64, 128, kernel_size=(3, 3), stride=(1, 1), padding=(1, 1))\n",
              "  (conv3): Conv2d(128, 128, kernel_size=(3, 3), stride=(1, 1), padding=(1, 1))\n",
              "  (pool): MaxPool2d(kernel_size=2, stride=2, padding=0, dilation=1, ceil_mode=False)\n",
              "  (flatten): Flatten(start_dim=1, end_dim=-1)\n",
              "  (layers): Sequential(\n",
              "    (0): Linear(in_features=1152, out_features=512, bias=True)\n",
              "    (1): ReLU()\n",
              "    (2): Dropout(p=0.3, inplace=False)\n",
              "    (3): Linear(in_features=512, out_features=256, bias=True)\n",
              "    (4): ReLU()\n",
              "    (5): Dropout(p=0.3, inplace=False)\n",
              "    (6): Linear(in_features=256, out_features=128, bias=True)\n",
              "    (7): ReLU()\n",
              "    (8): Linear(in_features=128, out_features=10, bias=True)\n",
              "  )\n",
              ")"
            ]
          },
          "metadata": {},
          "execution_count": 83
        }
      ],
      "source": [
        "model2_full_train = DigitNetwork2().to(device)\n",
        "loss_function_full_train = nn.CrossEntropyLoss()\n",
        "optimizer2_full_train = optim.Adam(model2_full_train.parameters(), lr=0.001)\n",
        "\n",
        "trainer2_full_train = Trainer(model2_full_train, loss_function_full_train, optimizer2_full_train, full_train_loader, test_loader, device)\n",
        "\n",
        "trainer2_full_train.fit(30)"
      ]
    },
    {
      "cell_type": "code",
      "execution_count": 84,
      "metadata": {
        "colab": {
          "base_uri": "https://localhost:8080/",
          "height": 480
        },
        "id": "f0N4PEf2Ew2d",
        "outputId": "c3a871e3-9a3c-48bd-f4dc-593ef0d36b8e"
      },
      "outputs": [
        {
          "output_type": "display_data",
          "data": {
            "text/plain": [
              "<Figure size 1200x500 with 2 Axes>"
            ],
            "image/png": "[encoded data removed]"
          },
          "metadata": {}
        }
      ],
      "source": [
        "trainer2_full_train.plot_curves()"
      ]
    },
    {
      "cell_type": "code",
      "execution_count": 85,
      "metadata": {
        "colab": {
          "base_uri": "https://localhost:8080/"
        },
        "id": "95eb0511",
        "outputId": "d6c58899-d570-4292-cb58-9aeab6a24e2d"
      },
      "outputs": [
        {
          "output_type": "stream",
          "name": "stdout",
          "text": [
            "28000\n",
            "[2, 0, 9, 9, 3, 7, 0, 3, 0, 3]\n"
          ]
        }
      ],
      "source": [
        "model2_full_train.eval()\n",
        "predictions = []\n",
        "with torch.no_grad():\n",
        "    for x in test_loader_nolabel:\n",
        "        x = x.to(device)\n",
        "        output = model2_full_train(x)\n",
        "        predicted_classes = output.argmax(dim=1)\n",
        "        predictions.extend(predicted_classes.tolist())\n",
        "\n",
        "print(len(predictions))\n",
        "print(predictions[:10])"
      ]
    },
    {
      "cell_type": "code",
      "execution_count": 86,
      "metadata": {
        "colab": {
          "base_uri": "https://localhost:8080/"
        },
        "id": "Ska2VXtQTnFq",
        "outputId": "a034ceaf-5242-4c65-dca0-3f833b70a81a"
      },
      "outputs": [
        {
          "output_type": "execute_result",
          "data": {
            "text/plain": [
              "1"
            ]
          },
          "metadata": {},
          "execution_count": 86
        }
      ],
      "source": [
        "predictions[28000-5432]"
      ]
    },
    {
      "cell_type": "code",
      "execution_count": 87,
      "metadata": {
        "colab": {
          "base_uri": "https://localhost:8080/",
          "height": 153
        },
        "id": "nS8r670fTb-I",
        "outputId": "ba1d5e83-182f-45e0-dcd6-5ff5976241a9"
      },
      "outputs": [
        {
          "output_type": "display_data",
          "data": {
            "text/plain": [
              "<Figure size 100x100 with 1 Axes>"
            ],
            "image/png": "[encoded data removed]"
          },
          "metadata": {}
        },
        {
          "output_type": "stream",
          "name": "stdout",
          "text": [
            "23044\n"
          ]
        }
      ],
      "source": [
        "import random\n",
        "\n",
        "i = random.randint(0, len(predictions) - 1)\n",
        "plt.figure(figsize=(1, 1))\n",
        "plt.imshow(X_test.iloc[i, :].values.reshape(28, 28), cmap=\"gray\")\n",
        "plt.title(f\"Prediction: {predictions[i]}\")\n",
        "plt.axis('off')\n",
        "plt.show()\n",
        "print(i)"
      ]
    },
    {
      "cell_type": "code",
      "execution_count": 88,
      "metadata": {
        "id": "0badceee"
      },
      "outputs": [],
      "source": [
        "submission_df = pd.DataFrame({'ImageId': range(1, len(predictions) + 1), 'Label': predictions})\n",
        "submission_df.to_csv('submission.csv', index=False)"
      ]
    },
    {
      "cell_type": "code",
      "execution_count": 89,
      "metadata": {
        "colab": {
          "base_uri": "https://localhost:8080/"
        },
        "id": "ed5c604b",
        "outputId": "2f5f7ae4-f48a-4e48-c045-fd5d8cbb5de4"
      },
      "outputs": [
        {
          "output_type": "stream",
          "name": "stdout",
          "text": [
            "Hyperparameter Search Space:\n",
            "- learning_rate: [0.0001, 0.001, 0.01]\n",
            "- batch_size: [32, 64, 128]\n",
            "- num_filters_conv1: [32, 64]\n",
            "- num_filters_conv2: [64, 128]\n",
            "- num_filters_conv3: [128, 256]\n",
            "- dropout_rate_fc: [0.3, 0.5]\n"
          ]
        }
      ],
      "source": [
        "hyperparameter_space = {\n",
        "    'learning_rate': [1e-4, 1e-3, 1e-2],\n",
        "    'batch_size': [32, 64, 128],\n",
        "    'num_filters_conv1': [32, 64],\n",
        "    'num_filters_conv2': [64, 128],\n",
        "    'num_filters_conv3': [128, 256],\n",
        "    'dropout_rate_fc': [0.3, 0.5]\n",
        "    }\n",
        "\n",
        "print(\"Hyperparameter Search Space:\")\n",
        "for param, values in hyperparameter_space.items():\n",
        "    print(f\"- {param}: {values}\")\n"
      ]
    },
    {
      "cell_type": "code",
      "execution_count": 90,
      "metadata": {
        "id": "027db889"
      },
      "outputs": [],
      "source": [
        "tuning_results = []"
      ]
    },
    {
      "cell_type": "code",
      "source": [],
      "metadata": {
        "id": "NikIf5VfrOcN"
      },
      "execution_count": null,
      "outputs": []
    },
    {
      "cell_type": "code",
      "source": [
        "import random\n",
        "\n",
        "class DigitNetwork2(nn.Module):\n",
        "    def __init__(self, num_filters_conv1, num_filters_conv2, num_filters_conv3, dropout_rate_fc):\n",
        "        super().__init__()\n",
        "        self.conv1 = nn.Conv2d(1, num_filters_conv1, kernel_size=kernel_size, padding=1)\n",
        "        self.conv2 = nn.Conv2d(num_filters_conv1, num_filters_conv2, kernel_size=kernel_size, padding=1)\n",
        "        self.conv3 = nn.Conv2d(num_filters_conv2, num_filters_conv3, kernel_size=kernel_size, padding=1)\n",
        "        self.pool = nn.MaxPool2d(2, 2)\n",
        "        self.flatten = nn.Flatten()\n",
        "\n",
        "        # Calculate the size of the flattened output after convolutional and pooling layers\n",
        "        # We can do a forward pass with a dummy tensor to determine this size\n",
        "        dummy_input = torch.randn(1, 1, 28, 28)\n",
        "        dummy_output = self.pool(F_nn.relu(self.conv1(dummy_input)))\n",
        "        dummy_output = self.pool(F_nn.relu(self.conv2(dummy_output)))\n",
        "        dummy_output = self.pool(F_nn.relu(self.conv3(dummy_output)))\n",
        "        flattened_size = self.flatten(dummy_output).size(1)\n",
        "\n",
        "        self.layers = nn.Sequential(\n",
        "            nn.Linear(flattened_size, 512),\n",
        "            nn.ReLU(),\n",
        "            nn.Dropout(dropout_rate_fc),\n",
        "            nn.Linear(512, 256),\n",
        "            nn.ReLU(),\n",
        "            nn.Dropout(dropout_rate_fc),\n",
        "            nn.Linear(256, 128),\n",
        "            nn.ReLU(),\n",
        "            nn.Linear(128, output_size)\n",
        "        )\n",
        "\n",
        "    def forward(self, x):\n",
        "        x = self.pool(F_nn.relu(self.conv1(x)))\n",
        "        x = self.pool(F_nn.relu(self.conv2(x)))\n",
        "        x = self.pool(F_nn.relu(self.conv3(x)))\n",
        "        x = self.flatten(x)\n",
        "        return self.layers(x)"
      ],
      "metadata": {
        "id": "AX1hJ8rtrVe9"
      },
      "execution_count": null,
      "outputs": []
    },
    {
      "cell_type": "code",
      "execution_count": 91,
      "metadata": {
        "colab": {
          "base_uri": "https://localhost:8080/"
        },
        "id": "f867340f",
        "outputId": "2a9e5c0a-0c32-409f-bbac-c14160210f2a"
      },
      "outputs": [
        {
          "output_type": "stream",
          "name": "stdout",
          "text": [
            "Starting tuning trial 1/5\n",
            "  Hyperparameters: LR=0.001, Batch Size=32, Filters_conv1=64, Filters_conv2=64, Filters_conv3=128, Dropout=0.3\n",
            "Epoch 1\n",
            "-------------------------------\n",
            "Train - Loss: 318.3907 Accuracy: 0.8995\n",
            "Valid - Loss: 25.0137 Accuracy: 0.9741\n",
            "Epoch 2\n",
            "-------------------------------\n",
            "Train - Loss: 83.6123 Accuracy: 0.9781\n",
            "Valid - Loss: 14.7234 Accuracy: 0.9840\n",
            "Epoch 3\n",
            "-------------------------------\n",
            "Train - Loss: 58.6887 Accuracy: 0.9843\n",
            "Valid - Loss: 14.0265 Accuracy: 0.9874\n",
            "Epoch 4\n",
            "-------------------------------\n",
            "Train - Loss: 49.1591 Accuracy: 0.9869\n",
            "Valid - Loss: 15.9199 Accuracy: 0.9825\n",
            "Epoch 5\n",
            "-------------------------------\n",
            "Train - Loss: 42.4809 Accuracy: 0.9885\n",
            "Valid - Loss: 11.0795 Accuracy: 0.9881\n",
            "Done!\n",
            "Valid - Loss: 11.0795 Accuracy: 0.9881\n",
            "  Trial 1 Results: Validation Loss=11.0795, Validation Accuracy=0.9881\n",
            "\n",
            "Starting tuning trial 2/5\n",
            "  Hyperparameters: LR=0.0001, Batch Size=64, Filters_conv1=32, Filters_conv2=64, Filters_conv3=128, Dropout=0.5\n",
            "Epoch 1\n",
            "-------------------------------\n",
            "Train - Loss: 577.2715 Accuracy: 0.6201\n",
            "Valid - Loss: 34.7725 Accuracy: 0.9227\n",
            "Epoch 2\n",
            "-------------------------------\n",
            "Train - Loss: 133.8011 Accuracy: 0.9231\n",
            "Valid - Loss: 18.3868 Accuracy: 0.9573\n",
            "Epoch 3\n",
            "-------------------------------\n",
            "Train - Loss: 88.1248 Accuracy: 0.9488\n",
            "Valid - Loss: 15.4299 Accuracy: 0.9639\n",
            "Epoch 4\n",
            "-------------------------------\n",
            "Train - Loss: 70.3443 Accuracy: 0.9591\n",
            "Valid - Loss: 12.4723 Accuracy: 0.9704\n",
            "Epoch 5\n",
            "-------------------------------\n",
            "Train - Loss: 59.4804 Accuracy: 0.9657\n",
            "Valid - Loss: 10.4356 Accuracy: 0.9747\n",
            "Done!\n",
            "Valid - Loss: 10.4356 Accuracy: 0.9747\n",
            "  Trial 2 Results: Validation Loss=10.4356, Validation Accuracy=0.9747\n",
            "\n",
            "Starting tuning trial 3/5\n",
            "  Hyperparameters: LR=0.0001, Batch Size=128, Filters_conv1=32, Filters_conv2=64, Filters_conv3=128, Dropout=0.5\n",
            "Epoch 1\n",
            "-------------------------------\n",
            "Train - Loss: 402.8703 Accuracy: 0.4549\n",
            "Valid - Loss: 38.6874 Accuracy: 0.8223\n",
            "Epoch 2\n",
            "-------------------------------\n",
            "Train - Loss: 138.2004 Accuracy: 0.8311\n",
            "Valid - Loss: 17.8665 Accuracy: 0.9189\n",
            "Epoch 3\n",
            "-------------------------------\n",
            "Train - Loss: 75.4185 Accuracy: 0.9129\n",
            "Valid - Loss: 11.0575 Accuracy: 0.9510\n",
            "Epoch 4\n",
            "-------------------------------\n",
            "Train - Loss: 51.4158 Accuracy: 0.9405\n",
            "Valid - Loss: 8.5648 Accuracy: 0.9607\n",
            "Epoch 5\n",
            "-------------------------------\n",
            "Train - Loss: 40.3298 Accuracy: 0.9538\n",
            "Valid - Loss: 6.9837 Accuracy: 0.9682\n",
            "Done!\n",
            "Valid - Loss: 6.9837 Accuracy: 0.9682\n",
            "  Trial 3 Results: Validation Loss=6.9837, Validation Accuracy=0.9682\n",
            "\n",
            "Starting tuning trial 4/5\n",
            "  Hyperparameters: LR=0.001, Batch Size=128, Filters_conv1=32, Filters_conv2=64, Filters_conv3=128, Dropout=0.5\n",
            "Epoch 1\n",
            "-------------------------------\n",
            "Train - Loss: 155.5966 Accuracy: 0.7979\n",
            "Valid - Loss: 7.0836 Accuracy: 0.9681\n",
            "Epoch 2\n",
            "-------------------------------\n",
            "Train - Loss: 31.3723 Accuracy: 0.9657\n",
            "Valid - Loss: 4.6964 Accuracy: 0.9785\n",
            "Epoch 3\n",
            "-------------------------------\n",
            "Train - Loss: 21.3811 Accuracy: 0.9772\n",
            "Valid - Loss: 3.6681 Accuracy: 0.9842\n",
            "Epoch 4\n",
            "-------------------------------\n",
            "Train - Loss: 16.6564 Accuracy: 0.9820\n",
            "Valid - Loss: 3.4652 Accuracy: 0.9846\n",
            "Epoch 5\n",
            "-------------------------------\n",
            "Train - Loss: 13.3695 Accuracy: 0.9857\n",
            "Valid - Loss: 2.6272 Accuracy: 0.9879\n",
            "Done!\n",
            "Valid - Loss: 2.6272 Accuracy: 0.9879\n",
            "  Trial 4 Results: Validation Loss=2.6272, Validation Accuracy=0.9879\n",
            "\n",
            "Starting tuning trial 5/5\n",
            "  Hyperparameters: LR=0.001, Batch Size=32, Filters_conv1=64, Filters_conv2=128, Filters_conv3=128, Dropout=0.5\n",
            "Epoch 1\n",
            "-------------------------------\n",
            "Train - Loss: 393.8361 Accuracy: 0.8760\n",
            "Valid - Loss: 18.8236 Accuracy: 0.9793\n",
            "Epoch 2\n",
            "-------------------------------\n",
            "Train - Loss: 97.1312 Accuracy: 0.9743\n",
            "Valid - Loss: 12.7117 Accuracy: 0.9860\n",
            "Epoch 3\n",
            "-------------------------------\n",
            "Train - Loss: 74.4181 Accuracy: 0.9806\n",
            "Valid - Loss: 11.3263 Accuracy: 0.9892\n",
            "Epoch 4\n",
            "-------------------------------\n",
            "Train - Loss: 58.6804 Accuracy: 0.9852\n",
            "Valid - Loss: 12.9411 Accuracy: 0.9866\n",
            "Epoch 5\n",
            "-------------------------------\n",
            "Train - Loss: 47.7696 Accuracy: 0.9881\n",
            "Valid - Loss: 10.6137 Accuracy: 0.9895\n",
            "Done!\n",
            "Valid - Loss: 10.6137 Accuracy: 0.9895\n",
            "  Trial 5 Results: Validation Loss=10.6137, Validation Accuracy=0.9895\n",
            "\n",
            "Hyperparameter tuning completed.\n"
          ]
        }
      ],
      "source": [
        "num_tuning_trials = 5\n",
        "tuning_results = []\n",
        "epochs_for_tuning = 5\n",
        "\n",
        "for trial in range(num_tuning_trials):\n",
        "    print(f\"Starting tuning trial {trial + 1}/{num_tuning_trials}\")\n",
        "\n",
        "    # Sample hyperparameters\n",
        "    sampled_lr = random.choice(hyperparameter_space['learning_rate'])\n",
        "    sampled_batch_size = random.choice(hyperparameter_space['batch_size'])\n",
        "    sampled_num_filters_conv1 = random.choice(hyperparameter_space['num_filters_conv1'])\n",
        "    sampled_num_filters_conv2 = random.choice(hyperparameter_space['num_filters_conv2'])\n",
        "    sampled_num_filters_conv3 = random.choice(hyperparameter_space['num_filters_conv3'])\n",
        "    sampled_dropout_rate_fc = random.choice(hyperparameter_space['dropout_rate_fc'])\n",
        "\n",
        "    print(f\"  Hyperparameters: LR={sampled_lr}, Batch Size={sampled_batch_size}, Filters_conv1={sampled_num_filters_conv1}, Filters_conv2={sampled_num_filters_conv2}, Filters_conv3={sampled_num_filters_conv3}, Dropout={sampled_dropout_rate_fc}\")\n",
        "\n",
        "    train_data_tuned = DigitDataset(X_train_split, y_train_split, transform=transforms)\n",
        "    train_loader_tuned = DataLoader(train_data_tuned, batch_size=sampled_batch_size, shuffle=True)\n",
        "\n",
        "    test_data_tuned = DigitDataset(X_val, y_val, transform=transforms) # Validation set\n",
        "    test_loader_tuned = DataLoader(test_data_tuned, batch_size=sampled_batch_size, shuffle=False)\n",
        "\n",
        "\n",
        "    model_tuned = DigitNetwork2(\n",
        "        num_filters_conv1=sampled_num_filters_conv1,\n",
        "        num_filters_conv2=sampled_num_filters_conv2,\n",
        "        num_filters_conv3=sampled_num_filters_conv3,\n",
        "        dropout_rate_fc=sampled_dropout_rate_fc\n",
        "    ).to(device)\n",
        "\n",
        "    loss_function_tuned = nn.CrossEntropyLoss()\n",
        "    optimizer_tuned = optim.Adam(model_tuned.parameters(), lr=sampled_lr)\n",
        "\n",
        "    # Trainer instance\n",
        "    trainer_tuned = Trainer(model_tuned, loss_function_tuned, optimizer_tuned, train_loader_tuned, test_loader_tuned, device)\n",
        "    trainer_tuned.fit(epochs_for_tuning)\n",
        "\n",
        "    # Evaluate on validation set\n",
        "    validation_loss = trainer_tuned.test()\n",
        "    validation_accuracy = trainer_tuned.test_accuracies[-1]\n",
        "\n",
        "    print(f\"  Trial {trial + 1} Results: Validation Loss={validation_loss:.4f}, Validation Accuracy={validation_accuracy:.4f}\\n\")\n",
        "\n",
        "    # Store results\n",
        "    tuning_results.append({\n",
        "        'trial': trial + 1,\n",
        "        'learning_rate': sampled_lr,\n",
        "        'batch_size': sampled_batch_size,\n",
        "        'num_filters_conv1': sampled_num_filters_conv1,\n",
        "        'num_filters_conv2': sampled_num_filters_conv2,\n",
        "        'num_filters_conv3': sampled_num_filters_conv3,\n",
        "        'dropout_rate_fc': sampled_dropout_rate_fc,\n",
        "        'validation_loss': validation_loss,\n",
        "        'validation_accuracy': validation_accuracy\n",
        "    })\n",
        "\n",
        "print(\"Hyperparameter tuning completed.\")"
      ]
    },
    {
      "cell_type": "code",
      "execution_count": 92,
      "metadata": {
        "colab": {
          "base_uri": "https://localhost:8080/"
        },
        "id": "01df6681",
        "outputId": "2c04b4c0-b4d3-4c8c-bdc2-876278cbd454"
      },
      "outputs": [
        {
          "output_type": "stream",
          "name": "stdout",
          "text": [
            "Trial 1: Validation Accuracy = 0.9881, Validation Loss = 11.0795\n",
            "Trial 2: Validation Accuracy = 0.9747, Validation Loss = 10.4356\n",
            "Trial 3: Validation Accuracy = 0.9682, Validation Loss = 6.9837\n",
            "Trial 4: Validation Accuracy = 0.9879, Validation Loss = 2.6272\n",
            "Trial 5: Validation Accuracy = 0.9895, Validation Loss = 10.6137\n",
            "\n",
            "Best performing hyperparameters based on validation accuracy:\n",
            "Trial: 5\n",
            "Learning Rate: 0.001\n",
            "Batch Size: 32\n",
            "Num Filters Conv1: 64\n",
            "Num Filters Conv2: 128\n",
            "Num Filters Conv3: 128\n",
            "Dropout Rate FC: 0.5\n",
            "Validation Accuracy: 0.9895\n",
            "Validation Loss: 10.6137\n"
          ]
        }
      ],
      "source": [
        "# Analyze the tuning results to find the best hyperparameters\n",
        "best_trial = None\n",
        "best_accuracy = -1\n",
        "best_loss = float('inf')\n",
        "\n",
        "for result in tuning_results:\n",
        "    print(f\"Trial {result['trial']}: Validation Accuracy = {result['validation_accuracy']:.4f}, Validation Loss = {result['validation_loss']:.4f}\")\n",
        "    if result['validation_accuracy'] > best_accuracy:\n",
        "        best_accuracy = result['validation_accuracy']\n",
        "        best_trial = result\n",
        "    elif result['validation_accuracy'] == best_accuracy and result['validation_loss'] < best_loss:\n",
        "        best_loss = result['validation_loss']\n",
        "        best_trial = result\n",
        "\n",
        "print(\"\\nBest performing hyperparameters based on validation accuracy:\")\n",
        "print(f\"Trial: {best_trial['trial']}\")\n",
        "print(f\"Learning Rate: {best_trial['learning_rate']}\")\n",
        "print(f\"Batch Size: {best_trial['batch_size']}\")\n",
        "print(f\"Num Filters Conv1: {best_trial['num_filters_conv1']}\")\n",
        "print(f\"Num Filters Conv2: {best_trial['num_filters_conv2']}\")\n",
        "print(f\"Num Filters Conv3: {best_trial['num_filters_conv3']}\")\n",
        "print(f\"Dropout Rate FC: {best_trial['dropout_rate_fc']}\")\n",
        "print(f\"Validation Accuracy: {best_trial['validation_accuracy']:.4f}\")\n",
        "print(f\"Validation Loss: {best_trial['validation_loss']:.4f}\")"
      ]
    },
    {
      "cell_type": "code",
      "execution_count": 93,
      "metadata": {
        "colab": {
          "base_uri": "https://localhost:8080/"
        },
        "id": "ce1893ef",
        "outputId": "630e04af-d1aa-44e1-adeb-467e711f987f"
      },
      "outputs": [
        {
          "output_type": "stream",
          "name": "stdout",
          "text": [
            "Epoch 1\n",
            "-------------------------------\n",
            "Train - Loss: 420.7381 Accuracy: 0.8964\n",
            "Valid - Loss: 16.5512 Accuracy: 0.9825\n",
            "Epoch 2\n",
            "-------------------------------\n",
            "Train - Loss: 110.3100 Accuracy: 0.9782\n",
            "Valid - Loss: 10.0384 Accuracy: 0.9891\n",
            "Epoch 3\n",
            "-------------------------------\n",
            "Train - Loss: 79.9653 Accuracy: 0.9838\n",
            "Valid - Loss: 12.5729 Accuracy: 0.9870\n",
            "Epoch 4\n",
            "-------------------------------\n",
            "Train - Loss: 67.8914 Accuracy: 0.9866\n",
            "Valid - Loss: 8.7369 Accuracy: 0.9899\n",
            "Epoch 5\n",
            "-------------------------------\n",
            "Train - Loss: 59.7128 Accuracy: 0.9883\n",
            "Valid - Loss: 5.9469 Accuracy: 0.9944\n",
            "Epoch 6\n",
            "-------------------------------\n",
            "Train - Loss: 43.4131 Accuracy: 0.9907\n",
            "Valid - Loss: 3.0769 Accuracy: 0.9968\n",
            "Epoch 7\n",
            "-------------------------------\n",
            "Train - Loss: 41.7799 Accuracy: 0.9915\n",
            "Valid - Loss: 3.3570 Accuracy: 0.9966\n",
            "Epoch 8\n",
            "-------------------------------\n",
            "Train - Loss: 42.6344 Accuracy: 0.9917\n",
            "Valid - Loss: 2.6740 Accuracy: 0.9976\n",
            "Epoch 9\n",
            "-------------------------------\n",
            "Train - Loss: 37.7656 Accuracy: 0.9928\n",
            "Valid - Loss: 1.3828 Accuracy: 0.9983\n",
            "Epoch 10\n",
            "-------------------------------\n",
            "Train - Loss: 34.3838 Accuracy: 0.9933\n",
            "Valid - Loss: 3.1410 Accuracy: 0.9962\n",
            "Epoch 11\n",
            "-------------------------------\n",
            "Train - Loss: 27.9616 Accuracy: 0.9941\n",
            "Valid - Loss: 1.6101 Accuracy: 0.9982\n",
            "Epoch 12\n",
            "-------------------------------\n",
            "Train - Loss: 29.4848 Accuracy: 0.9946\n",
            "Valid - Loss: 1.4544 Accuracy: 0.9985\n",
            "Epoch 13\n",
            "-------------------------------\n",
            "Train - Loss: 27.7775 Accuracy: 0.9947\n",
            "Valid - Loss: 1.2232 Accuracy: 0.9979\n",
            "Epoch 14\n",
            "-------------------------------\n",
            "Train - Loss: 26.6615 Accuracy: 0.9945\n",
            "Valid - Loss: 1.4230 Accuracy: 0.9983\n",
            "Epoch 15\n",
            "-------------------------------\n",
            "Train - Loss: 22.7093 Accuracy: 0.9956\n",
            "Valid - Loss: 0.9220 Accuracy: 0.9990\n",
            "Epoch 16\n",
            "-------------------------------\n",
            "Train - Loss: 27.0667 Accuracy: 0.9953\n",
            "Valid - Loss: 0.5772 Accuracy: 0.9993\n",
            "Epoch 17\n",
            "-------------------------------\n",
            "Train - Loss: 22.5337 Accuracy: 0.9962\n",
            "Valid - Loss: 1.7838 Accuracy: 0.9982\n",
            "Epoch 18\n",
            "-------------------------------\n",
            "Train - Loss: 23.1381 Accuracy: 0.9955\n",
            "Valid - Loss: 0.7276 Accuracy: 0.9992\n",
            "Epoch 19\n",
            "-------------------------------\n",
            "Train - Loss: 18.1025 Accuracy: 0.9967\n",
            "Valid - Loss: 0.4537 Accuracy: 0.9994\n",
            "Epoch 20\n",
            "-------------------------------\n",
            "Train - Loss: 23.1583 Accuracy: 0.9964\n",
            "Valid - Loss: 1.2383 Accuracy: 0.9988\n",
            "Epoch 21\n",
            "-------------------------------\n",
            "Train - Loss: 18.6585 Accuracy: 0.9966\n",
            "Valid - Loss: 0.3710 Accuracy: 0.9994\n",
            "Epoch 22\n",
            "-------------------------------\n",
            "Train - Loss: 20.9120 Accuracy: 0.9965\n",
            "Valid - Loss: 2.4554 Accuracy: 0.9970\n",
            "Epoch 23\n",
            "-------------------------------\n",
            "Train - Loss: 23.3953 Accuracy: 0.9960\n",
            "Valid - Loss: 0.3058 Accuracy: 0.9996\n",
            "Epoch 24\n",
            "-------------------------------\n",
            "Train - Loss: 14.9450 Accuracy: 0.9973\n",
            "Valid - Loss: 0.7669 Accuracy: 0.9990\n",
            "Epoch 25\n",
            "-------------------------------\n",
            "Train - Loss: 20.7017 Accuracy: 0.9963\n",
            "Valid - Loss: 0.5378 Accuracy: 0.9993\n",
            "Epoch 26\n",
            "-------------------------------\n",
            "Train - Loss: 17.3776 Accuracy: 0.9969\n",
            "Valid - Loss: 1.5823 Accuracy: 0.9988\n",
            "Epoch 27\n",
            "-------------------------------\n",
            "Train - Loss: 18.1102 Accuracy: 0.9969\n",
            "Valid - Loss: 0.8534 Accuracy: 0.9992\n",
            "Epoch 28\n",
            "-------------------------------\n",
            "Train - Loss: 21.5013 Accuracy: 0.9966\n",
            "Valid - Loss: 0.9561 Accuracy: 0.9988\n",
            "Early stopping after 28 epochs\n",
            "Done!\n"
          ]
        },
        {
          "output_type": "execute_result",
          "data": {
            "text/plain": [
              "DigitNetwork2(\n",
              "  (conv1): Conv2d(1, 64, kernel_size=(3, 3), stride=(1, 1), padding=(1, 1))\n",
              "  (conv2): Conv2d(64, 128, kernel_size=(3, 3), stride=(1, 1), padding=(1, 1))\n",
              "  (conv3): Conv2d(128, 128, kernel_size=(3, 3), stride=(1, 1), padding=(1, 1))\n",
              "  (pool): MaxPool2d(kernel_size=2, stride=2, padding=0, dilation=1, ceil_mode=False)\n",
              "  (flatten): Flatten(start_dim=1, end_dim=-1)\n",
              "  (layers): Sequential(\n",
              "    (0): Linear(in_features=1152, out_features=512, bias=True)\n",
              "    (1): ReLU()\n",
              "    (2): Dropout(p=0.5, inplace=False)\n",
              "    (3): Linear(in_features=512, out_features=256, bias=True)\n",
              "    (4): ReLU()\n",
              "    (5): Dropout(p=0.5, inplace=False)\n",
              "    (6): Linear(in_features=256, out_features=128, bias=True)\n",
              "    (7): ReLU()\n",
              "    (8): Linear(in_features=128, out_features=10, bias=True)\n",
              "  )\n",
              ")"
            ]
          },
          "metadata": {},
          "execution_count": 93
        }
      ],
      "source": [
        "# Create data loaders with the best batch size\n",
        "best_batch_size = best_trial['batch_size']\n",
        "\n",
        "full_train_data_final = DigitDataset(X_train, y, transform=transforms)\n",
        "full_train_loader_final = DataLoader(full_train_data_final, batch_size=best_batch_size, shuffle=True)\n",
        "\n",
        "test_data_final = DigitDataset(X_val, y_val, transform=transforms) # Validation set\n",
        "test_loader_final = DataLoader(test_data_final, batch_size=best_batch_size, shuffle=False)\n",
        "\n",
        "\n",
        "# Create model, loss function, and optimizer with best hyperparameters\n",
        "model_final = DigitNetwork2(\n",
        "    num_filters_conv1=best_trial['num_filters_conv1'],\n",
        "    num_filters_conv2=best_trial['num_filters_conv2'],\n",
        "    num_filters_conv3=best_trial['num_filters_conv3'],\n",
        "    dropout_rate_fc=best_trial['dropout_rate_fc']\n",
        ").to(device)\n",
        "\n",
        "loss_function_final = nn.CrossEntropyLoss()\n",
        "optimizer_final = optim.Adam(model_final.parameters(), lr=best_trial['learning_rate'])\n",
        "\n",
        "trainer_final = Trainer(model_final, loss_function_final, optimizer_final, full_train_loader_final, test_loader_final, device)\n",
        "trainer_final.fit(30)"
      ]
    },
    {
      "cell_type": "code",
      "execution_count": 94,
      "metadata": {
        "colab": {
          "base_uri": "https://localhost:8080/",
          "height": 480
        },
        "id": "qSWRQTqq3q-t",
        "outputId": "21b2e752-f7c4-4252-faa1-fc6eeb4e7f0b"
      },
      "outputs": [
        {
          "output_type": "display_data",
          "data": {
            "text/plain": [
              "<Figure size 1200x500 with 2 Axes>"
            ],
            "image/png": "[encoded data removed]"
          },
          "metadata": {}
        }
      ],
      "source": [
        "trainer_final.plot_curves()"
      ]
    },
    {
      "cell_type": "code",
      "execution_count": 95,
      "metadata": {
        "colab": {
          "base_uri": "https://localhost:8080/"
        },
        "id": "WIuW7aPo-XDL",
        "outputId": "b981146b-7881-4dae-c74f-1d60762c14c5"
      },
      "outputs": [
        {
          "output_type": "stream",
          "name": "stdout",
          "text": [
            "8400\n",
            "[8, 1, 9, 9, 8, 6, 2, 2, 7, 1]\n"
          ]
        }
      ],
      "source": [
        "model_final.eval()\n",
        "predictions = []\n",
        "with torch.no_grad():\n",
        "    for batch in test_loader_final:\n",
        "        x = batch[0].to(device)\n",
        "        output = model_final(x)\n",
        "        predicted_classes = output.argmax(dim=1)\n",
        "        predictions.extend(predicted_classes.tolist())\n",
        "\n",
        "print(len(predictions))\n",
        "print(predictions[:10])"
      ]
    },
    {
      "cell_type": "code",
      "execution_count": 96,
      "metadata": {
        "colab": {
          "base_uri": "https://localhost:8080/"
        },
        "id": "oVHB9FrNB5hA",
        "outputId": "c6ef30e5-72b7-4758-ab06-4b1be21f8865"
      },
      "outputs": [
        {
          "output_type": "stream",
          "name": "stdout",
          "text": [
            "28000\n",
            "[2, 0, 9, 9, 3, 7, 0, 3, 0, 3]\n"
          ]
        }
      ],
      "source": [
        "model_final.eval()\n",
        "predictions = []\n",
        "with torch.no_grad():\n",
        "    for x in test_loader_nolabel:\n",
        "        x = x.to(device)\n",
        "        output = model_final(x)\n",
        "        predicted_classes = output.argmax(dim=1)\n",
        "        predictions.extend(predicted_classes.tolist())\n",
        "\n",
        "print(len(predictions))\n",
        "print(predictions[:10])"
      ]
    },
    {
      "cell_type": "code",
      "execution_count": 97,
      "metadata": {
        "colab": {
          "base_uri": "https://localhost:8080/"
        },
        "id": "TqZ5RPl5Byki",
        "outputId": "b08a791e-3033-4d74-b089-3a8431bd1612"
      },
      "outputs": [
        {
          "output_type": "execute_result",
          "data": {
            "text/plain": [
              "28000"
            ]
          },
          "metadata": {},
          "execution_count": 97
        }
      ],
      "source": [
        "len(predictions)"
      ]
    },
    {
      "cell_type": "code",
      "execution_count": 98,
      "metadata": {
        "colab": {
          "base_uri": "https://localhost:8080/",
          "height": 153
        },
        "id": "Xxy8iN4X_Q5v",
        "outputId": "7e9304b7-7c3e-47bc-a610-5b941118d6ae"
      },
      "outputs": [
        {
          "output_type": "display_data",
          "data": {
            "text/plain": [
              "<Figure size 100x100 with 1 Axes>"
            ],
            "image/png": "[encoded data removed]"
          },
          "metadata": {}
        },
        {
          "output_type": "stream",
          "name": "stdout",
          "text": [
            "1001\n"
          ]
        }
      ],
      "source": [
        "i = random.randint(0, len(predictions) - 1)\n",
        "plt.figure(figsize=(1, 1))\n",
        "plt.imshow(X_test.iloc[i, :].values.reshape(28, 28), cmap=\"gray\")\n",
        "plt.title(f\"Prediction: {predictions[i]}\")\n",
        "plt.axis('off')\n",
        "plt.show()\n",
        "print(i)"
      ]
    },
    {
      "cell_type": "code",
      "execution_count": 99,
      "metadata": {
        "id": "xI-_ciOO__q0"
      },
      "outputs": [],
      "source": [
        "# Submission\n",
        "submission_df = pd.DataFrame({'ImageId': range(1, len(predictions) + 1), 'Label': predictions})\n",
        "submission_df.to_csv('submission.csv', index=False)"
      ]
    }
  ],
  "metadata": {
    "accelerator": "GPU",
    "colab": {
      "gpuType": "T4",
      "provenance": [],
      "authorship_tag": "ABX9TyMj0IKwyxN/CHV6c9TGYGXK",
      "include_colab_link": true
    },
    "kernelspec": {
      "display_name": "Python 3",
      "name": "python3"
    },
    "language_info": {
      "name": "python"
    }
  },
  "nbformat": 4,
  "nbformat_minor": 0
}